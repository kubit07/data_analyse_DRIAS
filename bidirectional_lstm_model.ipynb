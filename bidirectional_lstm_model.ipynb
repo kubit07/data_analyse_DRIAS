{
 "cells": [
  {
   "cell_type": "code",
   "execution_count": 18,
   "id": "72e7b0fb",
   "metadata": {},
   "outputs": [],
   "source": [
    "import numpy as np\n",
    "import pandas as pd\n",
    "import matplotlib.dates as mdates\n",
    "import matplotlib.pyplot as plt\n",
    "import matplotlib.dates as mdates\n",
    "import seaborn as sns\n",
    "\n",
    "from sklearn.metrics import mean_squared_error, r2_score, mean_absolute_error\n",
    "from sklearn.preprocessing import RobustScaler, MinMaxScaler\n",
    "\n",
    "from tensorflow.keras.models import Sequential\n",
    "from tensorflow.keras.layers import SimpleRNN, Dense\n",
    "from tensorflow.keras.callbacks import EarlyStopping\n",
    "from tensorflow.keras.layers import LSTM, Bidirectional, GRU"
   ]
  },
  {
   "cell_type": "code",
   "execution_count": 19,
   "id": "b382f820",
   "metadata": {},
   "outputs": [],
   "source": [
    "# Températures, Humidité\n",
    "Temp_HR = ['N1NTemp', 'N1ETemp', 'N1STemp', 'N1OTemp', 'S1NTemp', 'S1OTemp', 'N2STemp', 'N2OTemp', 'N2ETemp', 'N2NTemp', 'S2STemp', 'S2OTemp', 'S2ETemp', 'S2NTemp', 'N2SHR', 'N2OHR', 'N2EHR', 'N2NHR', 'S2SHR', 'S2OHR', 'S2EHR', 'S2NHR']\n",
    "\n",
    "# Humidité, Températures (Tour Nord 2 Etages)\n",
    "tour_nord_2_temp_HR = [(\"N2STemp\", \"N2SHR\"), (\"N2OTemp\", \"N2OHR\"), (\"N2ETemp\", \"N2EHR\"), (\"N2NTemp\", \"N2NHR\")]\n",
    "tour_sud_2_temp_HR = [(\"S2STemp\", \"S2SHR\"), (\"S2OTemp\", \"S2OHR\"), (\"S2ETemp\", \"S2EHR\"), (\"S2NTemp\", \"S2NHR\")]"
   ]
  },
  {
   "cell_type": "code",
   "execution_count": 20,
   "id": "5849d563",
   "metadata": {},
   "outputs": [],
   "source": [
    "def split_dataframe(df, train_size=0.7, val_size=0.2):\n",
    "    \"\"\"\n",
    "    Découpe un DataFrame temporel en trois parties : train, val, test,\n",
    "    en respectant l'ordre chronologique.\n",
    "\n",
    "    Args:\n",
    "        df (pd.DataFrame): Données à découper (indexé ou non par le temps)\n",
    "        train_size (float): Proportion pour l'ensemble d'entraînement\n",
    "        val_size (float): Proportion pour la validation\n",
    "\n",
    "    Returns:\n",
    "        df_train, df_val, df_test (DataFrames)\n",
    "    \"\"\"\n",
    "    n = len(df)\n",
    "    train_end = int(n * train_size)\n",
    "    val_end = int(n * (train_size + val_size))\n",
    "\n",
    "    df_train = df.iloc[:train_end]\n",
    "    df_val = df.iloc[train_end:val_end]\n",
    "    df_test = df.iloc[val_end:]\n",
    "\n",
    "    print(f\"Train size : {len(df_train)}\")\n",
    "    print(f\"Val size : {len(df_val)}\")\n",
    "    print(f\"Test size : {len(df_test)}\")\n",
    "\n",
    "    return df_train.copy(), df_val.copy(), df_test.copy()"
   ]
  },
  {
   "cell_type": "code",
   "execution_count": 21,
   "id": "7ea12f9d",
   "metadata": {},
   "outputs": [],
   "source": [
    "def evaluate_model(y_true, y_pred):\n",
    "    \"\"\"\n",
    "    Calcule et affiche les métriques MAE, RMSE et R² entre les vraies valeurs et les prédictions.\n",
    "\n",
    "    Args:\n",
    "        y_true (array-like): Valeurs réelles.\n",
    "        y_pred (array-like): Valeurs prédites.\n",
    "    \"\"\"\n",
    "    mae = mean_absolute_error(y_true, y_pred)\n",
    "    rmse = np.sqrt(mean_squared_error(y_true, y_pred))\n",
    "    r2 = r2_score(y_true, y_pred)\n",
    "\n",
    "    print(f'MAE: {mae:.4f}')\n",
    "    print(f'RMSE: {rmse:.4f}')\n",
    "    print(f'R2 Score: {r2:.4f}')"
   ]
  },
  {
   "cell_type": "code",
   "execution_count": 22,
   "id": "cea295d6",
   "metadata": {},
   "outputs": [],
   "source": [
    "def create_dataset(X, y, time_steps=1):  \n",
    "    Xs, ys = [], []   \n",
    "    for i in range(len(X) - time_steps):   \n",
    "        v = X.iloc[i:(i + time_steps)].values \n",
    "        Xs.append(v)      \n",
    "        ys.append(y.iloc[i + time_steps])\n",
    "    return np.array(Xs), np.array(ys)\n",
    "\n",
    "    \"\"\"\n",
    "This function prepares the input features and target values in the format required for training a recurrent neural network (RNN) or LSTM model for sequential prediction tasks. It creates sequences of input features and their corresponding target values, which can be fed into the model during training.\n",
    "\n",
    "    - X: This parameter represents the input features, typically a pandas DataFrame containing multiple time-series variables such as temperature, humidity, etc.\n",
    "    - y: This parameter represents the target values, which are typically the values we want to predict based on the input features.\n",
    "    - time_steps: This parameter defines the length of each sequence. It determines how many data points from the past will be used to predict the next data point. For example, if time_steps is set to 3, the function will create sequences of three consecutive data points as input features and the next data point as the target value.\n",
    "    \"\"\""
   ]
  },
  {
   "cell_type": "code",
   "execution_count": 23,
   "id": "49a088ab",
   "metadata": {},
   "outputs": [],
   "source": [
    "def build_and_train_bilstm(X_train, y_train, X_val, y_val, sequence_length, units=100, \n",
    "                           activation='tanh', epochs=30, batch_size=32, patience=10):\n",
    "    \"\"\"\n",
    "    Construit, entraîne et évalue un modèle BiLSTM avec early stopping.\n",
    "\n",
    "    Args:\n",
    "        X_train (ndarray): Données d'entraînement (3D).\n",
    "        y_train (ndarray): Cibles d'entraînement.\n",
    "        X_val (ndarray): Données de validation (3D).\n",
    "        y_val (ndarray): Cibles de validation.\n",
    "        sequence_length (int): Longueur des séquences en entrée.\n",
    "        units (int): Nombre de neurones dans la couche LSTM.\n",
    "        activation (str): Fonction d'activation de la couche LSTM.\n",
    "        epochs (int): Nombre d’époques d’entraînement.\n",
    "        batch_size (int): Taille de lot pour l’entraînement.\n",
    "        patience (int): Patience pour l’early stopping.\n",
    "\n",
    "    Returns:\n",
    "        model: Le modèle entraîné.\n",
    "        history: L'historique d'entraînement.\n",
    "        val_loss: La perte de validation finale.\n",
    "    \"\"\"\n",
    "    model = Sequential()\n",
    "    model.add(Bidirectional(LSTM(units, activation=activation, input_shape=(sequence_length, X_train.shape[2]))))\n",
    "    model.add(Dense(1))\n",
    "    model.compile(optimizer='adam', loss='mse')\n",
    "\n",
    "    early_stopping = EarlyStopping(monitor='val_loss', patience=patience, restore_best_weights=True)\n",
    "\n",
    "    history = model.fit(\n",
    "        X_train, y_train,\n",
    "        validation_data=(X_val, y_val),\n",
    "        epochs=epochs,\n",
    "        batch_size=batch_size,\n",
    "        callbacks=[early_stopping],\n",
    "        verbose=1\n",
    "    )\n",
    "\n",
    "    val_loss = model.evaluate(X_val, y_val, verbose=0)\n",
    "    display(f'Validation Loss: {val_loss}')\n",
    "\n",
    "    return model, history, val_loss"
   ]
  },
  {
   "cell_type": "code",
   "execution_count": 24,
   "id": "aa105ef9",
   "metadata": {},
   "outputs": [],
   "source": [
    "def load_data_drias(path_fichier_excel):\n",
    "    \"\"\"\n",
    "    Charge un fichier Excel DRIAS avec une colonne 'Date' au format '%d/%m/%Y',\n",
    "    et retourne un DataFrame avec la date en index.\n",
    "\n",
    "    Args:\n",
    "        path_fichier_excel (str): Chemin vers le fichier Excel.\n",
    "\n",
    "    Returns:\n",
    "        pd.DataFrame: Données DRIAS avec l'index daté.\n",
    "    \"\"\"\n",
    "    df = pd.read_excel(path_fichier_excel)\n",
    "    df['Date'] = pd.to_datetime(df['Date'], format='%d/%m/%Y')\n",
    "    df.set_index('Date', inplace=True)\n",
    "    display(df.tail())\n",
    "    return df"
   ]
  },
  {
   "cell_type": "code",
   "execution_count": 25,
   "id": "af30ced0",
   "metadata": {},
   "outputs": [],
   "source": [
    "def predict_and_inverse_transform(model, X, y, target_transformer):\n",
    "    \"\"\"\n",
    "    Effectue la prédiction avec le modèle donné et applique l'inverse de la transformation \n",
    "    sur les prédictions et les vraies valeurs cibles.\n",
    "\n",
    "    Args:\n",
    "        model: Modèle entraîné (ex. BiLSTM).\n",
    "        X_val: Données d'entrée de validation.\n",
    "        y_val: Vraies valeurs cibles de validation.\n",
    "        target_transformer: Transformateur utilisé pour normaliser les cibles (ex. MinMaxScaler).\n",
    "\n",
    "    Returns:\n",
    "        Tuple (y_pred_original_scale, y_true_original_scale)\n",
    "    \"\"\"\n",
    "    # Prédiction\n",
    "    y_pred = model.predict(X)\n",
    "\n",
    "    # Inversion de la transformation des prédictions\n",
    "    y_pred_inv = target_transformer.inverse_transform(y_pred)\n",
    "\n",
    "    # Reshape puis inversion de la transformation des vraies valeurs\n",
    "    y_val = y_val.reshape(-1, 1)\n",
    "    y_val_inv = target_transformer.inverse_transform(y)\n",
    "\n",
    "    return y_pred_inv, y_val_inv"
   ]
  },
  {
   "cell_type": "markdown",
   "id": "50e8e6f1",
   "metadata": {},
   "source": [
    "#### **Dataset DRIAS RCP**"
   ]
  },
  {
   "cell_type": "code",
   "execution_count": 26,
   "id": "ca3e6e4a",
   "metadata": {},
   "outputs": [
    {
     "data": {
      "application/vnd.microsoft.datawrangler.viewer.v0+json": {
       "columns": [
        {
         "name": "Date",
         "rawType": "datetime64[ns]",
         "type": "datetime"
        },
        {
         "name": "Latitude",
         "rawType": "float64",
         "type": "float"
        },
        {
         "name": "Longitude",
         "rawType": "float64",
         "type": "float"
        },
        {
         "name": "tasminAdjust",
         "rawType": "float64",
         "type": "float"
        },
        {
         "name": "tasmaxAdjust",
         "rawType": "float64",
         "type": "float"
        },
        {
         "name": "tasAdjust",
         "rawType": "float64",
         "type": "float"
        },
        {
         "name": "prtotAdjust",
         "rawType": "float64",
         "type": "float"
        },
        {
         "name": "prsnAdjust",
         "rawType": "float64",
         "type": "float"
        },
        {
         "name": "hussAdjust",
         "rawType": "float64",
         "type": "float"
        },
        {
         "name": "rsdsAdjust",
         "rawType": "float64",
         "type": "float"
        },
        {
         "name": "rldsAdjust",
         "rawType": "float64",
         "type": "float"
        },
        {
         "name": "sfcWindAdjust",
         "rawType": "float64",
         "type": "float"
        },
        {
         "name": "evspsblpotAdjust",
         "rawType": "float64",
         "type": "float"
        }
       ],
       "ref": "86a1b02d-6e6a-426a-89d8-5ca1b4f27b7a",
       "rows": [
        [
         "2100-12-27 00:00:00",
         "49.2427",
         "4.03882",
         "0.67",
         "4.61",
         "2.63",
         "0.0",
         "0.0",
         "3.508",
         "53.907",
         "263.422",
         "12.37",
         "0.591"
        ],
        [
         "2100-12-28 00:00:00",
         "49.2427",
         "4.03882",
         "-0.74",
         "2.53",
         "0.72",
         "1.015",
         "0.644",
         "3.386",
         "12.878",
         "314.804",
         "13.65",
         "0.432"
        ],
        [
         "2100-12-29 00:00:00",
         "49.2427",
         "4.03882",
         "-1.1",
         "1.2",
         "-0.24",
         "0.381",
         "0.381",
         "3.521",
         "18.212",
         "310.789",
         "4.29",
         "0.185"
        ],
        [
         "2100-12-30 00:00:00",
         "49.2427",
         "4.03882",
         "-3.13",
         "0.07",
         "-1.5",
         "0.069",
         "0.0",
         "2.961",
         "11.396",
         "312.622",
         "5.85",
         "0.196"
        ],
        [
         "2100-12-31 00:00:00",
         "49.2427",
         "4.03882",
         "-1.72",
         "2.36",
         "0.88",
         "0.192",
         "0.091",
         "3.459",
         "31.068",
         "300.079",
         "5.88",
         "0.183"
        ]
       ],
       "shape": {
        "columns": 12,
        "rows": 5
       }
      },
      "text/html": [
       "<div>\n",
       "<style scoped>\n",
       "    .dataframe tbody tr th:only-of-type {\n",
       "        vertical-align: middle;\n",
       "    }\n",
       "\n",
       "    .dataframe tbody tr th {\n",
       "        vertical-align: top;\n",
       "    }\n",
       "\n",
       "    .dataframe thead th {\n",
       "        text-align: right;\n",
       "    }\n",
       "</style>\n",
       "<table border=\"1\" class=\"dataframe\">\n",
       "  <thead>\n",
       "    <tr style=\"text-align: right;\">\n",
       "      <th></th>\n",
       "      <th>Latitude</th>\n",
       "      <th>Longitude</th>\n",
       "      <th>tasminAdjust</th>\n",
       "      <th>tasmaxAdjust</th>\n",
       "      <th>tasAdjust</th>\n",
       "      <th>prtotAdjust</th>\n",
       "      <th>prsnAdjust</th>\n",
       "      <th>hussAdjust</th>\n",
       "      <th>rsdsAdjust</th>\n",
       "      <th>rldsAdjust</th>\n",
       "      <th>sfcWindAdjust</th>\n",
       "      <th>evspsblpotAdjust</th>\n",
       "    </tr>\n",
       "    <tr>\n",
       "      <th>Date</th>\n",
       "      <th></th>\n",
       "      <th></th>\n",
       "      <th></th>\n",
       "      <th></th>\n",
       "      <th></th>\n",
       "      <th></th>\n",
       "      <th></th>\n",
       "      <th></th>\n",
       "      <th></th>\n",
       "      <th></th>\n",
       "      <th></th>\n",
       "      <th></th>\n",
       "    </tr>\n",
       "  </thead>\n",
       "  <tbody>\n",
       "    <tr>\n",
       "      <th>2100-12-27</th>\n",
       "      <td>49.2427</td>\n",
       "      <td>4.03882</td>\n",
       "      <td>0.67</td>\n",
       "      <td>4.61</td>\n",
       "      <td>2.63</td>\n",
       "      <td>0.000</td>\n",
       "      <td>0.000</td>\n",
       "      <td>3.508</td>\n",
       "      <td>53.907</td>\n",
       "      <td>263.422</td>\n",
       "      <td>12.37</td>\n",
       "      <td>0.591</td>\n",
       "    </tr>\n",
       "    <tr>\n",
       "      <th>2100-12-28</th>\n",
       "      <td>49.2427</td>\n",
       "      <td>4.03882</td>\n",
       "      <td>-0.74</td>\n",
       "      <td>2.53</td>\n",
       "      <td>0.72</td>\n",
       "      <td>1.015</td>\n",
       "      <td>0.644</td>\n",
       "      <td>3.386</td>\n",
       "      <td>12.878</td>\n",
       "      <td>314.804</td>\n",
       "      <td>13.65</td>\n",
       "      <td>0.432</td>\n",
       "    </tr>\n",
       "    <tr>\n",
       "      <th>2100-12-29</th>\n",
       "      <td>49.2427</td>\n",
       "      <td>4.03882</td>\n",
       "      <td>-1.10</td>\n",
       "      <td>1.20</td>\n",
       "      <td>-0.24</td>\n",
       "      <td>0.381</td>\n",
       "      <td>0.381</td>\n",
       "      <td>3.521</td>\n",
       "      <td>18.212</td>\n",
       "      <td>310.789</td>\n",
       "      <td>4.29</td>\n",
       "      <td>0.185</td>\n",
       "    </tr>\n",
       "    <tr>\n",
       "      <th>2100-12-30</th>\n",
       "      <td>49.2427</td>\n",
       "      <td>4.03882</td>\n",
       "      <td>-3.13</td>\n",
       "      <td>0.07</td>\n",
       "      <td>-1.50</td>\n",
       "      <td>0.069</td>\n",
       "      <td>0.000</td>\n",
       "      <td>2.961</td>\n",
       "      <td>11.396</td>\n",
       "      <td>312.622</td>\n",
       "      <td>5.85</td>\n",
       "      <td>0.196</td>\n",
       "    </tr>\n",
       "    <tr>\n",
       "      <th>2100-12-31</th>\n",
       "      <td>49.2427</td>\n",
       "      <td>4.03882</td>\n",
       "      <td>-1.72</td>\n",
       "      <td>2.36</td>\n",
       "      <td>0.88</td>\n",
       "      <td>0.192</td>\n",
       "      <td>0.091</td>\n",
       "      <td>3.459</td>\n",
       "      <td>31.068</td>\n",
       "      <td>300.079</td>\n",
       "      <td>5.88</td>\n",
       "      <td>0.183</td>\n",
       "    </tr>\n",
       "  </tbody>\n",
       "</table>\n",
       "</div>"
      ],
      "text/plain": [
       "            Latitude  Longitude  tasminAdjust  tasmaxAdjust  tasAdjust  \\\n",
       "Date                                                                     \n",
       "2100-12-27   49.2427    4.03882          0.67          4.61       2.63   \n",
       "2100-12-28   49.2427    4.03882         -0.74          2.53       0.72   \n",
       "2100-12-29   49.2427    4.03882         -1.10          1.20      -0.24   \n",
       "2100-12-30   49.2427    4.03882         -3.13          0.07      -1.50   \n",
       "2100-12-31   49.2427    4.03882         -1.72          2.36       0.88   \n",
       "\n",
       "            prtotAdjust  prsnAdjust  hussAdjust  rsdsAdjust  rldsAdjust  \\\n",
       "Date                                                                      \n",
       "2100-12-27        0.000       0.000       3.508      53.907     263.422   \n",
       "2100-12-28        1.015       0.644       3.386      12.878     314.804   \n",
       "2100-12-29        0.381       0.381       3.521      18.212     310.789   \n",
       "2100-12-30        0.069       0.000       2.961      11.396     312.622   \n",
       "2100-12-31        0.192       0.091       3.459      31.068     300.079   \n",
       "\n",
       "            sfcWindAdjust  evspsblpotAdjust  \n",
       "Date                                         \n",
       "2100-12-27          12.37             0.591  \n",
       "2100-12-28          13.65             0.432  \n",
       "2100-12-29           4.29             0.185  \n",
       "2100-12-30           5.85             0.196  \n",
       "2100-12-31           5.88             0.183  "
      ]
     },
     "metadata": {},
     "output_type": "display_data"
    }
   ],
   "source": [
    "data_rcp_2_6 = load_data_drias('Drias/CNRM-CERFACS-CNRM-CM5_CNRM-ALADIN63_rcp2.6_METEO-FRANCE_ADAMONT-France_SAFRAN_day_2006_2100.xlsx')"
   ]
  },
  {
   "cell_type": "code",
   "execution_count": 27,
   "id": "b2114086",
   "metadata": {},
   "outputs": [
    {
     "data": {
      "application/vnd.microsoft.datawrangler.viewer.v0+json": {
       "columns": [
        {
         "name": "Date",
         "rawType": "datetime64[ns]",
         "type": "datetime"
        },
        {
         "name": "Latitude",
         "rawType": "float64",
         "type": "float"
        },
        {
         "name": "Longitude",
         "rawType": "float64",
         "type": "float"
        },
        {
         "name": "tasminAdjust",
         "rawType": "float64",
         "type": "float"
        },
        {
         "name": "tasmaxAdjust",
         "rawType": "float64",
         "type": "float"
        },
        {
         "name": "tasAdjust",
         "rawType": "float64",
         "type": "float"
        },
        {
         "name": "prtotAdjust",
         "rawType": "float64",
         "type": "float"
        },
        {
         "name": "prsnAdjust",
         "rawType": "float64",
         "type": "float"
        },
        {
         "name": "hussAdjust",
         "rawType": "float64",
         "type": "float"
        },
        {
         "name": "rsdsAdjust",
         "rawType": "float64",
         "type": "float"
        },
        {
         "name": "rldsAdjust",
         "rawType": "float64",
         "type": "float"
        },
        {
         "name": "sfcWindAdjust",
         "rawType": "float64",
         "type": "float"
        },
        {
         "name": "evspsblpotAdjust",
         "rawType": "float64",
         "type": "float"
        }
       ],
       "ref": "0f43bad1-dedd-40d7-8135-a09f1b464cc1",
       "rows": [
        [
         "2100-12-27 00:00:00",
         "49.2427",
         "4.03882",
         "1.0",
         "9.48",
         "4.55",
         "0.0",
         "0.0",
         "4.967",
         "51.618",
         "286.619",
         "11.37",
         "0.2"
        ],
        [
         "2100-12-28 00:00:00",
         "49.2427",
         "4.03882",
         "4.14",
         "11.98",
         "8.26",
         "3.633",
         "0.0",
         "5.91",
         "38.051",
         "318.954",
         "14.5",
         "0.37"
        ],
        [
         "2100-12-29 00:00:00",
         "49.2427",
         "4.03882",
         "4.61",
         "9.58",
         "8.07",
         "2.746",
         "0.0",
         "5.18",
         "30.541",
         "324.057",
         "15.67",
         "0.614"
        ],
        [
         "2100-12-30 00:00:00",
         "49.2427",
         "4.03882",
         "6.15",
         "10.11",
         "7.57",
         "9.368",
         "0.0",
         "5.884",
         "17.554",
         "334.634",
         "36.97",
         "0.764"
        ],
        [
         "2100-12-31 00:00:00",
         "49.2427",
         "4.03882",
         "5.4",
         "6.59",
         "6.08",
         "2.348",
         "0.0",
         "5.043",
         "15.093",
         "337.72",
         "18.19",
         "0.618"
        ]
       ],
       "shape": {
        "columns": 12,
        "rows": 5
       }
      },
      "text/html": [
       "<div>\n",
       "<style scoped>\n",
       "    .dataframe tbody tr th:only-of-type {\n",
       "        vertical-align: middle;\n",
       "    }\n",
       "\n",
       "    .dataframe tbody tr th {\n",
       "        vertical-align: top;\n",
       "    }\n",
       "\n",
       "    .dataframe thead th {\n",
       "        text-align: right;\n",
       "    }\n",
       "</style>\n",
       "<table border=\"1\" class=\"dataframe\">\n",
       "  <thead>\n",
       "    <tr style=\"text-align: right;\">\n",
       "      <th></th>\n",
       "      <th>Latitude</th>\n",
       "      <th>Longitude</th>\n",
       "      <th>tasminAdjust</th>\n",
       "      <th>tasmaxAdjust</th>\n",
       "      <th>tasAdjust</th>\n",
       "      <th>prtotAdjust</th>\n",
       "      <th>prsnAdjust</th>\n",
       "      <th>hussAdjust</th>\n",
       "      <th>rsdsAdjust</th>\n",
       "      <th>rldsAdjust</th>\n",
       "      <th>sfcWindAdjust</th>\n",
       "      <th>evspsblpotAdjust</th>\n",
       "    </tr>\n",
       "    <tr>\n",
       "      <th>Date</th>\n",
       "      <th></th>\n",
       "      <th></th>\n",
       "      <th></th>\n",
       "      <th></th>\n",
       "      <th></th>\n",
       "      <th></th>\n",
       "      <th></th>\n",
       "      <th></th>\n",
       "      <th></th>\n",
       "      <th></th>\n",
       "      <th></th>\n",
       "      <th></th>\n",
       "    </tr>\n",
       "  </thead>\n",
       "  <tbody>\n",
       "    <tr>\n",
       "      <th>2100-12-27</th>\n",
       "      <td>49.2427</td>\n",
       "      <td>4.03882</td>\n",
       "      <td>1.00</td>\n",
       "      <td>9.48</td>\n",
       "      <td>4.55</td>\n",
       "      <td>0.000</td>\n",
       "      <td>0.0</td>\n",
       "      <td>4.967</td>\n",
       "      <td>51.618</td>\n",
       "      <td>286.619</td>\n",
       "      <td>11.37</td>\n",
       "      <td>0.200</td>\n",
       "    </tr>\n",
       "    <tr>\n",
       "      <th>2100-12-28</th>\n",
       "      <td>49.2427</td>\n",
       "      <td>4.03882</td>\n",
       "      <td>4.14</td>\n",
       "      <td>11.98</td>\n",
       "      <td>8.26</td>\n",
       "      <td>3.633</td>\n",
       "      <td>0.0</td>\n",
       "      <td>5.910</td>\n",
       "      <td>38.051</td>\n",
       "      <td>318.954</td>\n",
       "      <td>14.50</td>\n",
       "      <td>0.370</td>\n",
       "    </tr>\n",
       "    <tr>\n",
       "      <th>2100-12-29</th>\n",
       "      <td>49.2427</td>\n",
       "      <td>4.03882</td>\n",
       "      <td>4.61</td>\n",
       "      <td>9.58</td>\n",
       "      <td>8.07</td>\n",
       "      <td>2.746</td>\n",
       "      <td>0.0</td>\n",
       "      <td>5.180</td>\n",
       "      <td>30.541</td>\n",
       "      <td>324.057</td>\n",
       "      <td>15.67</td>\n",
       "      <td>0.614</td>\n",
       "    </tr>\n",
       "    <tr>\n",
       "      <th>2100-12-30</th>\n",
       "      <td>49.2427</td>\n",
       "      <td>4.03882</td>\n",
       "      <td>6.15</td>\n",
       "      <td>10.11</td>\n",
       "      <td>7.57</td>\n",
       "      <td>9.368</td>\n",
       "      <td>0.0</td>\n",
       "      <td>5.884</td>\n",
       "      <td>17.554</td>\n",
       "      <td>334.634</td>\n",
       "      <td>36.97</td>\n",
       "      <td>0.764</td>\n",
       "    </tr>\n",
       "    <tr>\n",
       "      <th>2100-12-31</th>\n",
       "      <td>49.2427</td>\n",
       "      <td>4.03882</td>\n",
       "      <td>5.40</td>\n",
       "      <td>6.59</td>\n",
       "      <td>6.08</td>\n",
       "      <td>2.348</td>\n",
       "      <td>0.0</td>\n",
       "      <td>5.043</td>\n",
       "      <td>15.093</td>\n",
       "      <td>337.720</td>\n",
       "      <td>18.19</td>\n",
       "      <td>0.618</td>\n",
       "    </tr>\n",
       "  </tbody>\n",
       "</table>\n",
       "</div>"
      ],
      "text/plain": [
       "            Latitude  Longitude  tasminAdjust  tasmaxAdjust  tasAdjust  \\\n",
       "Date                                                                     \n",
       "2100-12-27   49.2427    4.03882          1.00          9.48       4.55   \n",
       "2100-12-28   49.2427    4.03882          4.14         11.98       8.26   \n",
       "2100-12-29   49.2427    4.03882          4.61          9.58       8.07   \n",
       "2100-12-30   49.2427    4.03882          6.15         10.11       7.57   \n",
       "2100-12-31   49.2427    4.03882          5.40          6.59       6.08   \n",
       "\n",
       "            prtotAdjust  prsnAdjust  hussAdjust  rsdsAdjust  rldsAdjust  \\\n",
       "Date                                                                      \n",
       "2100-12-27        0.000         0.0       4.967      51.618     286.619   \n",
       "2100-12-28        3.633         0.0       5.910      38.051     318.954   \n",
       "2100-12-29        2.746         0.0       5.180      30.541     324.057   \n",
       "2100-12-30        9.368         0.0       5.884      17.554     334.634   \n",
       "2100-12-31        2.348         0.0       5.043      15.093     337.720   \n",
       "\n",
       "            sfcWindAdjust  evspsblpotAdjust  \n",
       "Date                                         \n",
       "2100-12-27          11.37             0.200  \n",
       "2100-12-28          14.50             0.370  \n",
       "2100-12-29          15.67             0.614  \n",
       "2100-12-30          36.97             0.764  \n",
       "2100-12-31          18.19             0.618  "
      ]
     },
     "metadata": {},
     "output_type": "display_data"
    }
   ],
   "source": [
    "data_rcp_4_5 = load_data_drias('Drias/CNRM-CERFACS-CNRM-CM5_CNRM-ALADIN63_rcp4.5_METEO-FRANCE_ADAMONT-France_SAFRAN_day_2006_2100.xlsx')"
   ]
  },
  {
   "cell_type": "code",
   "execution_count": 28,
   "id": "433ae886",
   "metadata": {},
   "outputs": [
    {
     "data": {
      "application/vnd.microsoft.datawrangler.viewer.v0+json": {
       "columns": [
        {
         "name": "Date",
         "rawType": "datetime64[ns]",
         "type": "datetime"
        },
        {
         "name": "Latitude",
         "rawType": "float64",
         "type": "float"
        },
        {
         "name": "Longitude",
         "rawType": "float64",
         "type": "float"
        },
        {
         "name": "tasminAdjust",
         "rawType": "float64",
         "type": "float"
        },
        {
         "name": "tasmaxAdjust",
         "rawType": "float64",
         "type": "float"
        },
        {
         "name": "tasAdjust",
         "rawType": "float64",
         "type": "float"
        },
        {
         "name": "prtotAdjust",
         "rawType": "float64",
         "type": "float"
        },
        {
         "name": "prsnAdjust",
         "rawType": "float64",
         "type": "float"
        },
        {
         "name": "hussAdjust",
         "rawType": "float64",
         "type": "float"
        },
        {
         "name": "rsdsAdjust",
         "rawType": "float64",
         "type": "float"
        },
        {
         "name": "rldsAdjust",
         "rawType": "float64",
         "type": "float"
        },
        {
         "name": "sfcWindAdjust",
         "rawType": "float64",
         "type": "float"
        },
        {
         "name": "evspsblpotAdjust",
         "rawType": "float64",
         "type": "float"
        }
       ],
       "ref": "ac8b4f12-f48f-437c-b945-044627ebdbbd",
       "rows": [
        [
         "2100-12-27 00:00:00",
         "49.2427",
         "4.03882",
         "-0.66",
         "6.08",
         "1.58",
         "0.07",
         "0.0",
         "3.103",
         "51.761",
         "285.622",
         "7.58",
         "0.496"
        ],
        [
         "2100-12-28 00:00:00",
         "49.2427",
         "4.03882",
         "1.82",
         "4.38",
         "3.04",
         "0.265",
         "0.0",
         "4.683",
         "21.316",
         "340.201",
         "1.68",
         "0.139"
        ],
        [
         "2100-12-29 00:00:00",
         "49.2427",
         "4.03882",
         "2.17",
         "6.72",
         "5.15",
         "0.463",
         "0.136",
         "4.927",
         "17.369",
         "342.966",
         "8.96",
         "0.158"
        ],
        [
         "2100-12-30 00:00:00",
         "49.2427",
         "4.03882",
         "5.94",
         "8.88",
         "7.38",
         "0.088",
         "0.0",
         "5.873",
         "11.491",
         "356.66",
         "15.39",
         "0.38"
        ],
        [
         "2100-12-31 00:00:00",
         "49.2427",
         "4.03882",
         "6.48",
         "9.47",
         "8.05",
         "4.551",
         "0.0",
         "6.147",
         "11.166",
         "358.29",
         "31.71",
         "0.48"
        ]
       ],
       "shape": {
        "columns": 12,
        "rows": 5
       }
      },
      "text/html": [
       "<div>\n",
       "<style scoped>\n",
       "    .dataframe tbody tr th:only-of-type {\n",
       "        vertical-align: middle;\n",
       "    }\n",
       "\n",
       "    .dataframe tbody tr th {\n",
       "        vertical-align: top;\n",
       "    }\n",
       "\n",
       "    .dataframe thead th {\n",
       "        text-align: right;\n",
       "    }\n",
       "</style>\n",
       "<table border=\"1\" class=\"dataframe\">\n",
       "  <thead>\n",
       "    <tr style=\"text-align: right;\">\n",
       "      <th></th>\n",
       "      <th>Latitude</th>\n",
       "      <th>Longitude</th>\n",
       "      <th>tasminAdjust</th>\n",
       "      <th>tasmaxAdjust</th>\n",
       "      <th>tasAdjust</th>\n",
       "      <th>prtotAdjust</th>\n",
       "      <th>prsnAdjust</th>\n",
       "      <th>hussAdjust</th>\n",
       "      <th>rsdsAdjust</th>\n",
       "      <th>rldsAdjust</th>\n",
       "      <th>sfcWindAdjust</th>\n",
       "      <th>evspsblpotAdjust</th>\n",
       "    </tr>\n",
       "    <tr>\n",
       "      <th>Date</th>\n",
       "      <th></th>\n",
       "      <th></th>\n",
       "      <th></th>\n",
       "      <th></th>\n",
       "      <th></th>\n",
       "      <th></th>\n",
       "      <th></th>\n",
       "      <th></th>\n",
       "      <th></th>\n",
       "      <th></th>\n",
       "      <th></th>\n",
       "      <th></th>\n",
       "    </tr>\n",
       "  </thead>\n",
       "  <tbody>\n",
       "    <tr>\n",
       "      <th>2100-12-27</th>\n",
       "      <td>49.2427</td>\n",
       "      <td>4.03882</td>\n",
       "      <td>-0.66</td>\n",
       "      <td>6.08</td>\n",
       "      <td>1.58</td>\n",
       "      <td>0.070</td>\n",
       "      <td>0.000</td>\n",
       "      <td>3.103</td>\n",
       "      <td>51.761</td>\n",
       "      <td>285.622</td>\n",
       "      <td>7.58</td>\n",
       "      <td>0.496</td>\n",
       "    </tr>\n",
       "    <tr>\n",
       "      <th>2100-12-28</th>\n",
       "      <td>49.2427</td>\n",
       "      <td>4.03882</td>\n",
       "      <td>1.82</td>\n",
       "      <td>4.38</td>\n",
       "      <td>3.04</td>\n",
       "      <td>0.265</td>\n",
       "      <td>0.000</td>\n",
       "      <td>4.683</td>\n",
       "      <td>21.316</td>\n",
       "      <td>340.201</td>\n",
       "      <td>1.68</td>\n",
       "      <td>0.139</td>\n",
       "    </tr>\n",
       "    <tr>\n",
       "      <th>2100-12-29</th>\n",
       "      <td>49.2427</td>\n",
       "      <td>4.03882</td>\n",
       "      <td>2.17</td>\n",
       "      <td>6.72</td>\n",
       "      <td>5.15</td>\n",
       "      <td>0.463</td>\n",
       "      <td>0.136</td>\n",
       "      <td>4.927</td>\n",
       "      <td>17.369</td>\n",
       "      <td>342.966</td>\n",
       "      <td>8.96</td>\n",
       "      <td>0.158</td>\n",
       "    </tr>\n",
       "    <tr>\n",
       "      <th>2100-12-30</th>\n",
       "      <td>49.2427</td>\n",
       "      <td>4.03882</td>\n",
       "      <td>5.94</td>\n",
       "      <td>8.88</td>\n",
       "      <td>7.38</td>\n",
       "      <td>0.088</td>\n",
       "      <td>0.000</td>\n",
       "      <td>5.873</td>\n",
       "      <td>11.491</td>\n",
       "      <td>356.660</td>\n",
       "      <td>15.39</td>\n",
       "      <td>0.380</td>\n",
       "    </tr>\n",
       "    <tr>\n",
       "      <th>2100-12-31</th>\n",
       "      <td>49.2427</td>\n",
       "      <td>4.03882</td>\n",
       "      <td>6.48</td>\n",
       "      <td>9.47</td>\n",
       "      <td>8.05</td>\n",
       "      <td>4.551</td>\n",
       "      <td>0.000</td>\n",
       "      <td>6.147</td>\n",
       "      <td>11.166</td>\n",
       "      <td>358.290</td>\n",
       "      <td>31.71</td>\n",
       "      <td>0.480</td>\n",
       "    </tr>\n",
       "  </tbody>\n",
       "</table>\n",
       "</div>"
      ],
      "text/plain": [
       "            Latitude  Longitude  tasminAdjust  tasmaxAdjust  tasAdjust  \\\n",
       "Date                                                                     \n",
       "2100-12-27   49.2427    4.03882         -0.66          6.08       1.58   \n",
       "2100-12-28   49.2427    4.03882          1.82          4.38       3.04   \n",
       "2100-12-29   49.2427    4.03882          2.17          6.72       5.15   \n",
       "2100-12-30   49.2427    4.03882          5.94          8.88       7.38   \n",
       "2100-12-31   49.2427    4.03882          6.48          9.47       8.05   \n",
       "\n",
       "            prtotAdjust  prsnAdjust  hussAdjust  rsdsAdjust  rldsAdjust  \\\n",
       "Date                                                                      \n",
       "2100-12-27        0.070       0.000       3.103      51.761     285.622   \n",
       "2100-12-28        0.265       0.000       4.683      21.316     340.201   \n",
       "2100-12-29        0.463       0.136       4.927      17.369     342.966   \n",
       "2100-12-30        0.088       0.000       5.873      11.491     356.660   \n",
       "2100-12-31        4.551       0.000       6.147      11.166     358.290   \n",
       "\n",
       "            sfcWindAdjust  evspsblpotAdjust  \n",
       "Date                                         \n",
       "2100-12-27           7.58             0.496  \n",
       "2100-12-28           1.68             0.139  \n",
       "2100-12-29           8.96             0.158  \n",
       "2100-12-30          15.39             0.380  \n",
       "2100-12-31          31.71             0.480  "
      ]
     },
     "metadata": {},
     "output_type": "display_data"
    }
   ],
   "source": [
    "data_rcp_8_5 = load_data_drias('Drias/CNRM-CERFACS-CNRM-CM5_CNRM-ALADIN63_rcp8.5_METEO-FRANCE_ADAMONT-France_SAFRAN_day_2006_2100.xlsx')"
   ]
  },
  {
   "cell_type": "markdown",
   "id": "df571d04",
   "metadata": {},
   "source": [
    "#### **Dataset Historique-Météo** "
   ]
  },
  {
   "cell_type": "code",
   "execution_count": 29,
   "id": "eda4df71",
   "metadata": {},
   "outputs": [],
   "source": [
    "# Liste des années à importer\n",
    "annees = range(2009, 2026)\n",
    "\n",
    "# Liste pour stocker les DataFrames\n",
    "dfs = []\n",
    "\n",
    "# Boucle sur les années\n",
    "for annee in annees:\n",
    "    nom_fichier = f\"Historique-Météo/export-reims{annee}.csv\"\n",
    "    df = pd.read_csv(nom_fichier, skiprows=3)\n",
    "    dfs.append(df)\n",
    "\n",
    "# Concatène tous les DataFrames en un seul\n",
    "data_climate_reims_2009_2025 = pd.concat(dfs, ignore_index=True)"
   ]
  },
  {
   "cell_type": "code",
   "execution_count": 30,
   "id": "b9eea625",
   "metadata": {},
   "outputs": [
    {
     "data": {
      "application/vnd.microsoft.datawrangler.viewer.v0+json": {
       "columns": [
        {
         "name": "DATE",
         "rawType": "datetime64[ns]",
         "type": "datetime"
        },
        {
         "name": "MAX_TEMPERATURE_C",
         "rawType": "int64",
         "type": "integer"
        },
        {
         "name": "MIN_TEMPERATURE_C",
         "rawType": "int64",
         "type": "integer"
        },
        {
         "name": "WINDSPEED_MAX_KMH",
         "rawType": "int64",
         "type": "integer"
        },
        {
         "name": "TEMPERATURE_MORNING_C_6H",
         "rawType": "int64",
         "type": "integer"
        },
        {
         "name": "TEMPERATURE_NOON_C_12H",
         "rawType": "int64",
         "type": "integer"
        },
        {
         "name": "TEMPERATURE_EVENING_C_18H",
         "rawType": "int64",
         "type": "integer"
        },
        {
         "name": "PRECIP_TOTAL_DAY_MM",
         "rawType": "float64",
         "type": "float"
        },
        {
         "name": "HUMIDITY_MAX_PERCENT",
         "rawType": "int64",
         "type": "integer"
        },
        {
         "name": "VISIBILITY_AVG_KM",
         "rawType": "float64",
         "type": "float"
        },
        {
         "name": "PRESSURE_MAX_MB",
         "rawType": "int64",
         "type": "integer"
        },
        {
         "name": "CLOUDCOVER_AVG_PERCENT",
         "rawType": "float64",
         "type": "float"
        },
        {
         "name": "HEATINDEX_MAX_C",
         "rawType": "int64",
         "type": "integer"
        },
        {
         "name": "DEWPOINT_MAX_C",
         "rawType": "int64",
         "type": "integer"
        },
        {
         "name": "WINDTEMP_MAX_C",
         "rawType": "int64",
         "type": "integer"
        },
        {
         "name": "WEATHER_CODE_MORNING_6H",
         "rawType": "int64",
         "type": "integer"
        },
        {
         "name": "WEATHER_CODE_NOON_12H",
         "rawType": "int64",
         "type": "integer"
        },
        {
         "name": "WEATHER_CODE_EVENING_18H",
         "rawType": "int64",
         "type": "integer"
        },
        {
         "name": "TOTAL_SNOW_MM",
         "rawType": "float64",
         "type": "float"
        },
        {
         "name": "UV_INDEX",
         "rawType": "int64",
         "type": "integer"
        },
        {
         "name": "SUNHOUR",
         "rawType": "float64",
         "type": "float"
        },
        {
         "name": "OPINION",
         "rawType": "object",
         "type": "string"
        },
        {
         "name": "SUNSET",
         "rawType": "object",
         "type": "string"
        },
        {
         "name": "SUNRISE",
         "rawType": "object",
         "type": "string"
        },
        {
         "name": "TEMPERATURE_NIGHT_C_3H",
         "rawType": "int64",
         "type": "integer"
        },
        {
         "name": "WEATHER_CODE_NIGHT_3H",
         "rawType": "int64",
         "type": "integer"
        },
        {
         "name": "TEMPERATURE_9H",
         "rawType": "int64",
         "type": "integer"
        },
        {
         "name": "WEATHER_CODE_9H",
         "rawType": "int64",
         "type": "integer"
        },
        {
         "name": "TEMPERATURE_15H",
         "rawType": "int64",
         "type": "integer"
        },
        {
         "name": "WEATHER_CODE_15H",
         "rawType": "int64",
         "type": "integer"
        },
        {
         "name": "TEMPERATURE_21H",
         "rawType": "int64",
         "type": "integer"
        },
        {
         "name": "WEATHER_CODE_21H",
         "rawType": "int64",
         "type": "integer"
        },
        {
         "name": "TEMPERATURE_MIDNIGHT_0H",
         "rawType": "int64",
         "type": "integer"
        },
        {
         "name": "WEATHER_CODE_MIDNIGHT_0H",
         "rawType": "int64",
         "type": "integer"
        }
       ],
       "ref": "2e87f658-95d6-41d6-bab3-b5b2c0c6b0b8",
       "rows": [
        [
         "2009-01-01 00:00:00",
         "3",
         "-4",
         "8",
         "-3",
         "3",
         "-3",
         "0.0",
         "95",
         "7.0",
         "1029",
         "15.375",
         "3",
         "0",
         "-6",
         "143",
         "113",
         "113",
         "0.0",
         "1",
         "8.2",
         "météo très défavorable",
         "16:56:00",
         "08:39:00",
         "-3",
         "143",
         "-2",
         "113",
         "0",
         "116",
         "-4",
         "113",
         "-3",
         "143"
        ],
        [
         "2009-01-02 00:00:00",
         "1",
         "-5",
         "15",
         "-5",
         "1",
         "-2",
         "0.0",
         "88",
         "10.0",
         "1028",
         "12.5",
         "1",
         "0",
         "-9",
         "113",
         "113",
         "113",
         "0.0",
         "2",
         "8.2",
         "météo très défavorable",
         "16:57:00",
         "08:39:00",
         "-5",
         "113",
         "-4",
         "113",
         "0",
         "113",
         "-2",
         "116",
         "-5",
         "113"
        ],
        [
         "2009-01-03 00:00:00",
         "1",
         "-5",
         "14",
         "-4",
         "1",
         "-4",
         "0.0",
         "93",
         "10.0",
         "1028",
         "13.5",
         "1",
         "0",
         "-9",
         "113",
         "113",
         "113",
         "0.0",
         "2",
         "8.2",
         "météo très défavorable",
         "16:58:00",
         "08:39:00",
         "-3",
         "116",
         "-3",
         "113",
         "-1",
         "113",
         "-5",
         "113",
         "-3",
         "116"
        ],
        [
         "2009-01-04 00:00:00",
         "-1",
         "-6",
         "8",
         "-6",
         "-1",
         "-4",
         "0.0",
         "68",
         "10.0",
         "1026",
         "32.875",
         "0",
         "0",
         "-10",
         "116",
         "113",
         "113",
         "0.0",
         "2",
         "6.8",
         "météo très défavorable",
         "16:59:00",
         "08:39:00",
         "-6",
         "116",
         "-5",
         "113",
         "-3",
         "119",
         "-4",
         "116",
         "-6",
         "113"
        ],
        [
         "2009-01-05 00:00:00",
         "-1",
         "-4",
         "10",
         "-4",
         "-1",
         "-2",
         "2.5",
         "83",
         "3.75",
         "1021",
         "98.125",
         "0",
         "0",
         "-8",
         "338",
         "338",
         "338",
         "2.1",
         "1",
         "3.2",
         "météo très défavorable",
         "17:01:00",
         "08:38:00",
         "-4",
         "338",
         "-3",
         "332",
         "-1",
         "338",
         "-2",
         "332",
         "-4",
         "119"
        ]
       ],
       "shape": {
        "columns": 33,
        "rows": 5
       }
      },
      "text/html": [
       "<div>\n",
       "<style scoped>\n",
       "    .dataframe tbody tr th:only-of-type {\n",
       "        vertical-align: middle;\n",
       "    }\n",
       "\n",
       "    .dataframe tbody tr th {\n",
       "        vertical-align: top;\n",
       "    }\n",
       "\n",
       "    .dataframe thead th {\n",
       "        text-align: right;\n",
       "    }\n",
       "</style>\n",
       "<table border=\"1\" class=\"dataframe\">\n",
       "  <thead>\n",
       "    <tr style=\"text-align: right;\">\n",
       "      <th></th>\n",
       "      <th>MAX_TEMPERATURE_C</th>\n",
       "      <th>MIN_TEMPERATURE_C</th>\n",
       "      <th>WINDSPEED_MAX_KMH</th>\n",
       "      <th>TEMPERATURE_MORNING_C_6H</th>\n",
       "      <th>TEMPERATURE_NOON_C_12H</th>\n",
       "      <th>TEMPERATURE_EVENING_C_18H</th>\n",
       "      <th>PRECIP_TOTAL_DAY_MM</th>\n",
       "      <th>HUMIDITY_MAX_PERCENT</th>\n",
       "      <th>VISIBILITY_AVG_KM</th>\n",
       "      <th>PRESSURE_MAX_MB</th>\n",
       "      <th>...</th>\n",
       "      <th>TEMPERATURE_NIGHT_C_3H</th>\n",
       "      <th>WEATHER_CODE_NIGHT_3H</th>\n",
       "      <th>TEMPERATURE_9H</th>\n",
       "      <th>WEATHER_CODE_9H</th>\n",
       "      <th>TEMPERATURE_15H</th>\n",
       "      <th>WEATHER_CODE_15H</th>\n",
       "      <th>TEMPERATURE_21H</th>\n",
       "      <th>WEATHER_CODE_21H</th>\n",
       "      <th>TEMPERATURE_MIDNIGHT_0H</th>\n",
       "      <th>WEATHER_CODE_MIDNIGHT_0H</th>\n",
       "    </tr>\n",
       "    <tr>\n",
       "      <th>DATE</th>\n",
       "      <th></th>\n",
       "      <th></th>\n",
       "      <th></th>\n",
       "      <th></th>\n",
       "      <th></th>\n",
       "      <th></th>\n",
       "      <th></th>\n",
       "      <th></th>\n",
       "      <th></th>\n",
       "      <th></th>\n",
       "      <th></th>\n",
       "      <th></th>\n",
       "      <th></th>\n",
       "      <th></th>\n",
       "      <th></th>\n",
       "      <th></th>\n",
       "      <th></th>\n",
       "      <th></th>\n",
       "      <th></th>\n",
       "      <th></th>\n",
       "      <th></th>\n",
       "    </tr>\n",
       "  </thead>\n",
       "  <tbody>\n",
       "    <tr>\n",
       "      <th>2009-01-01</th>\n",
       "      <td>3</td>\n",
       "      <td>-4</td>\n",
       "      <td>8</td>\n",
       "      <td>-3</td>\n",
       "      <td>3</td>\n",
       "      <td>-3</td>\n",
       "      <td>0.0</td>\n",
       "      <td>95</td>\n",
       "      <td>7.00</td>\n",
       "      <td>1029</td>\n",
       "      <td>...</td>\n",
       "      <td>-3</td>\n",
       "      <td>143</td>\n",
       "      <td>-2</td>\n",
       "      <td>113</td>\n",
       "      <td>0</td>\n",
       "      <td>116</td>\n",
       "      <td>-4</td>\n",
       "      <td>113</td>\n",
       "      <td>-3</td>\n",
       "      <td>143</td>\n",
       "    </tr>\n",
       "    <tr>\n",
       "      <th>2009-01-02</th>\n",
       "      <td>1</td>\n",
       "      <td>-5</td>\n",
       "      <td>15</td>\n",
       "      <td>-5</td>\n",
       "      <td>1</td>\n",
       "      <td>-2</td>\n",
       "      <td>0.0</td>\n",
       "      <td>88</td>\n",
       "      <td>10.00</td>\n",
       "      <td>1028</td>\n",
       "      <td>...</td>\n",
       "      <td>-5</td>\n",
       "      <td>113</td>\n",
       "      <td>-4</td>\n",
       "      <td>113</td>\n",
       "      <td>0</td>\n",
       "      <td>113</td>\n",
       "      <td>-2</td>\n",
       "      <td>116</td>\n",
       "      <td>-5</td>\n",
       "      <td>113</td>\n",
       "    </tr>\n",
       "    <tr>\n",
       "      <th>2009-01-03</th>\n",
       "      <td>1</td>\n",
       "      <td>-5</td>\n",
       "      <td>14</td>\n",
       "      <td>-4</td>\n",
       "      <td>1</td>\n",
       "      <td>-4</td>\n",
       "      <td>0.0</td>\n",
       "      <td>93</td>\n",
       "      <td>10.00</td>\n",
       "      <td>1028</td>\n",
       "      <td>...</td>\n",
       "      <td>-3</td>\n",
       "      <td>116</td>\n",
       "      <td>-3</td>\n",
       "      <td>113</td>\n",
       "      <td>-1</td>\n",
       "      <td>113</td>\n",
       "      <td>-5</td>\n",
       "      <td>113</td>\n",
       "      <td>-3</td>\n",
       "      <td>116</td>\n",
       "    </tr>\n",
       "    <tr>\n",
       "      <th>2009-01-04</th>\n",
       "      <td>-1</td>\n",
       "      <td>-6</td>\n",
       "      <td>8</td>\n",
       "      <td>-6</td>\n",
       "      <td>-1</td>\n",
       "      <td>-4</td>\n",
       "      <td>0.0</td>\n",
       "      <td>68</td>\n",
       "      <td>10.00</td>\n",
       "      <td>1026</td>\n",
       "      <td>...</td>\n",
       "      <td>-6</td>\n",
       "      <td>116</td>\n",
       "      <td>-5</td>\n",
       "      <td>113</td>\n",
       "      <td>-3</td>\n",
       "      <td>119</td>\n",
       "      <td>-4</td>\n",
       "      <td>116</td>\n",
       "      <td>-6</td>\n",
       "      <td>113</td>\n",
       "    </tr>\n",
       "    <tr>\n",
       "      <th>2009-01-05</th>\n",
       "      <td>-1</td>\n",
       "      <td>-4</td>\n",
       "      <td>10</td>\n",
       "      <td>-4</td>\n",
       "      <td>-1</td>\n",
       "      <td>-2</td>\n",
       "      <td>2.5</td>\n",
       "      <td>83</td>\n",
       "      <td>3.75</td>\n",
       "      <td>1021</td>\n",
       "      <td>...</td>\n",
       "      <td>-4</td>\n",
       "      <td>338</td>\n",
       "      <td>-3</td>\n",
       "      <td>332</td>\n",
       "      <td>-1</td>\n",
       "      <td>338</td>\n",
       "      <td>-2</td>\n",
       "      <td>332</td>\n",
       "      <td>-4</td>\n",
       "      <td>119</td>\n",
       "    </tr>\n",
       "  </tbody>\n",
       "</table>\n",
       "<p>5 rows × 33 columns</p>\n",
       "</div>"
      ],
      "text/plain": [
       "            MAX_TEMPERATURE_C  MIN_TEMPERATURE_C  WINDSPEED_MAX_KMH  \\\n",
       "DATE                                                                  \n",
       "2009-01-01                  3                 -4                  8   \n",
       "2009-01-02                  1                 -5                 15   \n",
       "2009-01-03                  1                 -5                 14   \n",
       "2009-01-04                 -1                 -6                  8   \n",
       "2009-01-05                 -1                 -4                 10   \n",
       "\n",
       "            TEMPERATURE_MORNING_C_6H  TEMPERATURE_NOON_C_12H  \\\n",
       "DATE                                                           \n",
       "2009-01-01                        -3                       3   \n",
       "2009-01-02                        -5                       1   \n",
       "2009-01-03                        -4                       1   \n",
       "2009-01-04                        -6                      -1   \n",
       "2009-01-05                        -4                      -1   \n",
       "\n",
       "            TEMPERATURE_EVENING_C_18H  PRECIP_TOTAL_DAY_MM  \\\n",
       "DATE                                                         \n",
       "2009-01-01                         -3                  0.0   \n",
       "2009-01-02                         -2                  0.0   \n",
       "2009-01-03                         -4                  0.0   \n",
       "2009-01-04                         -4                  0.0   \n",
       "2009-01-05                         -2                  2.5   \n",
       "\n",
       "            HUMIDITY_MAX_PERCENT  VISIBILITY_AVG_KM  PRESSURE_MAX_MB  ...  \\\n",
       "DATE                                                                  ...   \n",
       "2009-01-01                    95               7.00             1029  ...   \n",
       "2009-01-02                    88              10.00             1028  ...   \n",
       "2009-01-03                    93              10.00             1028  ...   \n",
       "2009-01-04                    68              10.00             1026  ...   \n",
       "2009-01-05                    83               3.75             1021  ...   \n",
       "\n",
       "            TEMPERATURE_NIGHT_C_3H  WEATHER_CODE_NIGHT_3H  TEMPERATURE_9H  \\\n",
       "DATE                                                                        \n",
       "2009-01-01                      -3                    143              -2   \n",
       "2009-01-02                      -5                    113              -4   \n",
       "2009-01-03                      -3                    116              -3   \n",
       "2009-01-04                      -6                    116              -5   \n",
       "2009-01-05                      -4                    338              -3   \n",
       "\n",
       "            WEATHER_CODE_9H  TEMPERATURE_15H  WEATHER_CODE_15H  \\\n",
       "DATE                                                             \n",
       "2009-01-01              113                0               116   \n",
       "2009-01-02              113                0               113   \n",
       "2009-01-03              113               -1               113   \n",
       "2009-01-04              113               -3               119   \n",
       "2009-01-05              332               -1               338   \n",
       "\n",
       "            TEMPERATURE_21H  WEATHER_CODE_21H  TEMPERATURE_MIDNIGHT_0H  \\\n",
       "DATE                                                                     \n",
       "2009-01-01               -4               113                       -3   \n",
       "2009-01-02               -2               116                       -5   \n",
       "2009-01-03               -5               113                       -3   \n",
       "2009-01-04               -4               116                       -6   \n",
       "2009-01-05               -2               332                       -4   \n",
       "\n",
       "            WEATHER_CODE_MIDNIGHT_0H  \n",
       "DATE                                  \n",
       "2009-01-01                       143  \n",
       "2009-01-02                       113  \n",
       "2009-01-03                       116  \n",
       "2009-01-04                       113  \n",
       "2009-01-05                       119  \n",
       "\n",
       "[5 rows x 33 columns]"
      ]
     },
     "execution_count": 30,
     "metadata": {},
     "output_type": "execute_result"
    }
   ],
   "source": [
    "data_climate_reims_2009_2025['DATE'] = pd.to_datetime(data_climate_reims_2009_2025['DATE'], format='%Y-%m-%d')\n",
    "data_climate_reims_2009_2025.set_index('DATE', inplace=True)\n",
    "data_climate_reims_2009_2025.head()"
   ]
  },
  {
   "cell_type": "code",
   "execution_count": 31,
   "id": "f24f2139",
   "metadata": {},
   "outputs": [
    {
     "data": {
      "application/vnd.microsoft.datawrangler.viewer.v0+json": {
       "columns": [
        {
         "name": "DATE",
         "rawType": "datetime64[ns]",
         "type": "datetime"
        },
        {
         "name": "MEAN_TEMPERATURE_C",
         "rawType": "float64",
         "type": "float"
        }
       ],
       "ref": "a1bdb5f1-c38f-4a14-ba11-021291a82253",
       "rows": [
        [
         "2009-01-01 00:00:00",
         "-1.875"
        ],
        [
         "2009-01-02 00:00:00",
         "-2.75"
        ],
        [
         "2009-01-03 00:00:00",
         "-2.75"
        ],
        [
         "2009-01-04 00:00:00",
         "-4.375"
        ],
        [
         "2009-01-05 00:00:00",
         "-2.625"
        ],
        [
         "2009-01-06 00:00:00",
         "-5.5"
        ],
        [
         "2009-01-07 00:00:00",
         "-7.125"
        ],
        [
         "2009-01-08 00:00:00",
         "-4.875"
        ],
        [
         "2009-01-09 00:00:00",
         "-7.75"
        ],
        [
         "2009-01-10 00:00:00",
         "-6.375"
        ],
        [
         "2009-01-11 00:00:00",
         "-3.5"
        ],
        [
         "2009-01-12 00:00:00",
         "-1.25"
        ],
        [
         "2009-01-13 00:00:00",
         "1.0"
        ],
        [
         "2009-01-14 00:00:00",
         "2.375"
        ],
        [
         "2009-01-15 00:00:00",
         "0.875"
        ],
        [
         "2009-01-16 00:00:00",
         "1.125"
        ],
        [
         "2009-01-17 00:00:00",
         "4.5"
        ],
        [
         "2009-01-18 00:00:00",
         "5.75"
        ],
        [
         "2009-01-19 00:00:00",
         "5.875"
        ],
        [
         "2009-01-20 00:00:00",
         "2.625"
        ],
        [
         "2009-01-21 00:00:00",
         "2.375"
        ],
        [
         "2009-01-22 00:00:00",
         "2.75"
        ],
        [
         "2009-01-23 00:00:00",
         "6.0"
        ],
        [
         "2009-01-24 00:00:00",
         "2.375"
        ],
        [
         "2009-01-25 00:00:00",
         "1.5"
        ],
        [
         "2009-01-26 00:00:00",
         "1.75"
        ],
        [
         "2009-01-27 00:00:00",
         "2.25"
        ],
        [
         "2009-01-28 00:00:00",
         "-0.25"
        ],
        [
         "2009-01-29 00:00:00",
         "-0.75"
        ],
        [
         "2009-01-30 00:00:00",
         "-0.25"
        ],
        [
         "2009-01-31 00:00:00",
         "-0.5"
        ],
        [
         "2009-02-01 00:00:00",
         "-1.5"
        ],
        [
         "2009-02-02 00:00:00",
         "0.625"
        ],
        [
         "2009-02-03 00:00:00",
         "-0.125"
        ],
        [
         "2009-02-04 00:00:00",
         "-0.5"
        ],
        [
         "2009-02-05 00:00:00",
         "4.0"
        ],
        [
         "2009-02-06 00:00:00",
         "5.0"
        ],
        [
         "2009-02-07 00:00:00",
         "3.25"
        ],
        [
         "2009-02-08 00:00:00",
         "1.125"
        ],
        [
         "2009-02-09 00:00:00",
         "3.0"
        ],
        [
         "2009-02-10 00:00:00",
         "5.0"
        ],
        [
         "2009-02-11 00:00:00",
         "1.875"
        ],
        [
         "2009-02-12 00:00:00",
         "1.5"
        ],
        [
         "2009-02-13 00:00:00",
         "0.625"
        ],
        [
         "2009-02-14 00:00:00",
         "-1.0"
        ],
        [
         "2009-02-15 00:00:00",
         "-0.5"
        ],
        [
         "2009-02-16 00:00:00",
         "3.125"
        ],
        [
         "2009-02-17 00:00:00",
         "5.375"
        ],
        [
         "2009-02-18 00:00:00",
         "0.75"
        ],
        [
         "2009-02-19 00:00:00",
         "0.5"
        ]
       ],
       "shape": {
        "columns": 1,
        "rows": 5964
       }
      },
      "text/plain": [
       "DATE\n",
       "2009-01-01    -1.875\n",
       "2009-01-02    -2.750\n",
       "2009-01-03    -2.750\n",
       "2009-01-04    -4.375\n",
       "2009-01-05    -2.625\n",
       "               ...  \n",
       "2025-04-26    11.875\n",
       "2025-04-27    14.250\n",
       "2025-04-28    14.500\n",
       "2025-04-29    14.750\n",
       "2025-04-30    15.750\n",
       "Name: MEAN_TEMPERATURE_C, Length: 5964, dtype: float64"
      ]
     },
     "execution_count": 31,
     "metadata": {},
     "output_type": "execute_result"
    }
   ],
   "source": [
    "# MEAN_TEMPERATURE_C\n",
    "colonnes_temp_horaires = [\n",
    "    'TEMPERATURE_MORNING_C_6H',\n",
    "    'TEMPERATURE_NOON_C_12H',\n",
    "    'TEMPERATURE_EVENING_C_18H',\n",
    "    'TEMPERATURE_NIGHT_C_3H',\n",
    "    'TEMPERATURE_9H',\n",
    "    'TEMPERATURE_15H',\n",
    "    'TEMPERATURE_21H',\n",
    "    'TEMPERATURE_MIDNIGHT_0H'\n",
    "]\n",
    "\n",
    "# Calcul de la moyenne journalière basée uniquement sur les températures horaires\n",
    "data_climate_reims_2009_2025['MEAN_TEMPERATURE_C'] = data_climate_reims_2009_2025[colonnes_temp_horaires].mean(axis=1)\n",
    "data_climate_reims_2009_2025['MEAN_TEMPERATURE_C']"
   ]
  },
  {
   "cell_type": "code",
   "execution_count": 32,
   "id": "66ced9fd",
   "metadata": {},
   "outputs": [],
   "source": [
    "# récupérer les index communs data rcp2.6\n",
    "common_index_data_rcp_2_6 = data_rcp_2_6.index.intersection(data_climate_reims_2009_2025.index)\n",
    "data_rcp_2_6_2009_2025 = data_rcp_2_6.loc[common_index_data_rcp_2_6]"
   ]
  },
  {
   "cell_type": "code",
   "execution_count": 33,
   "id": "27cab093",
   "metadata": {},
   "outputs": [],
   "source": [
    "# récupérer les index communs data rcp4.5\n",
    "common_index_data_rcp_4_5 = data_rcp_4_5.index.intersection(data_climate_reims_2009_2025.index)\n",
    "data_rcp_4_5_2009_2025 = data_rcp_4_5.loc[common_index_data_rcp_4_5]"
   ]
  },
  {
   "cell_type": "code",
   "execution_count": 34,
   "id": "aa8eb758",
   "metadata": {},
   "outputs": [],
   "source": [
    "# récupérer les index communs data rcp8.5\n",
    "common_index_data_rcp_8_5 = data_rcp_8_5.index.intersection(data_climate_reims_2009_2025.index)\n",
    "data_rcp_8_5_2009_2025 = data_rcp_8_5.loc[common_index_data_rcp_8_5]"
   ]
  },
  {
   "cell_type": "markdown",
   "id": "28d85183",
   "metadata": {},
   "source": [
    "#### **Dataset Prunay**"
   ]
  },
  {
   "cell_type": "markdown",
   "id": "30fcf226",
   "metadata": {},
   "source": [
    "##### **🌦️ Description des colonnes - Station météo Reims - Prunay**\n",
    "\n",
    "signification de chaque variable issue des données météorologiques :\n",
    "\n",
    "| **Nom de la colonne**             | **Description**                                                                 | **Unité**                   |\n",
    "|----------------------------------|----------------------------------------------------------------------------------|-----------------------------|\n",
    "| `time`                           | Horodatage des mesures                                                           | Date/Heure (ISO 8601)       |\n",
    "| `10m-U_wind_ms`                  | Composante est-ouest du vent à 10 mètres                                        | m/s                         |\n",
    "| `10m-V_wind_ms`                  | Composante nord-sud du vent à 10 mètres                                         | m/s                         |\n",
    "| `2m_DewPoint_Temperature_K`      | Température du point de rosée à 2 mètres                                        | Kelvin (K)                  |\n",
    "| `2m_Temperature_K`               | Température de l'air à 2 mètres                                                 | Kelvin (K)                  |\n",
    "| `Surface_Pressure_Pa`           | Pression atmosphérique au niveau de la surface                                  | Pascals (Pa)                |\n",
    "| `RH`                             | Humidité relative de l'air                                                       | Pourcentage (%)             |\n",
    "| `Wind_Speed`                     | Vitesse du vent calculée à partir des composantes U et V                        | m/s                         |\n",
    "| `Wind_Direction_CMEMS`           | Direction du vent (d'origine) selon les données CMEMS                           | Degrés (°)                  |\n",
    "| `Wind_Direction_Charbel`         | Direction du vent selon un calcul propre (ex. méthode \"Charbel\")                | Degrés (°)                  |\n",
    "| `Wind_Direction_Era5`            | Direction du vent selon les données ERA5 (réanalyse ECMWF)                      | Degrés (°)                  |\n",
    "\n"
   ]
  },
  {
   "cell_type": "code",
   "execution_count": 35,
   "id": "6e8af2e9",
   "metadata": {},
   "outputs": [
    {
     "data": {
      "application/vnd.microsoft.datawrangler.viewer.v0+json": {
       "columns": [
        {
         "name": "index",
         "rawType": "int64",
         "type": "integer"
        },
        {
         "name": "time",
         "rawType": "object",
         "type": "string"
        },
        {
         "name": "latitude",
         "rawType": "float64",
         "type": "float"
        },
        {
         "name": "longitude",
         "rawType": "float64",
         "type": "float"
        },
        {
         "name": "10m-U_wind_ms",
         "rawType": "float64",
         "type": "float"
        },
        {
         "name": "10m-V_wind_ms",
         "rawType": "float64",
         "type": "float"
        },
        {
         "name": "2m_DewPoint_Temperature_K",
         "rawType": "float64",
         "type": "float"
        },
        {
         "name": "2m_Temperature_K",
         "rawType": "float64",
         "type": "float"
        },
        {
         "name": "Surface_Pressure_Pa",
         "rawType": "float64",
         "type": "float"
        },
        {
         "name": "RH",
         "rawType": "float64",
         "type": "float"
        },
        {
         "name": "Wind_Speed",
         "rawType": "float64",
         "type": "float"
        },
        {
         "name": "Wind_Direction_CMEMS",
         "rawType": "float64",
         "type": "float"
        },
        {
         "name": "Wind_Direction_Charbel",
         "rawType": "float64",
         "type": "float"
        },
        {
         "name": "Wind_Direction_Era5",
         "rawType": "float64",
         "type": "float"
        }
       ],
       "ref": "87ed8239-282b-4127-87bf-e137b12f9c88",
       "rows": [
        [
         "0",
         "2006-01-01 00:00:00",
         "49.24",
         "4.04",
         "3.134243",
         "3.2440233",
         "275.30566",
         "276.48438",
         "98688.5",
         "98.14250748813592",
         "4.51078334150421",
         "224.01394413981896",
         "225.98605586018104",
         "224.013944139819"
        ],
        [
         "1",
         "2006-01-01 01:00:00",
         "49.24",
         "4.04",
         "3.3094797",
         "3.3414774",
         "275.23462",
         "276.61914",
         "98683.94",
         "97.82201601103807",
         "4.702991292722415",
         "224.7243526018587",
         "225.2756473981413",
         "224.7243526018587"
        ],
        [
         "2",
         "2006-01-01 02:00:00",
         "49.24",
         "4.04",
         "3.143404",
         "3.6049995",
         "275.2295",
         "276.68042",
         "98711.625",
         "97.71900636903098",
         "4.782991752263039",
         "221.08702366595807",
         "228.91297633404196",
         "221.0870236659581"
        ],
        [
         "3",
         "2006-01-01 03:00:00",
         "49.24",
         "4.04",
         "2.8493242",
         "3.93367",
         "274.9829",
         "276.33423",
         "98712.94",
         "97.87149132915113",
         "4.857201670262996",
         "215.9174097933173",
         "234.0825902066827",
         "215.9174097933173"
        ],
        [
         "4",
         "2006-01-01 04:00:00",
         "49.24",
         "4.04",
         "2.6405096",
         "4.301672",
         "275.22095",
         "276.55884",
         "98708.875",
         "97.89429505184646",
         "5.047442217923466",
         "211.54298899956456",
         "238.45701100043544",
         "211.54298899956456"
        ]
       ],
       "shape": {
        "columns": 13,
        "rows": 5
       }
      },
      "text/html": [
       "<div>\n",
       "<style scoped>\n",
       "    .dataframe tbody tr th:only-of-type {\n",
       "        vertical-align: middle;\n",
       "    }\n",
       "\n",
       "    .dataframe tbody tr th {\n",
       "        vertical-align: top;\n",
       "    }\n",
       "\n",
       "    .dataframe thead th {\n",
       "        text-align: right;\n",
       "    }\n",
       "</style>\n",
       "<table border=\"1\" class=\"dataframe\">\n",
       "  <thead>\n",
       "    <tr style=\"text-align: right;\">\n",
       "      <th></th>\n",
       "      <th>time</th>\n",
       "      <th>latitude</th>\n",
       "      <th>longitude</th>\n",
       "      <th>10m-U_wind_ms</th>\n",
       "      <th>10m-V_wind_ms</th>\n",
       "      <th>2m_DewPoint_Temperature_K</th>\n",
       "      <th>2m_Temperature_K</th>\n",
       "      <th>Surface_Pressure_Pa</th>\n",
       "      <th>RH</th>\n",
       "      <th>Wind_Speed</th>\n",
       "      <th>Wind_Direction_CMEMS</th>\n",
       "      <th>Wind_Direction_Charbel</th>\n",
       "      <th>Wind_Direction_Era5</th>\n",
       "    </tr>\n",
       "  </thead>\n",
       "  <tbody>\n",
       "    <tr>\n",
       "      <th>0</th>\n",
       "      <td>2006-01-01 00:00:00</td>\n",
       "      <td>49.24</td>\n",
       "      <td>4.04</td>\n",
       "      <td>3.134243</td>\n",
       "      <td>3.244023</td>\n",
       "      <td>275.30566</td>\n",
       "      <td>276.48438</td>\n",
       "      <td>98688.500</td>\n",
       "      <td>98.142507</td>\n",
       "      <td>4.510783</td>\n",
       "      <td>224.013944</td>\n",
       "      <td>225.986056</td>\n",
       "      <td>224.013944</td>\n",
       "    </tr>\n",
       "    <tr>\n",
       "      <th>1</th>\n",
       "      <td>2006-01-01 01:00:00</td>\n",
       "      <td>49.24</td>\n",
       "      <td>4.04</td>\n",
       "      <td>3.309480</td>\n",
       "      <td>3.341477</td>\n",
       "      <td>275.23462</td>\n",
       "      <td>276.61914</td>\n",
       "      <td>98683.940</td>\n",
       "      <td>97.822016</td>\n",
       "      <td>4.702991</td>\n",
       "      <td>224.724353</td>\n",
       "      <td>225.275647</td>\n",
       "      <td>224.724353</td>\n",
       "    </tr>\n",
       "    <tr>\n",
       "      <th>2</th>\n",
       "      <td>2006-01-01 02:00:00</td>\n",
       "      <td>49.24</td>\n",
       "      <td>4.04</td>\n",
       "      <td>3.143404</td>\n",
       "      <td>3.604999</td>\n",
       "      <td>275.22950</td>\n",
       "      <td>276.68042</td>\n",
       "      <td>98711.625</td>\n",
       "      <td>97.719006</td>\n",
       "      <td>4.782992</td>\n",
       "      <td>221.087024</td>\n",
       "      <td>228.912976</td>\n",
       "      <td>221.087024</td>\n",
       "    </tr>\n",
       "    <tr>\n",
       "      <th>3</th>\n",
       "      <td>2006-01-01 03:00:00</td>\n",
       "      <td>49.24</td>\n",
       "      <td>4.04</td>\n",
       "      <td>2.849324</td>\n",
       "      <td>3.933670</td>\n",
       "      <td>274.98290</td>\n",
       "      <td>276.33423</td>\n",
       "      <td>98712.940</td>\n",
       "      <td>97.871491</td>\n",
       "      <td>4.857202</td>\n",
       "      <td>215.917410</td>\n",
       "      <td>234.082590</td>\n",
       "      <td>215.917410</td>\n",
       "    </tr>\n",
       "    <tr>\n",
       "      <th>4</th>\n",
       "      <td>2006-01-01 04:00:00</td>\n",
       "      <td>49.24</td>\n",
       "      <td>4.04</td>\n",
       "      <td>2.640510</td>\n",
       "      <td>4.301672</td>\n",
       "      <td>275.22095</td>\n",
       "      <td>276.55884</td>\n",
       "      <td>98708.875</td>\n",
       "      <td>97.894295</td>\n",
       "      <td>5.047442</td>\n",
       "      <td>211.542989</td>\n",
       "      <td>238.457011</td>\n",
       "      <td>211.542989</td>\n",
       "    </tr>\n",
       "  </tbody>\n",
       "</table>\n",
       "</div>"
      ],
      "text/plain": [
       "                  time  latitude  longitude  10m-U_wind_ms  10m-V_wind_ms  \\\n",
       "0  2006-01-01 00:00:00     49.24       4.04       3.134243       3.244023   \n",
       "1  2006-01-01 01:00:00     49.24       4.04       3.309480       3.341477   \n",
       "2  2006-01-01 02:00:00     49.24       4.04       3.143404       3.604999   \n",
       "3  2006-01-01 03:00:00     49.24       4.04       2.849324       3.933670   \n",
       "4  2006-01-01 04:00:00     49.24       4.04       2.640510       4.301672   \n",
       "\n",
       "   2m_DewPoint_Temperature_K  2m_Temperature_K  Surface_Pressure_Pa  \\\n",
       "0                  275.30566         276.48438            98688.500   \n",
       "1                  275.23462         276.61914            98683.940   \n",
       "2                  275.22950         276.68042            98711.625   \n",
       "3                  274.98290         276.33423            98712.940   \n",
       "4                  275.22095         276.55884            98708.875   \n",
       "\n",
       "          RH  Wind_Speed  Wind_Direction_CMEMS  Wind_Direction_Charbel  \\\n",
       "0  98.142507    4.510783            224.013944              225.986056   \n",
       "1  97.822016    4.702991            224.724353              225.275647   \n",
       "2  97.719006    4.782992            221.087024              228.912976   \n",
       "3  97.871491    4.857202            215.917410              234.082590   \n",
       "4  97.894295    5.047442            211.542989              238.457011   \n",
       "\n",
       "   Wind_Direction_Era5  \n",
       "0           224.013944  \n",
       "1           224.724353  \n",
       "2           221.087024  \n",
       "3           215.917410  \n",
       "4           211.542989  "
      ]
     },
     "execution_count": 35,
     "metadata": {},
     "output_type": "execute_result"
    }
   ],
   "source": [
    "data_prunay = pd.read_csv('Atmo\\donnees_Celine_LJ.csv')\n",
    "data_prunay.head()"
   ]
  },
  {
   "cell_type": "code",
   "execution_count": 36,
   "id": "7a1c2b3f",
   "metadata": {},
   "outputs": [
    {
     "data": {
      "application/vnd.microsoft.datawrangler.viewer.v0+json": {
       "columns": [
        {
         "name": "index",
         "rawType": "object",
         "type": "string"
        },
        {
         "name": "0",
         "rawType": "object",
         "type": "unknown"
        }
       ],
       "ref": "c1099918-17ac-4346-96ea-a55ea7ec1f6c",
       "rows": [
        [
         "time",
         "object"
        ],
        [
         "latitude",
         "float64"
        ],
        [
         "longitude",
         "float64"
        ],
        [
         "10m-U_wind_ms",
         "float64"
        ],
        [
         "10m-V_wind_ms",
         "float64"
        ],
        [
         "2m_DewPoint_Temperature_K",
         "float64"
        ],
        [
         "2m_Temperature_K",
         "float64"
        ],
        [
         "Surface_Pressure_Pa",
         "float64"
        ],
        [
         "RH",
         "float64"
        ],
        [
         "Wind_Speed",
         "float64"
        ],
        [
         "Wind_Direction_CMEMS",
         "float64"
        ],
        [
         "Wind_Direction_Charbel",
         "float64"
        ],
        [
         "Wind_Direction_Era5",
         "float64"
        ]
       ],
       "shape": {
        "columns": 1,
        "rows": 13
       }
      },
      "text/plain": [
       "time                          object\n",
       "latitude                     float64\n",
       "longitude                    float64\n",
       "10m-U_wind_ms                float64\n",
       "10m-V_wind_ms                float64\n",
       "2m_DewPoint_Temperature_K    float64\n",
       "2m_Temperature_K             float64\n",
       "Surface_Pressure_Pa          float64\n",
       "RH                           float64\n",
       "Wind_Speed                   float64\n",
       "Wind_Direction_CMEMS         float64\n",
       "Wind_Direction_Charbel       float64\n",
       "Wind_Direction_Era5          float64\n",
       "dtype: object"
      ]
     },
     "execution_count": 36,
     "metadata": {},
     "output_type": "execute_result"
    }
   ],
   "source": [
    "data_prunay.dtypes"
   ]
  },
  {
   "cell_type": "code",
   "execution_count": 37,
   "id": "c9ba6293",
   "metadata": {},
   "outputs": [
    {
     "data": {
      "application/vnd.microsoft.datawrangler.viewer.v0+json": {
       "columns": [
        {
         "name": "time",
         "rawType": "datetime64[ns]",
         "type": "datetime"
        },
        {
         "name": "latitude",
         "rawType": "float64",
         "type": "float"
        },
        {
         "name": "longitude",
         "rawType": "float64",
         "type": "float"
        },
        {
         "name": "10m-U_wind_ms",
         "rawType": "float64",
         "type": "float"
        },
        {
         "name": "10m-V_wind_ms",
         "rawType": "float64",
         "type": "float"
        },
        {
         "name": "2m_DewPoint_Temperature_K",
         "rawType": "float64",
         "type": "float"
        },
        {
         "name": "2m_Temperature_K",
         "rawType": "float64",
         "type": "float"
        },
        {
         "name": "Surface_Pressure_Pa",
         "rawType": "float64",
         "type": "float"
        },
        {
         "name": "RH",
         "rawType": "float64",
         "type": "float"
        },
        {
         "name": "Wind_Speed",
         "rawType": "float64",
         "type": "float"
        },
        {
         "name": "Wind_Direction_CMEMS",
         "rawType": "float64",
         "type": "float"
        },
        {
         "name": "Wind_Direction_Charbel",
         "rawType": "float64",
         "type": "float"
        },
        {
         "name": "Wind_Direction_Era5",
         "rawType": "float64",
         "type": "float"
        }
       ],
       "ref": "50dd7ecf-b5d2-4c06-bfa1-a036b7f8dbf3",
       "rows": [
        [
         "2006-01-01 00:00:00",
         "49.24",
         "4.04",
         "3.134243",
         "3.2440233",
         "275.30566",
         "276.48438",
         "98688.5",
         "98.14250748813592",
         "4.51078334150421",
         "224.01394413981896",
         "225.98605586018104",
         "224.013944139819"
        ],
        [
         "2006-01-01 01:00:00",
         "49.24",
         "4.04",
         "3.3094797",
         "3.3414774",
         "275.23462",
         "276.61914",
         "98683.94",
         "97.82201601103807",
         "4.702991292722415",
         "224.7243526018587",
         "225.2756473981413",
         "224.7243526018587"
        ],
        [
         "2006-01-01 02:00:00",
         "49.24",
         "4.04",
         "3.143404",
         "3.6049995",
         "275.2295",
         "276.68042",
         "98711.625",
         "97.71900636903098",
         "4.782991752263039",
         "221.08702366595807",
         "228.91297633404196",
         "221.0870236659581"
        ],
        [
         "2006-01-01 03:00:00",
         "49.24",
         "4.04",
         "2.8493242",
         "3.93367",
         "274.9829",
         "276.33423",
         "98712.94",
         "97.87149132915113",
         "4.857201670262996",
         "215.9174097933173",
         "234.0825902066827",
         "215.9174097933173"
        ],
        [
         "2006-01-01 04:00:00",
         "49.24",
         "4.04",
         "2.6405096",
         "4.301672",
         "275.22095",
         "276.55884",
         "98708.875",
         "97.89429505184646",
         "5.047442217923466",
         "211.54298899956456",
         "238.45701100043544",
         "211.54298899956456"
        ]
       ],
       "shape": {
        "columns": 12,
        "rows": 5
       }
      },
      "text/html": [
       "<div>\n",
       "<style scoped>\n",
       "    .dataframe tbody tr th:only-of-type {\n",
       "        vertical-align: middle;\n",
       "    }\n",
       "\n",
       "    .dataframe tbody tr th {\n",
       "        vertical-align: top;\n",
       "    }\n",
       "\n",
       "    .dataframe thead th {\n",
       "        text-align: right;\n",
       "    }\n",
       "</style>\n",
       "<table border=\"1\" class=\"dataframe\">\n",
       "  <thead>\n",
       "    <tr style=\"text-align: right;\">\n",
       "      <th></th>\n",
       "      <th>latitude</th>\n",
       "      <th>longitude</th>\n",
       "      <th>10m-U_wind_ms</th>\n",
       "      <th>10m-V_wind_ms</th>\n",
       "      <th>2m_DewPoint_Temperature_K</th>\n",
       "      <th>2m_Temperature_K</th>\n",
       "      <th>Surface_Pressure_Pa</th>\n",
       "      <th>RH</th>\n",
       "      <th>Wind_Speed</th>\n",
       "      <th>Wind_Direction_CMEMS</th>\n",
       "      <th>Wind_Direction_Charbel</th>\n",
       "      <th>Wind_Direction_Era5</th>\n",
       "    </tr>\n",
       "    <tr>\n",
       "      <th>time</th>\n",
       "      <th></th>\n",
       "      <th></th>\n",
       "      <th></th>\n",
       "      <th></th>\n",
       "      <th></th>\n",
       "      <th></th>\n",
       "      <th></th>\n",
       "      <th></th>\n",
       "      <th></th>\n",
       "      <th></th>\n",
       "      <th></th>\n",
       "      <th></th>\n",
       "    </tr>\n",
       "  </thead>\n",
       "  <tbody>\n",
       "    <tr>\n",
       "      <th>2006-01-01 00:00:00</th>\n",
       "      <td>49.24</td>\n",
       "      <td>4.04</td>\n",
       "      <td>3.134243</td>\n",
       "      <td>3.244023</td>\n",
       "      <td>275.30566</td>\n",
       "      <td>276.48438</td>\n",
       "      <td>98688.500</td>\n",
       "      <td>98.142507</td>\n",
       "      <td>4.510783</td>\n",
       "      <td>224.013944</td>\n",
       "      <td>225.986056</td>\n",
       "      <td>224.013944</td>\n",
       "    </tr>\n",
       "    <tr>\n",
       "      <th>2006-01-01 01:00:00</th>\n",
       "      <td>49.24</td>\n",
       "      <td>4.04</td>\n",
       "      <td>3.309480</td>\n",
       "      <td>3.341477</td>\n",
       "      <td>275.23462</td>\n",
       "      <td>276.61914</td>\n",
       "      <td>98683.940</td>\n",
       "      <td>97.822016</td>\n",
       "      <td>4.702991</td>\n",
       "      <td>224.724353</td>\n",
       "      <td>225.275647</td>\n",
       "      <td>224.724353</td>\n",
       "    </tr>\n",
       "    <tr>\n",
       "      <th>2006-01-01 02:00:00</th>\n",
       "      <td>49.24</td>\n",
       "      <td>4.04</td>\n",
       "      <td>3.143404</td>\n",
       "      <td>3.604999</td>\n",
       "      <td>275.22950</td>\n",
       "      <td>276.68042</td>\n",
       "      <td>98711.625</td>\n",
       "      <td>97.719006</td>\n",
       "      <td>4.782992</td>\n",
       "      <td>221.087024</td>\n",
       "      <td>228.912976</td>\n",
       "      <td>221.087024</td>\n",
       "    </tr>\n",
       "    <tr>\n",
       "      <th>2006-01-01 03:00:00</th>\n",
       "      <td>49.24</td>\n",
       "      <td>4.04</td>\n",
       "      <td>2.849324</td>\n",
       "      <td>3.933670</td>\n",
       "      <td>274.98290</td>\n",
       "      <td>276.33423</td>\n",
       "      <td>98712.940</td>\n",
       "      <td>97.871491</td>\n",
       "      <td>4.857202</td>\n",
       "      <td>215.917410</td>\n",
       "      <td>234.082590</td>\n",
       "      <td>215.917410</td>\n",
       "    </tr>\n",
       "    <tr>\n",
       "      <th>2006-01-01 04:00:00</th>\n",
       "      <td>49.24</td>\n",
       "      <td>4.04</td>\n",
       "      <td>2.640510</td>\n",
       "      <td>4.301672</td>\n",
       "      <td>275.22095</td>\n",
       "      <td>276.55884</td>\n",
       "      <td>98708.875</td>\n",
       "      <td>97.894295</td>\n",
       "      <td>5.047442</td>\n",
       "      <td>211.542989</td>\n",
       "      <td>238.457011</td>\n",
       "      <td>211.542989</td>\n",
       "    </tr>\n",
       "  </tbody>\n",
       "</table>\n",
       "</div>"
      ],
      "text/plain": [
       "                     latitude  longitude  10m-U_wind_ms  10m-V_wind_ms  \\\n",
       "time                                                                     \n",
       "2006-01-01 00:00:00     49.24       4.04       3.134243       3.244023   \n",
       "2006-01-01 01:00:00     49.24       4.04       3.309480       3.341477   \n",
       "2006-01-01 02:00:00     49.24       4.04       3.143404       3.604999   \n",
       "2006-01-01 03:00:00     49.24       4.04       2.849324       3.933670   \n",
       "2006-01-01 04:00:00     49.24       4.04       2.640510       4.301672   \n",
       "\n",
       "                     2m_DewPoint_Temperature_K  2m_Temperature_K  \\\n",
       "time                                                               \n",
       "2006-01-01 00:00:00                  275.30566         276.48438   \n",
       "2006-01-01 01:00:00                  275.23462         276.61914   \n",
       "2006-01-01 02:00:00                  275.22950         276.68042   \n",
       "2006-01-01 03:00:00                  274.98290         276.33423   \n",
       "2006-01-01 04:00:00                  275.22095         276.55884   \n",
       "\n",
       "                     Surface_Pressure_Pa         RH  Wind_Speed  \\\n",
       "time                                                              \n",
       "2006-01-01 00:00:00            98688.500  98.142507    4.510783   \n",
       "2006-01-01 01:00:00            98683.940  97.822016    4.702991   \n",
       "2006-01-01 02:00:00            98711.625  97.719006    4.782992   \n",
       "2006-01-01 03:00:00            98712.940  97.871491    4.857202   \n",
       "2006-01-01 04:00:00            98708.875  97.894295    5.047442   \n",
       "\n",
       "                     Wind_Direction_CMEMS  Wind_Direction_Charbel  \\\n",
       "time                                                                \n",
       "2006-01-01 00:00:00            224.013944              225.986056   \n",
       "2006-01-01 01:00:00            224.724353              225.275647   \n",
       "2006-01-01 02:00:00            221.087024              228.912976   \n",
       "2006-01-01 03:00:00            215.917410              234.082590   \n",
       "2006-01-01 04:00:00            211.542989              238.457011   \n",
       "\n",
       "                     Wind_Direction_Era5  \n",
       "time                                      \n",
       "2006-01-01 00:00:00           224.013944  \n",
       "2006-01-01 01:00:00           224.724353  \n",
       "2006-01-01 02:00:00           221.087024  \n",
       "2006-01-01 03:00:00           215.917410  \n",
       "2006-01-01 04:00:00           211.542989  "
      ]
     },
     "execution_count": 37,
     "metadata": {},
     "output_type": "execute_result"
    }
   ],
   "source": [
    "data_prunay['time'] = pd.to_datetime(data_prunay['time'], format='%Y-%m-%d %H:%M:%S')\n",
    "data_prunay.set_index('time', inplace=True)\n",
    "data_prunay.head()"
   ]
  },
  {
   "cell_type": "code",
   "execution_count": 38,
   "id": "6013c2e1",
   "metadata": {},
   "outputs": [],
   "source": [
    "data_prunay.drop(['latitude', 'longitude'], axis=1, inplace=True)"
   ]
  },
  {
   "cell_type": "markdown",
   "id": "86ae2efe",
   "metadata": {},
   "source": [
    "##### Correlation Barplot with meantemp feature"
   ]
  },
  {
   "cell_type": "code",
   "execution_count": 39,
   "id": "a91199a7",
   "metadata": {},
   "outputs": [
    {
     "name": "stderr",
     "output_type": "stream",
     "text": [
      "C:\\Users\\dvesa\\AppData\\Local\\Temp\\ipykernel_11168\\3061415635.py:8: FutureWarning: \n",
      "\n",
      "Passing `palette` without assigning `hue` is deprecated and will be removed in v0.14.0. Assign the `x` variable to `hue` and set `legend=False` for the same effect.\n",
      "\n",
      "  ax = sns.barplot(x=correlation_with_trgt.index, y=correlation_with_trgt, palette='viridis')\n"
     ]
    },
    {
     "data": {
      "image/png": "[encoded data removed]",
      "text/plain": [
       "<Figure size 800x400 with 1 Axes>"
      ]
     },
     "metadata": {},
     "output_type": "display_data"
    }
   ],
   "source": [
    "plt.figure(figsize=(8, 4))\n",
    "sns.set_style('darkgrid')\n",
    "\n",
    "correlation_matrix = round(data_prunay.corr(), 2)\n",
    "\n",
    "correlation_with_trgt = correlation_matrix['2m_Temperature_K'].sort_values(ascending=False)\n",
    "\n",
    "ax = sns.barplot(x=correlation_with_trgt.index, y=correlation_with_trgt, palette='viridis')\n",
    "\n",
    "plt.title('Correlation with meantemp', size= 20)\n",
    "plt.xlabel('Features')\n",
    "plt.ylabel('Correlation')\n",
    "\n",
    "for p in ax.patches:\n",
    "    ax.annotate(f'{p.get_height()}', (p.get_x() + p.get_width() / 2., p.get_height()),\n",
    "                ha='center', va='center', xytext=(0, 10), textcoords='offset points')\n",
    "\n",
    "plt.xticks(rotation=45, ha='right')\n",
    "plt.show()"
   ]
  },
  {
   "cell_type": "code",
   "execution_count": 40,
   "id": "b9b39b4c",
   "metadata": {},
   "outputs": [],
   "source": [
    "data_prunay = data_prunay[[\"2m_Temperature_K\", \"RH\"]].copy()"
   ]
  },
  {
   "cell_type": "code",
   "execution_count": 41,
   "id": "009d47ed",
   "metadata": {},
   "outputs": [],
   "source": [
    "data_prunay['2m_Temperature_C'] = data_prunay['2m_Temperature_K'] - 273.15\n",
    "data_prunay.drop(['2m_Temperature_K'], axis=1, inplace=True)"
   ]
  },
  {
   "cell_type": "code",
   "execution_count": 43,
   "id": "1da0d325",
   "metadata": {},
   "outputs": [],
   "source": [
    "data_prunay = data_prunay.resample('D').mean()"
   ]
  },
  {
   "cell_type": "code",
   "execution_count": 45,
   "id": "3cda5863",
   "metadata": {},
   "outputs": [
    {
     "data": {
      "text/plain": [
       "(7103, 2)"
      ]
     },
     "execution_count": 45,
     "metadata": {},
     "output_type": "execute_result"
    }
   ],
   "source": [
    "data_prunay.shape"
   ]
  },
  {
   "cell_type": "code",
   "execution_count": 46,
   "id": "31f6c21d",
   "metadata": {},
   "outputs": [
    {
     "name": "stdout",
     "output_type": "stream",
     "text": [
      "Train size : 4972\n",
      "Val size : 1420\n",
      "Test size : 711\n"
     ]
    }
   ],
   "source": [
    "dl_train_data_prunay, dl_val_data_prunay, dl_test_data_prunay = split_dataframe(data_prunay)"
   ]
  },
  {
   "cell_type": "code",
   "execution_count": 47,
   "id": "7cdee804",
   "metadata": {},
   "outputs": [
    {
     "data": {
      "application/vnd.microsoft.datawrangler.viewer.v0+json": {
       "columns": [
        {
         "name": "time",
         "rawType": "datetime64[ns]",
         "type": "datetime"
        },
        {
         "name": "RH",
         "rawType": "float64",
         "type": "float"
        },
        {
         "name": "2m_Temperature_C",
         "rawType": "float64",
         "type": "float"
        }
       ],
       "ref": "3a6ef388-d13a-4908-9ee6-e6811cfe4208",
       "rows": [
        [
         "2006-01-01 00:00:00",
         "98.54022828882951",
         "4.205977083333356"
        ],
        [
         "2006-01-02 00:00:00",
         "97.5905479345883",
         "3.84631666666669"
        ],
        [
         "2006-01-03 00:00:00",
         "97.84922445710477",
         "2.389316250000031"
        ],
        [
         "2006-01-04 00:00:00",
         "96.99051174573545",
         "0.7748766666666876"
        ],
        [
         "2006-01-05 00:00:00",
         "96.74439299461882",
         "0.24909833333335266"
        ],
        [
         "2006-01-06 00:00:00",
         "96.83948316107193",
         "0.30334916666669187"
        ],
        [
         "2006-01-07 00:00:00",
         "96.412402914228",
         "1.6333545833333574"
        ],
        [
         "2006-01-08 00:00:00",
         "95.29310466880338",
         "1.58446666666669"
        ],
        [
         "2006-01-09 00:00:00",
         "96.03447418979874",
         "-0.350774999999975"
        ],
        [
         "2006-01-10 00:00:00",
         "98.19044348700326",
         "-0.5340124999999792"
        ],
        [
         "2006-01-11 00:00:00",
         "99.24716167812586",
         "2.0271637500000232"
        ],
        [
         "2006-01-12 00:00:00",
         "99.11908736238985",
         "3.4558850000000234"
        ],
        [
         "2006-01-13 00:00:00",
         "98.66141020059472",
         "0.9475145833333537"
        ],
        [
         "2006-01-14 00:00:00",
         "96.24469542291043",
         "0.5483233333333549"
        ],
        [
         "2006-01-15 00:00:00",
         "96.93892975349138",
         "-1.2462133333333132"
        ],
        [
         "2006-01-16 00:00:00",
         "96.47516525876692",
         "2.0472650000000243"
        ],
        [
         "2006-01-17 00:00:00",
         "98.65335123536256",
         "6.34740666666669"
        ],
        [
         "2006-01-18 00:00:00",
         "98.83863184596662",
         "5.875827083333358"
        ],
        [
         "2006-01-19 00:00:00",
         "99.21071144781284",
         "6.780154583333356"
        ],
        [
         "2006-01-20 00:00:00",
         "98.01317691628215",
         "7.216140000000017"
        ],
        [
         "2006-01-21 00:00:00",
         "97.94786649718615",
         "4.0525554166666895"
        ],
        [
         "2006-01-22 00:00:00",
         "95.26190386238613",
         "3.4746829166666893"
        ],
        [
         "2006-01-23 00:00:00",
         "91.81340379780623",
         "-0.4011916666666456"
        ],
        [
         "2006-01-24 00:00:00",
         "90.93641472007249",
         "-2.6410904166666476"
        ],
        [
         "2006-01-25 00:00:00",
         "94.91565403846187",
         "-2.158677083333309"
        ],
        [
         "2006-01-26 00:00:00",
         "93.67006563117668",
         "-0.3791858333333096"
        ],
        [
         "2006-01-27 00:00:00",
         "95.29347991608233",
         "-4.600947916666645"
        ],
        [
         "2006-01-28 00:00:00",
         "91.98836133840409",
         "-1.4687970833333115"
        ],
        [
         "2006-01-29 00:00:00",
         "85.63831253411985",
         "1.515943750000022"
        ],
        [
         "2006-01-30 00:00:00",
         "89.35001769839738",
         "0.34276916666669166"
        ],
        [
         "2006-01-31 00:00:00",
         "93.89945987831759",
         "-0.12455833333330919"
        ],
        [
         "2006-02-01 00:00:00",
         "96.33534667345272",
         "-2.0150199999999736"
        ],
        [
         "2006-02-02 00:00:00",
         "99.13645229023273",
         "-2.0052237499999848"
        ],
        [
         "2006-02-03 00:00:00",
         "97.64635118456873",
         "-3.7564254166666444"
        ],
        [
         "2006-02-04 00:00:00",
         "97.343157819245",
         "0.11521916666669085"
        ],
        [
         "2006-02-05 00:00:00",
         "97.9325915346402",
         "2.5184770833333516"
        ],
        [
         "2006-02-06 00:00:00",
         "98.44138996321756",
         "4.469975000000019"
        ],
        [
         "2006-02-07 00:00:00",
         "97.2170406426075",
         "4.402045416666685"
        ],
        [
         "2006-02-08 00:00:00",
         "96.37383988587173",
         "4.65695541666669"
        ],
        [
         "2006-02-09 00:00:00",
         "95.70171049208624",
         "1.9240854166666874"
        ],
        [
         "2006-02-10 00:00:00",
         "96.3508459390798",
         "1.4072508333333527"
        ],
        [
         "2006-02-11 00:00:00",
         "95.53917597890188",
         "1.5326070833333578"
        ],
        [
         "2006-02-12 00:00:00",
         "95.30719037809888",
         "1.491499166666685"
        ],
        [
         "2006-02-13 00:00:00",
         "99.81671224667097",
         "1.7509495833333542"
        ],
        [
         "2006-02-14 00:00:00",
         "98.0818461388107",
         "5.0440125000000195"
        ],
        [
         "2006-02-15 00:00:00",
         "98.06577699903617",
         "7.91969041666669"
        ],
        [
         "2006-02-16 00:00:00",
         "97.05250482347083",
         "7.388249583333355"
        ],
        [
         "2006-02-17 00:00:00",
         "95.14960463180593",
         "6.000155416666689"
        ],
        [
         "2006-02-18 00:00:00",
         "97.3570819534768",
         "5.268161666666693"
        ],
        [
         "2006-02-19 00:00:00",
         "97.67982063130312",
         "5.59525041666669"
        ]
       ],
       "shape": {
        "columns": 2,
        "rows": 4972
       }
      },
      "text/html": [
       "<div>\n",
       "<style scoped>\n",
       "    .dataframe tbody tr th:only-of-type {\n",
       "        vertical-align: middle;\n",
       "    }\n",
       "\n",
       "    .dataframe tbody tr th {\n",
       "        vertical-align: top;\n",
       "    }\n",
       "\n",
       "    .dataframe thead th {\n",
       "        text-align: right;\n",
       "    }\n",
       "</style>\n",
       "<table border=\"1\" class=\"dataframe\">\n",
       "  <thead>\n",
       "    <tr style=\"text-align: right;\">\n",
       "      <th></th>\n",
       "      <th>RH</th>\n",
       "      <th>2m_Temperature_C</th>\n",
       "    </tr>\n",
       "    <tr>\n",
       "      <th>time</th>\n",
       "      <th></th>\n",
       "      <th></th>\n",
       "    </tr>\n",
       "  </thead>\n",
       "  <tbody>\n",
       "    <tr>\n",
       "      <th>2006-01-01</th>\n",
       "      <td>98.540228</td>\n",
       "      <td>4.205977</td>\n",
       "    </tr>\n",
       "    <tr>\n",
       "      <th>2006-01-02</th>\n",
       "      <td>97.590548</td>\n",
       "      <td>3.846317</td>\n",
       "    </tr>\n",
       "    <tr>\n",
       "      <th>2006-01-03</th>\n",
       "      <td>97.849224</td>\n",
       "      <td>2.389316</td>\n",
       "    </tr>\n",
       "    <tr>\n",
       "      <th>2006-01-04</th>\n",
       "      <td>96.990512</td>\n",
       "      <td>0.774877</td>\n",
       "    </tr>\n",
       "    <tr>\n",
       "      <th>2006-01-05</th>\n",
       "      <td>96.744393</td>\n",
       "      <td>0.249098</td>\n",
       "    </tr>\n",
       "    <tr>\n",
       "      <th>...</th>\n",
       "      <td>...</td>\n",
       "      <td>...</td>\n",
       "    </tr>\n",
       "    <tr>\n",
       "      <th>2019-08-08</th>\n",
       "      <td>86.814751</td>\n",
       "      <td>22.202365</td>\n",
       "    </tr>\n",
       "    <tr>\n",
       "      <th>2019-08-09</th>\n",
       "      <td>92.293224</td>\n",
       "      <td>22.231662</td>\n",
       "    </tr>\n",
       "    <tr>\n",
       "      <th>2019-08-10</th>\n",
       "      <td>87.152592</td>\n",
       "      <td>21.144493</td>\n",
       "    </tr>\n",
       "    <tr>\n",
       "      <th>2019-08-11</th>\n",
       "      <td>91.922435</td>\n",
       "      <td>16.685735</td>\n",
       "    </tr>\n",
       "    <tr>\n",
       "      <th>2019-08-12</th>\n",
       "      <td>93.129644</td>\n",
       "      <td>16.518068</td>\n",
       "    </tr>\n",
       "  </tbody>\n",
       "</table>\n",
       "<p>4972 rows × 2 columns</p>\n",
       "</div>"
      ],
      "text/plain": [
       "                   RH  2m_Temperature_C\n",
       "time                                   \n",
       "2006-01-01  98.540228          4.205977\n",
       "2006-01-02  97.590548          3.846317\n",
       "2006-01-03  97.849224          2.389316\n",
       "2006-01-04  96.990512          0.774877\n",
       "2006-01-05  96.744393          0.249098\n",
       "...               ...               ...\n",
       "2019-08-08  86.814751         22.202365\n",
       "2019-08-09  92.293224         22.231662\n",
       "2019-08-10  87.152592         21.144493\n",
       "2019-08-11  91.922435         16.685735\n",
       "2019-08-12  93.129644         16.518068\n",
       "\n",
       "[4972 rows x 2 columns]"
      ]
     },
     "execution_count": 47,
     "metadata": {},
     "output_type": "execute_result"
    }
   ],
   "source": [
    "dl_train_data_prunay"
   ]
  },
  {
   "cell_type": "code",
   "execution_count": 48,
   "id": "9a8de32b",
   "metadata": {},
   "outputs": [],
   "source": [
    "minmax_scaler_data_prunay = MinMaxScaler()  # scaler for humidity\n",
    "target_transformer_data_prunay = MinMaxScaler()   # scaler for target (meantemp)"
   ]
  },
  {
   "cell_type": "code",
   "execution_count": 49,
   "id": "98a52cc4",
   "metadata": {},
   "outputs": [],
   "source": [
    "dl_train_data_prunay['2m_Temperature_C'] = target_transformer_data_prunay.fit_transform(dl_train_data_prunay[['2m_Temperature_C']]) # target\n",
    "dl_train_data_prunay['RH'] = minmax_scaler_data_prunay.fit_transform(dl_train_data_prunay[['RH']]) # minmax for humidity\n",
    "\n",
    "dl_val_data_prunay['2m_Temperature_C'] = target_transformer_data_prunay.transform(dl_val_data_prunay[['2m_Temperature_C']])\n",
    "dl_val_data_prunay['RH'] = minmax_scaler_data_prunay.transform(dl_val_data_prunay[['RH']])\n",
    "\n",
    "dl_test_data_prunay['2m_Temperature_C'] = target_transformer_data_prunay.transform(dl_test_data_prunay[['2m_Temperature_C']])\n",
    "dl_test_data_prunay['RH'] = minmax_scaler_data_prunay.transform(dl_test_data_prunay[['RH']])"
   ]
  },
  {
   "cell_type": "code",
   "execution_count": 50,
   "id": "09f486dd",
   "metadata": {},
   "outputs": [],
   "source": [
    "# Create sequences\n",
    "sequence_length = 3 # Example sequence length (adjust based on your data and experimentation)\n",
    "X_data_prunay_train, y_data_prunay_train = create_dataset(dl_train_data_prunay, dl_train_data_prunay['2m_Temperature_C'], sequence_length)\n",
    "X_data_prunay_val, y_data_prunay_val = create_dataset(dl_val_data_prunay, dl_val_data_prunay['2m_Temperature_C'], sequence_length)\n",
    "X_data_prunay_test, y_data_prunay_test = create_dataset(dl_test_data_prunay, dl_test_data_prunay['2m_Temperature_C'], sequence_length)"
   ]
  },
  {
   "cell_type": "code",
   "execution_count": 53,
   "id": "014ed35f",
   "metadata": {},
   "outputs": [
    {
     "name": "stdout",
     "output_type": "stream",
     "text": [
      "Epoch 1/50\n",
      "311/311 [==============================] - 4s 4ms/step - loss: 0.0086 - val_loss: 0.0040\n",
      "Epoch 2/50\n",
      "311/311 [==============================] - 1s 2ms/step - loss: 0.0034 - val_loss: 0.0035\n",
      "Epoch 3/50\n",
      "311/311 [==============================] - 1s 3ms/step - loss: 0.0031 - val_loss: 0.0030\n",
      "Epoch 4/50\n",
      "311/311 [==============================] - 1s 3ms/step - loss: 0.0030 - val_loss: 0.0039\n",
      "Epoch 5/50\n",
      "311/311 [==============================] - 1s 3ms/step - loss: 0.0030 - val_loss: 0.0031\n",
      "Epoch 6/50\n",
      "311/311 [==============================] - 1s 3ms/step - loss: 0.0027 - val_loss: 0.0026\n",
      "Epoch 7/50\n",
      "311/311 [==============================] - 1s 3ms/step - loss: 0.0026 - val_loss: 0.0030\n",
      "Epoch 8/50\n",
      "311/311 [==============================] - 1s 2ms/step - loss: 0.0025 - val_loss: 0.0025\n",
      "Epoch 9/50\n",
      "311/311 [==============================] - 1s 2ms/step - loss: 0.0024 - val_loss: 0.0026\n",
      "Epoch 10/50\n",
      "311/311 [==============================] - 1s 2ms/step - loss: 0.0024 - val_loss: 0.0026\n",
      "Epoch 11/50\n",
      "311/311 [==============================] - 1s 2ms/step - loss: 0.0024 - val_loss: 0.0026\n",
      "Epoch 12/50\n",
      "311/311 [==============================] - 1s 3ms/step - loss: 0.0024 - val_loss: 0.0025\n",
      "Epoch 13/50\n",
      "311/311 [==============================] - 1s 2ms/step - loss: 0.0024 - val_loss: 0.0026\n",
      "Epoch 14/50\n",
      "311/311 [==============================] - 1s 3ms/step - loss: 0.0024 - val_loss: 0.0026\n",
      "Epoch 15/50\n",
      "311/311 [==============================] - 1s 3ms/step - loss: 0.0024 - val_loss: 0.0027\n",
      "Epoch 16/50\n",
      "311/311 [==============================] - 1s 2ms/step - loss: 0.0024 - val_loss: 0.0026\n",
      "Epoch 17/50\n",
      "311/311 [==============================] - 1s 2ms/step - loss: 0.0024 - val_loss: 0.0025\n",
      "Epoch 18/50\n",
      "311/311 [==============================] - 1s 2ms/step - loss: 0.0024 - val_loss: 0.0024\n",
      "Epoch 19/50\n",
      "311/311 [==============================] - 1s 3ms/step - loss: 0.0024 - val_loss: 0.0026\n",
      "Epoch 20/50\n",
      "311/311 [==============================] - 1s 2ms/step - loss: 0.0024 - val_loss: 0.0029\n",
      "Epoch 21/50\n",
      "311/311 [==============================] - 1s 3ms/step - loss: 0.0024 - val_loss: 0.0026\n",
      "Epoch 22/50\n",
      "311/311 [==============================] - 1s 2ms/step - loss: 0.0024 - val_loss: 0.0027\n",
      "Epoch 23/50\n",
      "311/311 [==============================] - 1s 3ms/step - loss: 0.0023 - val_loss: 0.0024\n",
      "Epoch 24/50\n",
      "311/311 [==============================] - 1s 3ms/step - loss: 0.0024 - val_loss: 0.0024\n",
      "Epoch 25/50\n",
      "311/311 [==============================] - 1s 3ms/step - loss: 0.0023 - val_loss: 0.0026\n",
      "Epoch 26/50\n",
      "311/311 [==============================] - 1s 3ms/step - loss: 0.0024 - val_loss: 0.0025\n",
      "Epoch 27/50\n",
      "311/311 [==============================] - 1s 3ms/step - loss: 0.0024 - val_loss: 0.0028\n",
      "Epoch 28/50\n",
      "311/311 [==============================] - 1s 3ms/step - loss: 0.0024 - val_loss: 0.0025\n",
      "Epoch 29/50\n",
      "311/311 [==============================] - 1s 2ms/step - loss: 0.0024 - val_loss: 0.0025\n",
      "Epoch 30/50\n",
      "311/311 [==============================] - 1s 2ms/step - loss: 0.0023 - val_loss: 0.0025\n",
      "Epoch 31/50\n",
      "311/311 [==============================] - 1s 2ms/step - loss: 0.0024 - val_loss: 0.0024\n",
      "Epoch 32/50\n",
      "311/311 [==============================] - 1s 2ms/step - loss: 0.0024 - val_loss: 0.0024\n",
      "Epoch 33/50\n",
      "311/311 [==============================] - 1s 3ms/step - loss: 0.0023 - val_loss: 0.0025\n",
      "Epoch 34/50\n",
      "311/311 [==============================] - 1s 2ms/step - loss: 0.0023 - val_loss: 0.0024\n",
      "Epoch 35/50\n",
      "311/311 [==============================] - 1s 2ms/step - loss: 0.0023 - val_loss: 0.0024\n",
      "Epoch 36/50\n",
      "311/311 [==============================] - 1s 2ms/step - loss: 0.0023 - val_loss: 0.0023\n",
      "Epoch 37/50\n",
      "311/311 [==============================] - 1s 2ms/step - loss: 0.0023 - val_loss: 0.0024\n",
      "Epoch 38/50\n",
      "311/311 [==============================] - 1s 2ms/step - loss: 0.0023 - val_loss: 0.0024\n",
      "Epoch 39/50\n",
      "311/311 [==============================] - 1s 2ms/step - loss: 0.0023 - val_loss: 0.0024\n",
      "Epoch 40/50\n",
      "311/311 [==============================] - 1s 2ms/step - loss: 0.0023 - val_loss: 0.0023\n",
      "Epoch 41/50\n",
      "311/311 [==============================] - 1s 2ms/step - loss: 0.0023 - val_loss: 0.0024\n",
      "Epoch 42/50\n",
      "311/311 [==============================] - 1s 2ms/step - loss: 0.0023 - val_loss: 0.0023\n",
      "Epoch 43/50\n",
      "311/311 [==============================] - 1s 2ms/step - loss: 0.0023 - val_loss: 0.0024\n",
      "Epoch 44/50\n",
      "311/311 [==============================] - 1s 3ms/step - loss: 0.0023 - val_loss: 0.0024\n",
      "Epoch 45/50\n",
      "311/311 [==============================] - 1s 2ms/step - loss: 0.0023 - val_loss: 0.0023\n",
      "Epoch 46/50\n",
      "311/311 [==============================] - 1s 3ms/step - loss: 0.0023 - val_loss: 0.0024\n",
      "Epoch 47/50\n",
      "311/311 [==============================] - 1s 3ms/step - loss: 0.0023 - val_loss: 0.0024\n",
      "Epoch 48/50\n",
      "311/311 [==============================] - 1s 3ms/step - loss: 0.0023 - val_loss: 0.0026\n",
      "Epoch 49/50\n",
      "311/311 [==============================] - 1s 2ms/step - loss: 0.0023 - val_loss: 0.0023\n",
      "Epoch 50/50\n",
      "311/311 [==============================] - 1s 2ms/step - loss: 0.0023 - val_loss: 0.0026\n"
     ]
    },
    {
     "data": {
      "text/plain": [
       "'Validation Loss: 0.002550812903791666'"
      ]
     },
     "metadata": {},
     "output_type": "display_data"
    }
   ],
   "source": [
    "model_data_prunay, history_data_prunay, val_loss_data_prunay = build_and_train_bilstm(X_data_prunay_train, y_data_prunay_train, X_data_prunay_val, y_data_prunay_val, sequence_length , units=100, epochs=50, batch_size=16)"
   ]
  },
  {
   "cell_type": "code",
   "execution_count": 54,
   "id": "19678dbe",
   "metadata": {},
   "outputs": [
    {
     "name": "stdout",
     "output_type": "stream",
     "text": [
      "Model: \"sequential_1\"\n",
      "_________________________________________________________________\n",
      " Layer (type)                Output Shape              Param #   \n",
      "=================================================================\n",
      " bidirectional_1 (Bidirecti  (None, 200)               82400     \n",
      " onal)                                                           \n",
      "                                                                 \n",
      " dense_1 (Dense)             (None, 1)                 201       \n",
      "                                                                 \n",
      "=================================================================\n",
      "Total params: 82601 (322.66 KB)\n",
      "Trainable params: 82601 (322.66 KB)\n",
      "Non-trainable params: 0 (0.00 Byte)\n",
      "_________________________________________________________________\n"
     ]
    }
   ],
   "source": [
    "model_data_prunay.summary()"
   ]
  },
  {
   "cell_type": "code",
   "execution_count": 67,
   "id": "7ca93baa",
   "metadata": {},
   "outputs": [
    {
     "name": "stdout",
     "output_type": "stream",
     "text": [
      "1120/1120 [==============================] - 2s 2ms/step\n"
     ]
    }
   ],
   "source": [
    "# Make predictions\n",
    "bilstm_data_prunay_pred = model_data_prunay.predict(X_data_prunay_val)\n",
    "bilstm_data_prunay_pred = target_transformer_data_prunay.inverse_transform(bilstm_data_prunay_pred)  # Inverse transform to original scale\n",
    "\n",
    "# Inverse transform the true values for comparison\n",
    "y_data_prunay_val = y_data_prunay_val.reshape(-1, 1)\n",
    "y_data_prunay_val = target_transformer_data_prunay.inverse_transform(y_data_prunay_val)"
   ]
  },
  {
   "cell_type": "code",
   "execution_count": 70,
   "id": "33460bcd",
   "metadata": {},
   "outputs": [
    {
     "name": "stdout",
     "output_type": "stream",
     "text": [
      "MAE: 0.36548012662454615\n",
      "RMSE: 0.5280306392557723\n",
      "R2 Score: 0.9948670462333234\n"
     ]
    },
    {
     "data": {
      "image/png": "[encoded data removed]",
      "text/plain": [
       "<Figure size 1400x700 with 1 Axes>"
      ]
     },
     "metadata": {},
     "output_type": "display_data"
    }
   ],
   "source": [
    "# Calculate MAE, RMSE and R2 scores\n",
    "mae = mean_absolute_error(y_data_prunay_val, bilstm_data_prunay_pred)\n",
    "rmse = np.sqrt(mean_squared_error(y_data_prunay_val, bilstm_data_prunay_pred))\n",
    "r2 = r2_score(y_data_prunay_val, bilstm_data_prunay_pred)\n",
    "\n",
    "\n",
    "print(f'MAE: {mae}')\n",
    "print(f'RMSE: {rmse}')\n",
    "print(f'R2 Score: {r2}')\n",
    "\n",
    "\n",
    "# Plot the results\n",
    "plt.figure(figsize=(14, 7))\n",
    "plt.plot(data_prunay.index[len(y_data_prunay_train): len(y_data_prunay_train) + len(y_data_prunay_val)], y_data_prunay_val, label='True Values')\n",
    "#plt.plot(data_prunay.index[len(y_data_prunay_train): len(y_data_prunay_train) + len(y_data_prunay_val)], bilstm_data_prunay_pred, label='Predictions', linestyle='dashed')\n",
    "plt.xlabel('Date')\n",
    "plt.ylabel('Mean Temperature')\n",
    "plt.title('Mean Temperature Predictions vs True Values')\n",
    "plt.legend()\n",
    "plt.show()"
   ]
  },
  {
   "cell_type": "code",
   "execution_count": null,
   "id": "12d0d8cc",
   "metadata": {},
   "outputs": [
    {
     "name": "stdout",
     "output_type": "stream",
     "text": [
      "MAE: 0.36548012662454615\n",
      "RMSE: 0.5280306392557723\n",
      "R2 Score: 0.9948670462333234\n"
     ]
    },
    {
     "data": {
      "image/png": "[encoded data removed]",
      "text/plain": [
       "<Figure size 1400x700 with 1 Axes>"
      ]
     },
     "metadata": {},
     "output_type": "display_data"
    }
   ],
   "source": [
    "# Calculate MAE, RMSE and R2 scores\n",
    "mae = mean_absolute_error(y_data_prunay_val, bilstm_data_prunay_pred)\n",
    "rmse = np.sqrt(mean_squared_error(y_data_prunay_val, bilstm_data_prunay_pred))\n",
    "r2 = r2_score(y_data_prunay_val, bilstm_data_prunay_pred)\n",
    "\n",
    "\n",
    "print(f'MAE: {mae}')\n",
    "print(f'RMSE: {rmse}')\n",
    "print(f'R2 Score: {r2}')\n",
    "\n",
    "\n",
    "# Plot the results\n",
    "plt.figure(figsize=(14, 7))\n",
    "plt.plot(data_prunay.index[len(y_data_prunay_train): len(y_data_prunay_train) + len(y_data_prunay_val)], y_data_prunay_val, label='True Values')\n",
    "plt.plot(data_prunay.index[len(y_data_prunay_train): len(y_data_prunay_train) + len(y_data_prunay_val)], bilstm_data_prunay_pred, label='Predictions', linestyle='dashed')\n",
    "plt.xlabel('Date')\n",
    "plt.ylabel('Mean Temperature')\n",
    "plt.title('Mean Temperature Predictions vs True Values')\n",
    "plt.legend()\n",
    "plt.show()"
   ]
  },
  {
   "cell_type": "code",
   "execution_count": null,
   "id": "13b81d9d",
   "metadata": {},
   "outputs": [],
   "source": [
    "# Calculate MAE, RMSE and R2 scores\n",
    "mae = mean_absolute_error(y_test, bilstm_pred_test)\n",
    "rmse = np.sqrt(mean_squared_error(y_test, bilstm_pred_test))\n",
    "r2 = r2_score(y_test, bilstm_pred_test)\n",
    "\n",
    "\n",
    "print(f'MAE: {mae}')\n",
    "print(f'RMSE: {rmse}')\n",
    "print(f'R2 Score: {r2}')\n",
    "\n",
    "# Plot the results\n",
    "plt.figure(figsize=(14, 7))\n",
    "plt.plot(data_bsr_2018_2019.index[-len(y_test):], y_test, label='True Values')\n",
    "plt.plot(data_bsr_2018_2019.index[-len(y_test):], bilstm_pred_test, label='Predictions', linestyle='dashed')\n",
    "plt.xlabel('Date')\n",
    "plt.ylabel('Mean Temperature')\n",
    "plt.title('Mean Temperature Predictions vs True Values')\n",
    "plt.legend()\n",
    "plt.show()"
   ]
  },
  {
   "cell_type": "markdown",
   "id": "85cd1bb3",
   "metadata": {},
   "source": [
    "#### **Dataset Releve iButton Basilique Saint-Rémi**"
   ]
  },
  {
   "cell_type": "code",
   "execution_count": null,
   "id": "5f3e2bed",
   "metadata": {},
   "outputs": [],
   "source": [
    "data_basilique_2018_2019 = pd.read_excel('Releve iButton Basilique Saint Rémi\\DATA_processing_iButton_2018_2019.xlsx',  index_col='Date Heure', parse_dates=True)\n",
    "data_basilique_2018_2019.head()"
   ]
  },
  {
   "cell_type": "code",
   "execution_count": null,
   "id": "f5ede790",
   "metadata": {},
   "outputs": [],
   "source": [
    "plt.figure(figsize=(25,5))\n",
    "labels = data_basilique_2018_2019[Temp_HR].isnull().sum().sort_values(ascending=False).index.to_list()\n",
    "sizes = data_basilique_2018_2019[Temp_HR].isnull().sum().sort_values(ascending=False).to_list()\n",
    "sns.barplot(x=labels, y=sizes)\n",
    "plt.grid()\n",
    "plt.ylim((0.0, float(data_basilique_2018_2019.shape[0])))\n",
    "plt.show()"
   ]
  },
  {
   "cell_type": "code",
   "execution_count": null,
   "id": "f58ef7bf",
   "metadata": {},
   "outputs": [],
   "source": [
    "data_bsr_2018_2019 = data_basilique_2018_2019.resample('D').mean().copy()\n",
    "data_bsr_2018_2019 = data_bsr_2018_2019[[\"S2STemp\", \"S2SHR\"]]\n",
    "data_bsr_2018_2019 = data_bsr_2018_2019.interpolate(method='linear') ## Pour remplacer les valeurs NAN DU 2018-06-10, 2018-06-11, 2018-06-12, 2018-06-13\n",
    "data_bsr_2018_2019"
   ]
  },
  {
   "cell_type": "code",
   "execution_count": null,
   "id": "75e7f653",
   "metadata": {},
   "outputs": [],
   "source": [
    "dl_train, dl_val, dl_test = split_dataframe(data_bsr_2018_2019)"
   ]
  },
  {
   "cell_type": "code",
   "execution_count": null,
   "id": "a37d62bc",
   "metadata": {},
   "outputs": [],
   "source": [
    "minmax_scaler = MinMaxScaler()  # scaler for humidity\n",
    "target_transformer = MinMaxScaler()   # scaler for target (meantemp)"
   ]
  },
  {
   "cell_type": "code",
   "execution_count": null,
   "id": "2fb5e7ad",
   "metadata": {},
   "outputs": [],
   "source": [
    "dl_train['S2STemp'] = target_transformer.fit_transform(dl_train[['S2STemp']]) # target\n",
    "dl_train['S2SHR'] = minmax_scaler.fit_transform(dl_train[['S2SHR']]) # minmax for humidity\n",
    "\n",
    "dl_val['S2STemp'] = target_transformer.transform(dl_val[['S2STemp']])\n",
    "dl_val['S2SHR'] = minmax_scaler.transform(dl_val[['S2SHR']])\n",
    "\n",
    "dl_test['S2STemp'] = target_transformer.transform(dl_test[['S2STemp']])\n",
    "dl_test['S2SHR'] = minmax_scaler.transform(dl_test[['S2SHR']])"
   ]
  },
  {
   "cell_type": "code",
   "execution_count": null,
   "id": "0f12cd9f",
   "metadata": {},
   "outputs": [],
   "source": [
    "# Create sequences\n",
    "sequence_length = 3  # Example sequence length (adjust based on your data and experimentation)\n",
    "X_train, y_train = create_dataset(dl_train, dl_train['S2STemp'], sequence_length)\n",
    "X_val, y_val = create_dataset(dl_val, dl_val['S2STemp'], sequence_length)\n",
    "X_test, y_test = create_dataset(dl_test, dl_test['S2STemp'], sequence_length)"
   ]
  },
  {
   "cell_type": "code",
   "execution_count": null,
   "id": "6be5efa7",
   "metadata": {},
   "outputs": [],
   "source": [
    "# Build the bidirectional LSTM model\n",
    "model = Sequential()\n",
    "model.add(Bidirectional(LSTM(100, activation='tanh', input_shape=(sequence_length, X_train.shape[2]))))\n",
    "model.add(Dense(1))\n",
    "model.compile(optimizer='adam', loss='mse')\n",
    "\n",
    "# Define early stopping callback\n",
    "early_stopping = EarlyStopping(monitor='val_loss', patience=10, restore_best_weights=True)\n",
    "\n",
    "# Train the model\n",
    "history = model.fit(X_train, y_train, epochs=30, validation_data=(X_val, y_val), batch_size=1, callbacks=[early_stopping])\n",
    "\n",
    "# Evaluate the model\n",
    "loss = model.evaluate(X_val, y_val)\n",
    "print(f'Validation Loss: {loss}')"
   ]
  },
  {
   "cell_type": "code",
   "execution_count": null,
   "id": "fe732fdb",
   "metadata": {},
   "outputs": [],
   "source": [
    "model.summary()"
   ]
  },
  {
   "cell_type": "code",
   "execution_count": null,
   "id": "3306635b",
   "metadata": {},
   "outputs": [],
   "source": [
    "# Make predictions\n",
    "bilstm_pred = model.predict(X_val)\n",
    "bilstm_pred = target_transformer.inverse_transform(bilstm_pred)  # Inverse transform to original scale\n",
    "\n",
    "# Inverse transform the true values for comparison\n",
    "y_val = y_val.reshape(-1, 1)\n",
    "y_val = target_transformer.inverse_transform(y_val)"
   ]
  },
  {
   "cell_type": "code",
   "execution_count": null,
   "id": "851c5fb6",
   "metadata": {},
   "outputs": [],
   "source": []
  },
  {
   "cell_type": "code",
   "execution_count": null,
   "id": "fb5bc540",
   "metadata": {},
   "outputs": [],
   "source": [
    "len(y_val)"
   ]
  },
  {
   "cell_type": "code",
   "execution_count": null,
   "id": "c8fb8a8e",
   "metadata": {},
   "outputs": [],
   "source": [
    "len(y_test)"
   ]
  },
  {
   "cell_type": "code",
   "execution_count": null,
   "id": "e5d17381",
   "metadata": {},
   "outputs": [],
   "source": [
    "len(y_train)"
   ]
  },
  {
   "cell_type": "code",
   "execution_count": null,
   "id": "6e63510e",
   "metadata": {},
   "outputs": [],
   "source": [
    "len(data_bsr_2018_2019)"
   ]
  },
  {
   "cell_type": "code",
   "execution_count": null,
   "id": "75ab044a",
   "metadata": {},
   "outputs": [],
   "source": [
    "# Calculate MAE, RMSE and R2 scores\n",
    "mae = mean_absolute_error(y_val, bilstm_pred)\n",
    "rmse = np.sqrt(mean_squared_error(y_val, bilstm_pred))\n",
    "r2 = r2_score(y_val, bilstm_pred)\n",
    "\n",
    "\n",
    "print(f'MAE: {mae}')\n",
    "print(f'RMSE: {rmse}')\n",
    "print(f'R2 Score: {r2}')\n",
    "\n",
    "\n",
    "# Plot the results\n",
    "plt.figure(figsize=(14, 7))\n",
    "plt.plot(data_bsr_2018_2019.index[len(y_train): len(y_train) + len(y_val)], y_val, label='True Values')\n",
    "plt.plot(data_bsr_2018_2019.index[len(y_train): len(y_train) + len(y_val)], bilstm_pred, label='Predictions', linestyle='dashed')\n",
    "plt.xlabel('Date')\n",
    "plt.ylabel('Mean Temperature')\n",
    "plt.title('Mean Temperature Predictions vs True Values')\n",
    "plt.legend()\n",
    "plt.show()"
   ]
  },
  {
   "cell_type": "code",
   "execution_count": null,
   "id": "ad37a63c",
   "metadata": {},
   "outputs": [],
   "source": [
    "# Make predictions\n",
    "bilstm_pred_test = model.predict(X_test)\n",
    "bilstm_pred_test = target_transformer.inverse_transform(bilstm_pred_test)  # Inverse transform to original scale\n",
    "\n",
    "# Inverse transform the true values for comparison\n",
    "y_test = y_test.reshape(-1, 1)\n",
    "y_test = target_transformer.inverse_transform(y_test)"
   ]
  },
  {
   "cell_type": "code",
   "execution_count": null,
   "id": "099ed167",
   "metadata": {},
   "outputs": [],
   "source": [
    "len(y_train) + len(y_val)"
   ]
  },
  {
   "cell_type": "code",
   "execution_count": null,
   "id": "2ea2ccf5",
   "metadata": {},
   "outputs": [],
   "source": [
    "y_test.shape"
   ]
  },
  {
   "cell_type": "code",
   "execution_count": null,
   "id": "726a3e2e",
   "metadata": {},
   "outputs": [],
   "source": [
    "len(bilstm_pred_test)"
   ]
  },
  {
   "cell_type": "code",
   "execution_count": null,
   "id": "7d7adf05",
   "metadata": {},
   "outputs": [],
   "source": [
    "# Calculate MAE, RMSE and R2 scores\n",
    "mae = mean_absolute_error(y_test, bilstm_pred_test)\n",
    "rmse = np.sqrt(mean_squared_error(y_test, bilstm_pred_test))\n",
    "r2 = r2_score(y_test, bilstm_pred_test)\n",
    "\n",
    "\n",
    "print(f'MAE: {mae}')\n",
    "print(f'RMSE: {rmse}')\n",
    "print(f'R2 Score: {r2}')\n",
    "\n",
    "# Plot the results\n",
    "plt.figure(figsize=(14, 7))\n",
    "plt.plot(data_bsr_2018_2019.index[-len(y_test):], y_test, label='True Values')\n",
    "plt.plot(data_bsr_2018_2019.index[-len(y_test):], bilstm_pred_test, label='Predictions', linestyle='dashed')\n",
    "plt.xlabel('Date')\n",
    "plt.ylabel('Mean Temperature')\n",
    "plt.title('Mean Temperature Predictions vs True Values')\n",
    "plt.legend()\n",
    "plt.show()"
   ]
  },
  {
   "cell_type": "code",
   "execution_count": null,
   "id": "238271cb",
   "metadata": {},
   "outputs": [],
   "source": [
    "# Get training and validation losses from history\n",
    "training_loss = history.history['loss']\n",
    "validation_loss = history.history['val_loss']\n",
    "\n",
    "# Plot loss values over epochs\n",
    "plt.plot(training_loss, label='Training Loss')\n",
    "plt.plot(validation_loss, label='Validation Loss')\n",
    "plt.xlabel('Epoch')\n",
    "plt.ylabel('Loss (MSE)')\n",
    "plt.title('Training and Validation Loss')\n",
    "plt.legend()\n",
    "plt.show()"
   ]
  },
  {
   "cell_type": "code",
   "execution_count": null,
   "id": "69b705a4",
   "metadata": {},
   "outputs": [],
   "source": [
    "# Build the GRU model\n",
    "gru_model = Sequential()\n",
    "gru_model.add(GRU(100, activation='tanh', input_shape=(sequence_length, X_train.shape[2])))\n",
    "gru_model.add(Dense(1))\n",
    "gru_model.compile(optimizer='adam', loss='mse')\n",
    "\n",
    "# Define early stopping callback\n",
    "early_stopping = EarlyStopping(monitor='val_loss', patience=10, restore_best_weights=True)\n",
    "\n",
    "# Train the model with early stopping\n",
    "history = gru_model.fit(X_train, y_train, epochs=30, validation_data=(X_val, y_val), batch_size=1, callbacks=[early_stopping])\n",
    "\n",
    "# Evaluate the model\n",
    "loss = gru_model.evaluate(X_val, y_val)\n",
    "print(f'Validation Loss: {loss}')"
   ]
  },
  {
   "cell_type": "markdown",
   "id": "9ad02241",
   "metadata": {},
   "source": [
    "#### **Feature Selection** "
   ]
  },
  {
   "cell_type": "code",
   "execution_count": null,
   "id": "944f825a",
   "metadata": {},
   "outputs": [],
   "source": [
    "# data_rcp_4_5 = data_rcp_4_5[['tasAdjust', 'tasmaxAdjust', 'tasminAdjust', 'hussAdjust', 'evspsblpotAdjust']]\n",
    "data_rcp_4_5 = data_rcp_4_5[['tasAdjust', 'hussAdjust', 'evspsblpotAdjust']]\n",
    "data_rcp_4_5.head()"
   ]
  },
  {
   "cell_type": "markdown",
   "id": "08a90d63",
   "metadata": {},
   "source": [
    "#### **Train Test Split**"
   ]
  },
  {
   "cell_type": "code",
   "execution_count": null,
   "id": "bf0462f4",
   "metadata": {},
   "outputs": [],
   "source": [
    "# Split the data into training and testing sets\n",
    "train_size = int(len(data_rcp_4_5) * 0.9)\n",
    "dl_train, dl_test = data_rcp_4_5.iloc[:train_size], data_rcp_4_5.iloc[train_size:]\n",
    "print(len(dl_train), len(dl_test))"
   ]
  },
  {
   "cell_type": "code",
   "execution_count": null,
   "id": "880c8728",
   "metadata": {},
   "outputs": [],
   "source": [
    "dl_train, dl_test = dl_train.copy(), dl_test.copy()"
   ]
  },
  {
   "cell_type": "code",
   "execution_count": null,
   "id": "bb5b6eb5",
   "metadata": {},
   "outputs": [],
   "source": [
    "data_rcp_4_5.columns"
   ]
  },
  {
   "cell_type": "code",
   "execution_count": null,
   "id": "459bfdcc",
   "metadata": {},
   "outputs": [],
   "source": [
    "# find out what scaling to perform\n",
    "\n",
    "f_columns = ['tasAdjust', 'hussAdjust', 'evspsblpotAdjust']\n",
    "plt.figure(figsize=(15, 6))\n",
    "\n",
    "plt.subplot(1, 3, 1) \n",
    "sns.boxplot(y=data_rcp_4_5['tasAdjust'])\n",
    "plt.title('Boxplot of meantemp')\n",
    "\n",
    "\"\"\" plt.subplot(1, 5, 2) \n",
    "sns.boxplot(y=data_rcp_4_5['tasmaxAdjust'])\n",
    "plt.title('Boxplot of maxtemp')\n",
    "\n",
    "plt.subplot(1, 5, 3) \n",
    "sns.boxplot(y=data_rcp_4_5['tasminAdjust'])\n",
    "plt.title('Boxplot of mintemp') \"\"\"\n",
    "\n",
    "plt.subplot(1, 3, 2) \n",
    "sns.boxplot(y=data_rcp_4_5['hussAdjust'])\n",
    "plt.title('Boxplot of humidity')\n",
    "\n",
    "plt.subplot(1, 3, 3) \n",
    "sns.boxplot(y=data_rcp_4_5['evspsblpotAdjust'])\n",
    "plt.title('Boxplot of Evapo-transpiration potentielle Hargreaves')\n",
    "\n",
    "plt.tight_layout() \n",
    "plt.show()"
   ]
  },
  {
   "cell_type": "code",
   "execution_count": null,
   "id": "93cc456b",
   "metadata": {},
   "outputs": [],
   "source": [
    "data_rcp_4_5.info()"
   ]
  },
  {
   "cell_type": "code",
   "execution_count": null,
   "id": "b09688a8",
   "metadata": {},
   "outputs": [],
   "source": [
    "minmax_scaler_hussAdjust = MinMaxScaler()  # scaler for humidity\n",
    "minmax_scaler_evspsblpotAdjust = MinMaxScaler()  # scaler for evspsblpotAdjust\n",
    "target_transformer = MinMaxScaler()"
   ]
  },
  {
   "cell_type": "code",
   "execution_count": null,
   "id": "30509319",
   "metadata": {},
   "outputs": [],
   "source": [
    "dl_train['tasAdjust'] = target_transformer.fit_transform(dl_train[['tasAdjust']]) # target\n",
    "dl_train['hussAdjust'] = minmax_scaler_hussAdjust.fit_transform(dl_train[['hussAdjust']]) # minmax for humidity\n",
    "dl_train['evspsblpotAdjust'] = minmax_scaler_evspsblpotAdjust.fit_transform(dl_train[['evspsblpotAdjust']]) # minmax for evspsblpotAdjust\n",
    "\n",
    "dl_test['tasAdjust'] = target_transformer.transform(dl_test[['tasAdjust']])\n",
    "dl_test['hussAdjust'] = minmax_scaler_hussAdjust.transform(dl_test[['hussAdjust']])\n",
    "dl_test['evspsblpotAdjust'] = minmax_scaler_evspsblpotAdjust.transform(dl_test[['evspsblpotAdjust']])"
   ]
  },
  {
   "cell_type": "code",
   "execution_count": null,
   "id": "eff58c4a",
   "metadata": {},
   "outputs": [],
   "source": [
    "display(data_rcp_4_5.head())\n",
    "display(dl_train.head())"
   ]
  },
  {
   "cell_type": "code",
   "execution_count": null,
   "id": "6fd5aaff",
   "metadata": {},
   "outputs": [],
   "source": [
    "def create_dataset(X, y, time_steps=1):  \n",
    "    Xs, ys = [], []   \n",
    "    for i in range(len(X) - time_steps):   \n",
    "        v = X.iloc[i:(i + time_steps)].values \n",
    "        Xs.append(v)      \n",
    "        ys.append(y.iloc[i + time_steps])\n",
    "    return np.array(Xs), np.array(ys)\n",
    "\n",
    "\"\"\"\n",
    "This function prepares the input features and target values in the format required for training a recurrent neural network (RNN) or LSTM model for sequential prediction tasks. It creates sequences of input features and their corresponding target values, which can be fed into the model during training.\n",
    "\n",
    "    - X: This parameter represents the input features, typically a pandas DataFrame containing multiple time-series variables such as temperature, humidity, etc.\n",
    "    - y: This parameter represents the target values, which are typically the values we want to predict based on the input features.\n",
    "    - time_steps: This parameter defines the length of each sequence. It determines how many data points from the past will be used to predict the next data point. For example, if time_steps is set to 3, the function will create sequences of three consecutive data points as input features and the next data point as the target value.\n",
    "\"\"\""
   ]
  },
  {
   "cell_type": "code",
   "execution_count": null,
   "id": "030a16a0",
   "metadata": {},
   "outputs": [],
   "source": [
    "# Create sequences\n",
    "sequence_length = 3  # Example sequence length (adjust based on your data and experimentation)\n",
    "X_train, y_train = create_dataset(dl_train, dl_train['S2STemp'], sequence_length)\n",
    "X_val, y_val = create_dataset(dl_test, dl_test['S2STemp'], sequence_length)\n",
    "X_test, y_test = create_dataset(dl_test, dl_test['S2STemp'], sequence_length)"
   ]
  },
  {
   "cell_type": "markdown",
   "id": "4c7fc386",
   "metadata": {},
   "source": [
    "#### **Bi-LSTM**"
   ]
  },
  {
   "cell_type": "code",
   "execution_count": null,
   "id": "5b3dfac6",
   "metadata": {},
   "outputs": [],
   "source": [
    "# Create sequences\n",
    "sequence_length = 3  # Example sequence length (adjust based on your data and experimentation)\n",
    "X_train, y_train = create_dataset(dl_train, dl_train['tasAdjust'], sequence_length)\n",
    "X_test, y_test = create_dataset(dl_test, dl_test['tasAdjust'], sequence_length)"
   ]
  },
  {
   "cell_type": "code",
   "execution_count": null,
   "id": "39fea39f",
   "metadata": {},
   "outputs": [],
   "source": [
    "# Build the bidirectional LSTM model\n",
    "model = Sequential()\n",
    "model.add(Bidirectional(LSTM(100, activation='tanh', input_shape=(sequence_length, X_train.shape[2]))))\n",
    "model.add(Dense(1))\n",
    "model.compile(optimizer='adam', loss='mse')\n",
    "\n",
    "# Define early stopping callback\n",
    "early_stopping = EarlyStopping(monitor='val_loss', patience=10, restore_best_weights=True)\n",
    "\n",
    "# Train the model\n",
    "history = model.fit(X_train, y_train, epochs=30, validation_data=(X_test, y_test), batch_size=1, callbacks=[early_stopping])\n",
    "\n",
    "# Evaluate the model\n",
    "loss = model.evaluate(X_test, y_test)\n",
    "print(f'Validation Loss: {loss}')"
   ]
  },
  {
   "cell_type": "code",
   "execution_count": null,
   "id": "5c10e4b1",
   "metadata": {},
   "outputs": [],
   "source": [
    "model.summary()"
   ]
  },
  {
   "cell_type": "code",
   "execution_count": null,
   "id": "1ff78479",
   "metadata": {},
   "outputs": [],
   "source": [
    "# Make predictions\n",
    "bilstm_pred = model.predict(X_test)\n",
    "bilstm_pred = target_transformer.inverse_transform(bilstm_pred)  # Inverse transform to original scale\n",
    "\n",
    "# Inverse transform the true values for comparison\n",
    "y_test = y_test.reshape(-1, 1)\n",
    "y_test = target_transformer.inverse_transform(y_test)"
   ]
  },
  {
   "cell_type": "code",
   "execution_count": null,
   "id": "7f776185",
   "metadata": {},
   "outputs": [],
   "source": [
    "rmse = np.sqrt(mean_squared_error(y_test, bilstm_pred))\n",
    "r2 = r2_score(y_test, bilstm_pred)\n",
    "\n",
    "print(f'RMSE: {rmse}')\n",
    "print(f'R2 Score: {r2}')\n",
    "\n",
    "# Plot the results\n",
    "plt.figure(figsize=(14, 7))\n",
    "plt.plot(data_rcp_4_5.index[-len(y_test):], y_test, label='True Values')\n",
    "plt.plot(data_rcp_4_5.index[-len(y_test):], bilstm_pred, label='Predictions', linestyle='dashed')\n",
    "plt.xlabel('Date')\n",
    "plt.ylabel('Mean Temperature')\n",
    "plt.title('Mean Temperature Predictions vs True Values')\n",
    "plt.legend()\n",
    "plt.show()"
   ]
  },
  {
   "cell_type": "code",
   "execution_count": null,
   "id": "7120da78",
   "metadata": {},
   "outputs": [],
   "source": [
    "# Get training and validation losses from history\n",
    "training_loss = history.history['loss']\n",
    "validation_loss = history.history['val_loss']\n",
    "\n",
    "# Plot loss values over epochs\n",
    "plt.plot(training_loss, label='Training Loss')\n",
    "plt.plot(validation_loss, label='Validation Loss')\n",
    "plt.xlabel('Epoch')\n",
    "plt.ylabel('Loss (MSE)')\n",
    "plt.title('Training and Validation Loss')\n",
    "plt.legend()\n",
    "plt.show()"
   ]
  },
  {
   "cell_type": "code",
   "execution_count": null,
   "id": "cc1abc83",
   "metadata": {},
   "outputs": [],
   "source": [
    "data_climate_reims_2009_2025.head()"
   ]
  },
  {
   "cell_type": "code",
   "execution_count": null,
   "id": "7c128c62",
   "metadata": {},
   "outputs": [],
   "source": [
    "data_rcp_4_5.index"
   ]
  },
  {
   "cell_type": "code",
   "execution_count": null,
   "id": "db565ecd",
   "metadata": {},
   "outputs": [],
   "source": [
    "data_rcp_4_5_2009_2025.head()"
   ]
  },
  {
   "cell_type": "code",
   "execution_count": null,
   "id": "3f717dde",
   "metadata": {},
   "outputs": [],
   "source": [
    "# Make predictions\n",
    "bilstm_pred = model.predict(X_test)\n",
    "bilstm_pred = target_transformer.inverse_transform(bilstm_pred)  # Inverse transform to original scale"
   ]
  },
  {
   "cell_type": "code",
   "execution_count": null,
   "id": "8932b61b",
   "metadata": {},
   "outputs": [],
   "source": []
  },
  {
   "cell_type": "code",
   "execution_count": null,
   "id": "78d511e9",
   "metadata": {},
   "outputs": [],
   "source": [
    "data_climate_reims_2009_2025 = data_climate_reims_2009_2025[['MEAN_TEMPERATURE_C', 'MAX_TEMPERATURE_C', 'MIN_TEMPERATURE_C', 'hussAdjust', 'evspsblpotAdjust']]\n",
    "data_rcp_4_5 = data_rcp_4_5[['tasAdjust', 'hussAdjust', 'evspsblpotAdjust']]\n",
    "data_rcp_4_5.head()\n",
    "data_climate_reims_2009_2025"
   ]
  },
  {
   "cell_type": "code",
   "execution_count": null,
   "id": "8a820ea4",
   "metadata": {},
   "outputs": [],
   "source": [
    "data_climate_reims_2009_2025.columns"
   ]
  },
  {
   "cell_type": "code",
   "execution_count": null,
   "id": "de12b83a",
   "metadata": {},
   "outputs": [],
   "source": [
    "def create_dataset(X, y, time_steps=1):  \n",
    "    Xs, ys = [], []   \n",
    "    for i in range(len(X) - time_steps):   \n",
    "        v = X.iloc[i:(i + time_steps)].values \n",
    "        Xs.append(v)      \n",
    "        ys.append(y.iloc[i + time_steps])\n",
    "    return np.array(Xs), np.array(ys)"
   ]
  },
  {
   "cell_type": "code",
   "execution_count": null,
   "id": "c8b0a5d1",
   "metadata": {},
   "outputs": [],
   "source": [
    "a = np.array([ [22, 7], [17, 8], [15, 12], [7, 6], [13, 9], [14, 9], [10, 4], [3, 1], [0, 3] ])\n",
    "b = np.array(a[:, 0])"
   ]
  },
  {
   "cell_type": "code",
   "execution_count": null,
   "id": "6961c4a9",
   "metadata": {},
   "outputs": [],
   "source": [
    "a = pd.DataFrame(a, columns=[\"A\", \"B\"])\n",
    "a"
   ]
  },
  {
   "cell_type": "code",
   "execution_count": null,
   "id": "7b62ae68",
   "metadata": {},
   "outputs": [],
   "source": [
    "b = pd.DataFrame(b, columns=[\"A\"])\n",
    "b"
   ]
  },
  {
   "cell_type": "code",
   "execution_count": null,
   "id": "61121ba8",
   "metadata": {},
   "outputs": [],
   "source": [
    "create_dataset(a, b, 3)"
   ]
  },
  {
   "cell_type": "code",
   "execution_count": null,
   "id": "d0d301a6",
   "metadata": {},
   "outputs": [],
   "source": [
    "a = np.random.randn(10, 5).ravel()\n",
    "a = pd.DataFrame(a, columns=[\"A\"])\n",
    "b, c, d = split_dataframe(a)"
   ]
  },
  {
   "cell_type": "code",
   "execution_count": null,
   "id": "c0bd0b20",
   "metadata": {},
   "outputs": [],
   "source": [
    "c"
   ]
  },
  {
   "cell_type": "code",
   "execution_count": null,
   "id": "71c9c9f5",
   "metadata": {},
   "outputs": [],
   "source": [
    "a.index[len(b)+len(c): -len(d)]\n",
    "a"
   ]
  },
  {
   "cell_type": "code",
   "execution_count": null,
   "id": "45d06f0d",
   "metadata": {},
   "outputs": [],
   "source": [
    "b"
   ]
  },
  {
   "cell_type": "code",
   "execution_count": null,
   "id": "35b36a33",
   "metadata": {},
   "outputs": [],
   "source": [
    "a"
   ]
  },
  {
   "cell_type": "code",
   "execution_count": 1,
   "id": "287b2d34",
   "metadata": {},
   "outputs": [
    {
     "data": {
      "image/png": "[encoded data removed]",
      "text/plain": [
       "<Figure size 1200x500 with 1 Axes>"
      ]
     },
     "metadata": {},
     "output_type": "display_data"
    }
   ],
   "source": [
    "import numpy as np\n",
    "import matplotlib.pyplot as plt\n",
    "from sklearn.preprocessing import QuantileTransformer\n",
    "\n",
    "# ⚠️ Données fictives (remplace par les tiennes)\n",
    "# Exemple : températures moyennes journalières entre 2009 et 2020 (~4000 jours)\n",
    "np.random.seed(42)\n",
    "obs = np.random.normal(loc=12, scale=5, size=4000)        # Observations : moyenne 12°C\n",
    "drias = np.random.normal(loc=14, scale=6, size=4000)      # DRIAS : biais de +2°C\n",
    "\n",
    "# 📌 Mise en forme\n",
    "obs = obs.reshape(-1, 1)\n",
    "drias = drias.reshape(-1, 1)\n",
    "\n",
    "# 🔄 Initialisation des transformateurs\n",
    "qt_obs = QuantileTransformer(n_quantiles=100, output_distribution='uniform')\n",
    "qt_drias = QuantileTransformer(n_quantiles=100, output_distribution='uniform')\n",
    "\n",
    "# 📈 Apprentissage des distributions\n",
    "qt_obs.fit(obs)\n",
    "qt_drias.fit(drias)\n",
    "\n",
    "# 🔁 Quantile mapping : transformation puis reprojection\n",
    "quantiles_drias = qt_drias.transform(drias)\n",
    "drias_corrige = qt_obs.inverse_transform(quantiles_drias)\n",
    "\n",
    "# 📊 Visualisation\n",
    "plt.figure(figsize=(12, 5))\n",
    "plt.hist(obs, bins=50, alpha=0.5, label='Observations', color='green', density=True)\n",
    "plt.hist(drias, bins=50, alpha=0.5, label='DRIAS brut', color='red', density=True)\n",
    "plt.hist(drias_corrige, bins=50, alpha=0.5, label='DRIAS corrigé', color='blue', density=True)\n",
    "plt.legend()\n",
    "plt.title(\"Correction de biais par Quantile Mapping\")\n",
    "plt.xlabel(\"Température (°C)\")\n",
    "plt.ylabel(\"Densité\")\n",
    "plt.grid(True)\n",
    "plt.show()\n"
   ]
  },
  {
   "cell_type": "code",
   "execution_count": null,
   "id": "7586912e",
   "metadata": {},
   "outputs": [],
   "source": []
  }
 ],
 "metadata": {
  "kernelspec": {
   "display_name": "base",
   "language": "python",
   "name": "python3"
  },
  "language_info": {
   "codemirror_mode": {
    "name": "ipython",
    "version": 3
   },
   "file_extension": ".py",
   "mimetype": "text/x-python",
   "name": "python",
   "nbconvert_exporter": "python",
   "pygments_lexer": "ipython3",
   "version": "3.10.13"
  }
 },
 "nbformat": 4,
 "nbformat_minor": 5
}
