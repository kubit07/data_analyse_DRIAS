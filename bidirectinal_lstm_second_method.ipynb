{
 "cells": [
  {
   "cell_type": "code",
   "execution_count": 106,
   "id": "ddc598c9",
   "metadata": {},
   "outputs": [],
   "source": [
    "import contextlib\n",
    "import io\n",
    "\n",
    "import numpy as np\n",
    "import pandas as pd\n",
    "import matplotlib.dates as mdates\n",
    "import matplotlib.pyplot as plt\n",
    "import matplotlib.dates as mdates\n",
    "import seaborn as sns \n",
    "\n",
    "from scipy.interpolate import interp1d\n",
    "\n",
    "from sklearn.metrics import mean_squared_error, r2_score, mean_absolute_error\n",
    "from sklearn.preprocessing import StandardScaler, MinMaxScaler\n",
    "\n",
    "from tensorflow.keras.models import Sequential\n",
    "from tensorflow.keras.layers import SimpleRNN, Dense\n",
    "from tensorflow.keras.optimizers import Adam\n",
    "from tensorflow.keras.callbacks import EarlyStopping\n",
    "from tensorflow.keras.layers import LSTM, Bidirectional, GRU"
   ]
  },
  {
   "cell_type": "code",
   "execution_count": 107,
   "id": "a0e9f169",
   "metadata": {},
   "outputs": [],
   "source": [
    "def split_dataframe(df, train_size=0.7, val_size=0.2):\n",
    "    \"\"\"\n",
    "    Découpe un DataFrame temporel en trois parties : train, val, test,\n",
    "    en respectant l'ordre chronologique.\n",
    "\n",
    "    Args:\n",
    "        df (pd.DataFrame): Données à découper (indexé ou non par le temps)\n",
    "        train_size (float): Proportion pour l'ensemble d'entraînement\n",
    "        val_size (float): Proportion pour la validation\n",
    "\n",
    "    Returns:\n",
    "        df_train, df_val, df_test (DataFrames)\n",
    "    \"\"\"\n",
    "    n = len(df)\n",
    "    train_end = int(n * train_size)\n",
    "    val_end = int(n * (train_size + val_size))\n",
    "\n",
    "    df_train = df.iloc[:train_end]\n",
    "    df_val = df.iloc[train_end:val_end]\n",
    "    df_test = df.iloc[val_end:]\n",
    "\n",
    "    print(f\"Train size : {len(df_train)}\")\n",
    "    print(f\"Val size : {len(df_val)}\")\n",
    "    print(f\"Test size : {len(df_test)}\")\n",
    "\n",
    "    return df_train.copy(), df_val.copy(), df_test.copy()"
   ]
  },
  {
   "cell_type": "code",
   "execution_count": 108,
   "id": "c69b021f",
   "metadata": {},
   "outputs": [],
   "source": [
    "def evaluate_model(y_true, y_pred):\n",
    "    \"\"\"\n",
    "    Calcule et affiche les métriques MAE, RMSE et R² entre les vraies valeurs et les prédictions.\n",
    "\n",
    "    Args:\n",
    "        y_true (array-like): Valeurs réelles.\n",
    "        y_pred (array-like): Valeurs prédites.\n",
    "    \"\"\"\n",
    "    mae = mean_absolute_error(y_true, y_pred)\n",
    "    rmse = np.sqrt(mean_squared_error(y_true, y_pred))\n",
    "    r2 = r2_score(y_true, y_pred)\n",
    "\n",
    "    print(f'MAE: {mae:.4f}')\n",
    "    print(f'RMSE: {rmse:.4f}')\n",
    "    print(f'R2 Score: {r2:.4f}')\n",
    "    \n",
    "    return {\"MAE\":mae, \"RMSE\":rmse, \"R2 Score\":r2}"
   ]
  },
  {
   "cell_type": "code",
   "execution_count": 109,
   "id": "4cfde327",
   "metadata": {},
   "outputs": [],
   "source": [
    "def create_dataset(X, y, time_steps=1):  \n",
    "    Xs, ys = [], []   \n",
    "    for i in range(len(X) - time_steps):   \n",
    "        v = X.iloc[i:(i + time_steps)].values \n",
    "        Xs.append(v)      \n",
    "        ys.append(y.iloc[i + time_steps])\n",
    "    return np.array(Xs), np.array(ys)\n",
    "\n",
    "    \"\"\"\n",
    "This function prepares the input features and target values in the format required for training a recurrent neural network (RNN) or LSTM model for sequential prediction tasks. It creates sequences of input features and their corresponding target values, which can be fed into the model during training.\n",
    "\n",
    "    - X: This parameter represents the input features, typically a pandas DataFrame containing multiple time-series variables such as temperature, humidity, etc.\n",
    "    - y: This parameter represents the target values, which are typically the values we want to predict based on the input features.\n",
    "    - time_steps: This parameter defines the length of each sequence. It determines how many data points from the past will be used to predict the next data point. For example, if time_steps is set to 3, the function will create sequences of three consecutive data points as input features and the next data point as the target value.\n",
    "    \"\"\""
   ]
  },
  {
   "cell_type": "code",
   "execution_count": 110,
   "id": "f1a65b21",
   "metadata": {},
   "outputs": [],
   "source": [
    "def build_and_train_bilstm(X_train, y_train, X_val, y_val, sequence_length, units=100, \n",
    "                           activation='tanh', epochs=30, batch_size=32, patience=10):\n",
    "    \"\"\"\n",
    "    Construit, entraîne et évalue un modèle BiLSTM avec early stopping.\n",
    "\n",
    "    Args:\n",
    "        X_train (ndarray): Données d'entraînement (3D).\n",
    "        y_train (ndarray): Cibles d'entraînement.\n",
    "        X_val (ndarray): Données de validation (3D).\n",
    "        y_val (ndarray): Cibles de validation.\n",
    "        sequence_length (int): Longueur des séquences en entrée.\n",
    "        units (int): Nombre de neurones dans la couche LSTM.\n",
    "        activation (str): Fonction d'activation de la couche LSTM.\n",
    "        epochs (int): Nombre d’époques d’entraînement.\n",
    "        batch_size (int): Taille de lot pour l’entraînement.\n",
    "        patience (int): Patience pour l’early stopping.\n",
    "\n",
    "    Returns:\n",
    "        model: Le modèle entraîné.\n",
    "        history: L'historique d'entraînement.\n",
    "        val_loss: La perte de validation finale.\n",
    "    \"\"\"\n",
    "    model = Sequential()\n",
    "    model.add(Bidirectional(LSTM(units, activation=activation, input_shape=(sequence_length, X_train.shape[2]))))\n",
    "    model.add(Dense(1))\n",
    "    model.compile(optimizer='adam', loss='mse')\n",
    "\n",
    "    early_stopping = EarlyStopping(monitor='val_loss', patience=patience, restore_best_weights=True)\n",
    "\n",
    "    history = model.fit(\n",
    "        X_train, y_train,\n",
    "        validation_data=(X_val, y_val),\n",
    "        epochs=epochs,\n",
    "        batch_size=batch_size,\n",
    "        callbacks=[early_stopping],\n",
    "        verbose=1\n",
    "    )\n",
    "\n",
    "    val_loss = model.evaluate(X_val, y_val, verbose=0)\n",
    "    display(f'Validation Loss: {val_loss}')\n",
    "\n",
    "    return model, history, val_loss\n"
   ]
  },
  {
   "cell_type": "code",
   "execution_count": 111,
   "id": "23d7a1a4",
   "metadata": {},
   "outputs": [],
   "source": [
    "def train_temperature_model(X, y, epochs=100, batch_size=32, validation_split=0.2):\n",
    "    \"\"\"\n",
    "    Construit, compile et entraîne un modèle Keras pour prédire 24 températures horaires.\n",
    "\n",
    "    Paramètres\n",
    "    ----------\n",
    "    X : ndarray shape (n_samples, n_features)\n",
    "        Tableau des caractéristiques d’entrée (ex. Tmin, Tmoy, Tmax, jour_annee, mois).\n",
    "    y : ndarray shape (n_samples, n_outputs)\n",
    "        Tableau des cibles (24 températures horaires).\n",
    "    epochs : int, optional (default=100)\n",
    "        Nombre d’époques d’entraînement.\n",
    "    batch_size : int, optional (default=32)\n",
    "        Taille du batch.\n",
    "    validation_split : float, optional (default=0.2)\n",
    "        Fraction des données réservée à la validation.\n",
    "\n",
    "    Retour\n",
    "    ------\n",
    "    model : keras.Model\n",
    "        Le modèle entraîné.\n",
    "    history : keras.callbacks.History\n",
    "        L’historique d’entraînement (pertes et métriques).\n",
    "    \"\"\"\n",
    "    input_dim  = X.shape[1]\n",
    "    output_dim = y.shape[1]\n",
    "\n",
    "    model = Sequential([\n",
    "        Dense(64, activation='relu', input_shape=(input_dim,)),\n",
    "        Dense(128, activation='relu'),\n",
    "        Dense(64, activation='relu'),\n",
    "        Dense(output_dim)                         # régression, donc pas d’activation finale\n",
    "    ])\n",
    "\n",
    "    model.compile(optimizer=Adam(),\n",
    "                  loss='mse',\n",
    "                  metrics=['mae'])\n",
    "\n",
    "    history = model.fit(X, y,\n",
    "                        epochs=epochs,\n",
    "                        batch_size=batch_size,\n",
    "                        validation_split=validation_split,\n",
    "                        verbose=1)\n",
    "\n",
    "    return model, history"
   ]
  },
  {
   "cell_type": "code",
   "execution_count": 112,
   "id": "ceca1b5d",
   "metadata": {},
   "outputs": [],
   "source": [
    "def load_data_drias(path_fichier_excel):\n",
    "    \"\"\"\n",
    "    Charge un fichier Excel DRIAS avec une colonne 'Date' au format '%d/%m/%Y',\n",
    "    et retourne un DataFrame avec la date en index.\n",
    "\n",
    "    Args:\n",
    "        path_fichier_excel (str): Chemin vers le fichier Excel.\n",
    "\n",
    "    Returns:\n",
    "        pd.DataFrame: Données DRIAS avec l'index daté.\n",
    "    \"\"\"\n",
    "    df = pd.read_excel(path_fichier_excel)\n",
    "    df['Date'] = pd.to_datetime(df['Date'], format='%d/%m/%Y')\n",
    "    df.set_index('Date', inplace=True)\n",
    "    display(df)\n",
    "    \n",
    "    return df"
   ]
  },
  {
   "cell_type": "code",
   "execution_count": 113,
   "id": "74498686",
   "metadata": {},
   "outputs": [],
   "source": [
    "def predict_and_inverse_transform(model, X, y, target_transformer):\n",
    "    \"\"\"\n",
    "    Effectue la prédiction avec le modèle donné et applique l'inverse de la transformation \n",
    "    sur les prédictions et les vraies valeurs cibles.\n",
    "\n",
    "    Args:\n",
    "        model: Modèle entraîné (ex. BiLSTM).\n",
    "        X_val: Données d'entrée de validation.\n",
    "        y_val: Vraies valeurs cibles de validation.\n",
    "        target_transformer: Transformateur utilisé pour normaliser les cibles (ex. MinMaxScaler).\n",
    "\n",
    "    Returns:\n",
    "        Tuple (y_pred_original_scale, y_true_original_scale)\n",
    "    \"\"\"\n",
    "    # Prédiction\n",
    "    y_pred = model.predict(X)\n",
    "\n",
    "    # Inversion de la transformation des prédictions\n",
    "    y_pred_inv = target_transformer.inverse_transform(y_pred)\n",
    "\n",
    "    # Reshape puis inversion de la transformation des vraies valeurs\n",
    "    y = y.reshape(-1, 1)\n",
    "    y_val_inv = target_transformer.inverse_transform(y)\n",
    "\n",
    "    return y_pred_inv, y_val_inv"
   ]
  },
  {
   "cell_type": "code",
   "execution_count": 114,
   "id": "c0d3075f",
   "metadata": {},
   "outputs": [],
   "source": [
    "def convertir_q_en_rh(q_kgkg, temperature_C, pression_hPa=1013.25):\n",
    "    \"\"\"\n",
    "    Convertit une série d'humidité spécifique (kg/kg) et de température (°C)\n",
    "    en humidité relative (%) en supposant une pression constante.\n",
    "\n",
    "    Paramètres :\n",
    "        q_kgkg : pd.Series ou np.array d'humidité spécifique (kg/kg)\n",
    "        temperature_C : pd.Series ou np.array de température (°C)\n",
    "        pression_hPa : pression atmosphérique en hPa (par défaut = 1013.25)\n",
    "\n",
    "    Retour :\n",
    "        pd.Series ou np.array d'humidité relative (%) — même type que l'entrée\n",
    "    \"\"\"\n",
    "    q = np.asarray(q_kgkg)\n",
    "    T = np.asarray(temperature_C)\n",
    "\n",
    "    # Pression partielle de vapeur d'eau (e) [hPa]\n",
    "    e = (q * pression_hPa) / (0.622 + 0.378 * q)\n",
    "\n",
    "    # Pression de vapeur saturante (e_s) [hPa] — formule de Tetens\n",
    "    e_s = 6.112 * np.exp((17.67 * T) / (T + 243.5))\n",
    "\n",
    "    # Humidité relative RH [%]\n",
    "    RH = 100 * e / e_s\n",
    "    RH = np.clip(RH, 0, 100)\n",
    "\n",
    "    # Renvoyer dans le même format que l'entrée\n",
    "    if isinstance(q_kgkg, pd.Series):\n",
    "        return pd.Series(RH, index=q_kgkg.index, name='RH_%')\n",
    "    else:\n",
    "        return RH"
   ]
  },
  {
   "cell_type": "code",
   "execution_count": 115,
   "id": "182fe4eb",
   "metadata": {},
   "outputs": [],
   "source": [
    "def    extract_24h_values(group):\n",
    "    if len(group) == 24:\n",
    "        return group.values\n",
    "    else:\n",
    "        print(group)"
   ]
  },
  {
   "cell_type": "markdown",
   "id": "b7482c51",
   "metadata": {},
   "source": [
    "##### **Dataset DRIAS RCP**"
   ]
  },
  {
   "cell_type": "code",
   "execution_count": 116,
   "id": "8360629e",
   "metadata": {},
   "outputs": [
    {
     "data": {
      "application/vnd.microsoft.datawrangler.viewer.v0+json": {
       "columns": [
        {
         "name": "Date",
         "rawType": "datetime64[ns]",
         "type": "datetime"
        },
        {
         "name": "Latitude",
         "rawType": "float64",
         "type": "float"
        },
        {
         "name": "Longitude",
         "rawType": "float64",
         "type": "float"
        },
        {
         "name": "tasminAdjust",
         "rawType": "float64",
         "type": "float"
        },
        {
         "name": "tasmaxAdjust",
         "rawType": "float64",
         "type": "float"
        },
        {
         "name": "tasAdjust",
         "rawType": "float64",
         "type": "float"
        },
        {
         "name": "prtotAdjust",
         "rawType": "float64",
         "type": "float"
        },
        {
         "name": "prsnAdjust",
         "rawType": "float64",
         "type": "float"
        },
        {
         "name": "hussAdjust",
         "rawType": "float64",
         "type": "float"
        },
        {
         "name": "rsdsAdjust",
         "rawType": "float64",
         "type": "float"
        },
        {
         "name": "rldsAdjust",
         "rawType": "float64",
         "type": "float"
        },
        {
         "name": "sfcWindAdjust",
         "rawType": "float64",
         "type": "float"
        },
        {
         "name": "evspsblpotAdjust",
         "rawType": "float64",
         "type": "float"
        }
       ],
       "ref": "a5c4d156-cebc-4f96-9570-f7de83f1a72a",
       "rows": [
        [
         "2006-01-01 00:00:00",
         "49.2427",
         "4.03882",
         "-3.15",
         "4.59",
         "-0.04",
         "0.0",
         "0.0",
         "0.003508",
         "53.716",
         "265.013",
         "2.181",
         "0.155"
        ],
        [
         "2006-01-02 00:00:00",
         "49.2427",
         "4.03882",
         "0.24",
         "4.04",
         "2.12",
         "8.811",
         "0.974",
         "0.004973",
         "9.241",
         "344.004",
         "7.124",
         "0.05"
        ],
        [
         "2006-01-03 00:00:00",
         "49.2427",
         "4.03882",
         "8.57",
         "9.21",
         "8.96",
         "0.742",
         "0.0",
         "0.00828",
         "7.535",
         "382.93",
         "8.292",
         "0.16"
        ],
        [
         "2006-01-04 00:00:00",
         "49.2427",
         "4.03882",
         "9.87",
         "14.17",
         "12.68",
         "0.47",
         "0.0",
         "0.008134",
         "19.244",
         "356.59",
         "5.446",
         "0.428"
        ],
        [
         "2006-01-05 00:00:00",
         "49.2427",
         "4.03882",
         "7.59",
         "11.51",
         "8.96",
         "0.0",
         "0.0",
         "0.006754",
         "14.233",
         "367.906",
         "2.02",
         "0.298"
        ],
        [
         "2006-01-06 00:00:00",
         "49.2427",
         "4.03882",
         "4.68",
         "10.64",
         "7.42",
         "0.0",
         "0.0",
         "0.005781",
         "53.737",
         "314.955",
         "2.906",
         "0.331"
        ],
        [
         "2006-01-07 00:00:00",
         "49.2427",
         "4.03882",
         "2.14",
         "8.17",
         "5.25",
         "0.0",
         "0.0",
         "0.004544",
         "57.515",
         "296.8",
         "2.264",
         "0.355"
        ],
        [
         "2006-01-08 00:00:00",
         "49.2427",
         "4.03882",
         "3.19",
         "12.2",
         "8.29",
         "0.0",
         "0.0",
         "0.00578",
         "54.688",
         "311.582",
         "1.138",
         "0.113"
        ],
        [
         "2006-01-09 00:00:00",
         "49.2427",
         "4.03882",
         "1.5",
         "11.11",
         "7.35",
         "2.227",
         "0.0",
         "0.005574",
         "22.14",
         "333.934",
         "1.818",
         "0.081"
        ],
        [
         "2006-01-10 00:00:00",
         "49.2427",
         "4.03882",
         "3.55",
         "6.88",
         "5.01",
         "6.182",
         "0.0",
         "0.005178",
         "12.707",
         "339.945",
         "5.18",
         "0.298"
        ],
        [
         "2006-01-11 00:00:00",
         "49.2427",
         "4.03882",
         "4.7",
         "6.78",
         "6.03",
         "2.833",
         "0.0",
         "0.005021",
         "20.591",
         "333.283",
         "4.718",
         "0.536"
        ],
        [
         "2006-01-12 00:00:00",
         "49.2427",
         "4.03882",
         "1.07",
         "5.72",
         "3.38",
         "0.188",
         "0.0",
         "0.004656",
         "32.965",
         "309.98",
         "0.878",
         "0.125"
        ],
        [
         "2006-01-13 00:00:00",
         "49.2427",
         "4.03882",
         "-1.04",
         "2.24",
         "0.35",
         "0.691",
         "0.509",
         "0.003493",
         "32.41",
         "314.331",
         "3.604",
         "0.347"
        ],
        [
         "2006-01-14 00:00:00",
         "49.2427",
         "4.03882",
         "-2.03",
         "2.2",
         "0.73",
         "0.0",
         "0.0",
         "0.003487",
         "67.813",
         "296.224",
         "3.587",
         "0.255"
        ],
        [
         "2006-01-15 00:00:00",
         "49.2427",
         "4.03882",
         "-1.82",
         "0.64",
         "-0.63",
         "0.529",
         "0.529",
         "0.003416",
         "25.889",
         "323.069",
         "5.201",
         "0.235"
        ],
        [
         "2006-01-16 00:00:00",
         "49.2427",
         "4.03882",
         "-2.74",
         "1.28",
         "-0.68",
         "0.529",
         "0.529",
         "0.003207",
         "70.592",
         "290.668",
         "2.016",
         "0.229"
        ],
        [
         "2006-01-17 00:00:00",
         "49.2427",
         "4.03882",
         "-3.06",
         "-0.08",
         "-1.15",
         "0.0",
         "0.0",
         "0.003153",
         "28.953",
         "315.883",
         "1.272",
         "0.176"
        ],
        [
         "2006-01-18 00:00:00",
         "49.2427",
         "4.03882",
         "-3.32",
         "1.85",
         "-0.57",
         "0.0",
         "0.0",
         "0.00295",
         "41.154",
         "284.602",
         "2.815",
         "0.367"
        ],
        [
         "2006-01-19 00:00:00",
         "49.2427",
         "4.03882",
         "0.05",
         "2.98",
         "1.5",
         "3.408",
         "1.306",
         "0.004083",
         "27.209",
         "328.68",
         "1.609",
         "0.197"
        ],
        [
         "2006-01-20 00:00:00",
         "49.2427",
         "4.03882",
         "1.07",
         "2.44",
         "1.8",
         "0.621",
         "0.0",
         "0.004094",
         "14.678",
         "330.257",
         "1.688",
         "0.271"
        ],
        [
         "2006-01-21 00:00:00",
         "49.2427",
         "4.03882",
         "-2.18",
         "3.53",
         "1.25",
         "0.0",
         "0.0",
         "0.00353",
         "63.32",
         "290.242",
         "2.948",
         "0.299"
        ],
        [
         "2006-01-22 00:00:00",
         "49.2427",
         "4.03882",
         "-1.87",
         "5.1",
         "1.23",
         "0.0",
         "0.0",
         "0.003894",
         "35.993",
         "312.418",
         "3.838",
         "0.279"
        ],
        [
         "2006-01-23 00:00:00",
         "49.2427",
         "4.03882",
         "1.7",
         "10.27",
         "7.24",
         "0.0",
         "0.0",
         "0.005241",
         "69.08",
         "306.873",
         "4.433",
         "0.398"
        ],
        [
         "2006-01-24 00:00:00",
         "49.2427",
         "4.03882",
         "4.96",
         "10.77",
         "7.69",
         "0.0",
         "0.0",
         "0.00512",
         "65.584",
         "317.775",
         "3.651",
         "0.822"
        ],
        [
         "2006-01-25 00:00:00",
         "49.2427",
         "4.03882",
         "6.86",
         "10.89",
         "8.95",
         "1.568",
         "0.0",
         "0.007007",
         "10.832",
         "355.212",
         "5.921",
         "0.211"
        ],
        [
         "2006-01-26 00:00:00",
         "49.2427",
         "4.03882",
         "9.77",
         "12.04",
         "11.15",
         "2.656",
         "0.0",
         "0.008407",
         "12.647",
         "382.378",
         "5.617",
         "0.214"
        ],
        [
         "2006-01-27 00:00:00",
         "49.2427",
         "4.03882",
         "8.32",
         "14.34",
         "10.74",
         "2.974",
         "0.0",
         "0.006569",
         "29.341",
         "350.138",
         "9.005",
         "1.463"
        ],
        [
         "2006-01-28 00:00:00",
         "49.2427",
         "4.03882",
         "8.11",
         "10.25",
         "9.27",
         "0.0",
         "0.0",
         "0.005091",
         "64.384",
         "313.945",
         "8.711",
         "1.793"
        ],
        [
         "2006-01-29 00:00:00",
         "49.2427",
         "4.03882",
         "6.55",
         "9.0",
         "7.82",
         "0.0",
         "0.0",
         "0.005093",
         "64.23",
         "330.765",
         "6.384",
         "1.161"
        ],
        [
         "2006-01-30 00:00:00",
         "49.2427",
         "4.03882",
         "7.56",
         "9.48",
         "8.64",
         "0.0",
         "0.0",
         "0.005356",
         "34.551",
         "347.46",
         "6.875",
         "1.254"
        ],
        [
         "2006-01-31 00:00:00",
         "49.2427",
         "4.03882",
         "6.57",
         "9.21",
         "7.9",
         "0.234",
         "0.0",
         "0.005615",
         "53.824",
         "342.899",
         "5.874",
         "0.832"
        ],
        [
         "2006-02-01 00:00:00",
         "49.2427",
         "4.03882",
         "9.07",
         "9.79",
         "9.36",
         "0.395",
         "0.0",
         "0.006668",
         "8.176",
         "368.892",
         "6.883",
         "0.695"
        ],
        [
         "2006-02-02 00:00:00",
         "49.2427",
         "4.03882",
         "6.04",
         "6.78",
         "6.46",
         "4.403",
         "0.0",
         "0.005574",
         "12.493",
         "345.345",
         "1.366",
         "0.423"
        ],
        [
         "2006-02-03 00:00:00",
         "49.2427",
         "4.03882",
         "2.8",
         "7.09",
         "4.5",
         "8.193",
         "0.0",
         "0.004468",
         "28.188",
         "320.87",
         "4.246",
         "0.706"
        ],
        [
         "2006-02-04 00:00:00",
         "49.2427",
         "4.03882",
         "-2.25",
         "2.8",
         "0.03",
         "0.0",
         "0.0",
         "0.002998",
         "51.908",
         "273.542",
         "5.079",
         "0.733"
        ],
        [
         "2006-02-05 00:00:00",
         "49.2427",
         "4.03882",
         "-0.51",
         "2.56",
         "1.21",
         "1.456",
         "0.754",
         "0.003446",
         "83.697",
         "296.173",
         "4.344",
         "0.569"
        ],
        [
         "2006-02-06 00:00:00",
         "49.2427",
         "4.03882",
         "-1.81",
         "2.4",
         "0.71",
         "3.16",
         "2.529",
         "0.003777",
         "22.865",
         "319.016",
         "0.75",
         "0.268"
        ],
        [
         "2006-02-07 00:00:00",
         "49.2427",
         "4.03882",
         "-3.98",
         "0.84",
         "-1.91",
         "0.0",
         "0.0",
         "0.002604",
         "105.727",
         "232.264",
         "3.086",
         "0.553"
        ],
        [
         "2006-02-08 00:00:00",
         "49.2427",
         "4.03882",
         "-6.22",
         "0.7",
         "-2.43",
         "0.0",
         "0.0",
         "0.002941",
         "30.046",
         "304.517",
         "1.836",
         "0.219"
        ],
        [
         "2006-02-09 00:00:00",
         "49.2427",
         "4.03882",
         "-0.6",
         "2.12",
         "0.64",
         "0.0",
         "0.0",
         "0.00386",
         "37.738",
         "329.118",
         "3.158",
         "0.297"
        ],
        [
         "2006-02-10 00:00:00",
         "49.2427",
         "4.03882",
         "1.68",
         "4.12",
         "3.23",
         "1.03",
         "0.0",
         "0.004689",
         "23.781",
         "341.971",
         "1.114",
         "0.316"
        ],
        [
         "2006-02-11 00:00:00",
         "49.2427",
         "4.03882",
         "2.64",
         "6.75",
         "5.53",
         "0.0",
         "0.0",
         "0.00465",
         "61.205",
         "329.232",
         "1.478",
         "0.488"
        ],
        [
         "2006-02-12 00:00:00",
         "49.2427",
         "4.03882",
         "3.09",
         "6.43",
         "5.17",
         "0.424",
         "0.236",
         "0.004316",
         "53.905",
         "316.123",
         "3.398",
         "0.76"
        ],
        [
         "2006-02-13 00:00:00",
         "49.2427",
         "4.03882",
         "0.79",
         "3.5",
         "1.71",
         "0.0",
         "0.0",
         "0.003662",
         "70.836",
         "298.567",
         "3.222",
         "0.633"
        ],
        [
         "2006-02-14 00:00:00",
         "49.2427",
         "4.03882",
         "-1.99",
         "3.7",
         "0.38",
         "0.0",
         "0.0",
         "0.003254",
         "89.354",
         "272.771",
         "1.588",
         "0.522"
        ],
        [
         "2006-02-15 00:00:00",
         "49.2427",
         "4.03882",
         "-1.46",
         "4.06",
         "1.41",
         "0.0",
         "0.0",
         "0.003115",
         "89.455",
         "274.4",
         "1.463",
         "0.594"
        ],
        [
         "2006-02-16 00:00:00",
         "49.2427",
         "4.03882",
         "-3.02",
         "7.95",
         "3.59",
         "0.0",
         "0.0",
         "0.003533",
         "130.212",
         "275.024",
         "2.304",
         "0.708"
        ],
        [
         "2006-02-17 00:00:00",
         "49.2427",
         "4.03882",
         "-0.64",
         "5.47",
         "2.62",
         "0.12",
         "0.0",
         "0.003149",
         "87.19",
         "290.223",
         "7.033",
         "1.281"
        ],
        [
         "2006-02-18 00:00:00",
         "49.2427",
         "4.03882",
         "-2.48",
         "2.87",
         "0.24",
         "0.0",
         "0.0",
         "0.002313",
         "160.693",
         "226.405",
         "6.544",
         "1.398"
        ],
        [
         "2006-02-19 00:00:00",
         "49.2427",
         "4.03882",
         "-4.62",
         "1.45",
         "-1.59",
         "0.0",
         "0.0",
         "0.002286",
         "90.875",
         "266.068",
         "5.621",
         "0.993"
        ]
       ],
       "shape": {
        "columns": 12,
        "rows": 34698
       }
      },
      "text/html": [
       "<div>\n",
       "<style scoped>\n",
       "    .dataframe tbody tr th:only-of-type {\n",
       "        vertical-align: middle;\n",
       "    }\n",
       "\n",
       "    .dataframe tbody tr th {\n",
       "        vertical-align: top;\n",
       "    }\n",
       "\n",
       "    .dataframe thead th {\n",
       "        text-align: right;\n",
       "    }\n",
       "</style>\n",
       "<table border=\"1\" class=\"dataframe\">\n",
       "  <thead>\n",
       "    <tr style=\"text-align: right;\">\n",
       "      <th></th>\n",
       "      <th>Latitude</th>\n",
       "      <th>Longitude</th>\n",
       "      <th>tasminAdjust</th>\n",
       "      <th>tasmaxAdjust</th>\n",
       "      <th>tasAdjust</th>\n",
       "      <th>prtotAdjust</th>\n",
       "      <th>prsnAdjust</th>\n",
       "      <th>hussAdjust</th>\n",
       "      <th>rsdsAdjust</th>\n",
       "      <th>rldsAdjust</th>\n",
       "      <th>sfcWindAdjust</th>\n",
       "      <th>evspsblpotAdjust</th>\n",
       "    </tr>\n",
       "    <tr>\n",
       "      <th>Date</th>\n",
       "      <th></th>\n",
       "      <th></th>\n",
       "      <th></th>\n",
       "      <th></th>\n",
       "      <th></th>\n",
       "      <th></th>\n",
       "      <th></th>\n",
       "      <th></th>\n",
       "      <th></th>\n",
       "      <th></th>\n",
       "      <th></th>\n",
       "      <th></th>\n",
       "    </tr>\n",
       "  </thead>\n",
       "  <tbody>\n",
       "    <tr>\n",
       "      <th>2006-01-01</th>\n",
       "      <td>49.2427</td>\n",
       "      <td>4.03882</td>\n",
       "      <td>-3.15</td>\n",
       "      <td>4.59</td>\n",
       "      <td>-0.04</td>\n",
       "      <td>0.000</td>\n",
       "      <td>0.000</td>\n",
       "      <td>0.003508</td>\n",
       "      <td>53.716</td>\n",
       "      <td>265.013</td>\n",
       "      <td>2.181</td>\n",
       "      <td>0.155</td>\n",
       "    </tr>\n",
       "    <tr>\n",
       "      <th>2006-01-02</th>\n",
       "      <td>49.2427</td>\n",
       "      <td>4.03882</td>\n",
       "      <td>0.24</td>\n",
       "      <td>4.04</td>\n",
       "      <td>2.12</td>\n",
       "      <td>8.811</td>\n",
       "      <td>0.974</td>\n",
       "      <td>0.004973</td>\n",
       "      <td>9.241</td>\n",
       "      <td>344.004</td>\n",
       "      <td>7.124</td>\n",
       "      <td>0.050</td>\n",
       "    </tr>\n",
       "    <tr>\n",
       "      <th>2006-01-03</th>\n",
       "      <td>49.2427</td>\n",
       "      <td>4.03882</td>\n",
       "      <td>8.57</td>\n",
       "      <td>9.21</td>\n",
       "      <td>8.96</td>\n",
       "      <td>0.742</td>\n",
       "      <td>0.000</td>\n",
       "      <td>0.008280</td>\n",
       "      <td>7.535</td>\n",
       "      <td>382.930</td>\n",
       "      <td>8.292</td>\n",
       "      <td>0.160</td>\n",
       "    </tr>\n",
       "    <tr>\n",
       "      <th>2006-01-04</th>\n",
       "      <td>49.2427</td>\n",
       "      <td>4.03882</td>\n",
       "      <td>9.87</td>\n",
       "      <td>14.17</td>\n",
       "      <td>12.68</td>\n",
       "      <td>0.470</td>\n",
       "      <td>0.000</td>\n",
       "      <td>0.008134</td>\n",
       "      <td>19.244</td>\n",
       "      <td>356.590</td>\n",
       "      <td>5.446</td>\n",
       "      <td>0.428</td>\n",
       "    </tr>\n",
       "    <tr>\n",
       "      <th>2006-01-05</th>\n",
       "      <td>49.2427</td>\n",
       "      <td>4.03882</td>\n",
       "      <td>7.59</td>\n",
       "      <td>11.51</td>\n",
       "      <td>8.96</td>\n",
       "      <td>0.000</td>\n",
       "      <td>0.000</td>\n",
       "      <td>0.006754</td>\n",
       "      <td>14.233</td>\n",
       "      <td>367.906</td>\n",
       "      <td>2.020</td>\n",
       "      <td>0.298</td>\n",
       "    </tr>\n",
       "    <tr>\n",
       "      <th>...</th>\n",
       "      <td>...</td>\n",
       "      <td>...</td>\n",
       "      <td>...</td>\n",
       "      <td>...</td>\n",
       "      <td>...</td>\n",
       "      <td>...</td>\n",
       "      <td>...</td>\n",
       "      <td>...</td>\n",
       "      <td>...</td>\n",
       "      <td>...</td>\n",
       "      <td>...</td>\n",
       "      <td>...</td>\n",
       "    </tr>\n",
       "    <tr>\n",
       "      <th>2100-12-27</th>\n",
       "      <td>49.2427</td>\n",
       "      <td>4.03882</td>\n",
       "      <td>0.67</td>\n",
       "      <td>4.61</td>\n",
       "      <td>2.63</td>\n",
       "      <td>0.000</td>\n",
       "      <td>0.000</td>\n",
       "      <td>0.003508</td>\n",
       "      <td>53.907</td>\n",
       "      <td>263.422</td>\n",
       "      <td>3.435</td>\n",
       "      <td>0.591</td>\n",
       "    </tr>\n",
       "    <tr>\n",
       "      <th>2100-12-28</th>\n",
       "      <td>49.2427</td>\n",
       "      <td>4.03882</td>\n",
       "      <td>-0.74</td>\n",
       "      <td>2.53</td>\n",
       "      <td>0.72</td>\n",
       "      <td>1.015</td>\n",
       "      <td>0.644</td>\n",
       "      <td>0.003386</td>\n",
       "      <td>12.878</td>\n",
       "      <td>314.804</td>\n",
       "      <td>3.790</td>\n",
       "      <td>0.432</td>\n",
       "    </tr>\n",
       "    <tr>\n",
       "      <th>2100-12-29</th>\n",
       "      <td>49.2427</td>\n",
       "      <td>4.03882</td>\n",
       "      <td>-1.10</td>\n",
       "      <td>1.20</td>\n",
       "      <td>-0.24</td>\n",
       "      <td>0.381</td>\n",
       "      <td>0.381</td>\n",
       "      <td>0.003521</td>\n",
       "      <td>18.212</td>\n",
       "      <td>310.789</td>\n",
       "      <td>1.192</td>\n",
       "      <td>0.185</td>\n",
       "    </tr>\n",
       "    <tr>\n",
       "      <th>2100-12-30</th>\n",
       "      <td>49.2427</td>\n",
       "      <td>4.03882</td>\n",
       "      <td>-3.13</td>\n",
       "      <td>0.07</td>\n",
       "      <td>-1.50</td>\n",
       "      <td>0.069</td>\n",
       "      <td>0.000</td>\n",
       "      <td>0.002961</td>\n",
       "      <td>11.396</td>\n",
       "      <td>312.622</td>\n",
       "      <td>1.625</td>\n",
       "      <td>0.196</td>\n",
       "    </tr>\n",
       "    <tr>\n",
       "      <th>2100-12-31</th>\n",
       "      <td>49.2427</td>\n",
       "      <td>4.03882</td>\n",
       "      <td>-1.72</td>\n",
       "      <td>2.36</td>\n",
       "      <td>0.88</td>\n",
       "      <td>0.192</td>\n",
       "      <td>0.091</td>\n",
       "      <td>0.003459</td>\n",
       "      <td>31.068</td>\n",
       "      <td>300.079</td>\n",
       "      <td>1.634</td>\n",
       "      <td>0.183</td>\n",
       "    </tr>\n",
       "  </tbody>\n",
       "</table>\n",
       "<p>34698 rows × 12 columns</p>\n",
       "</div>"
      ],
      "text/plain": [
       "            Latitude  Longitude  tasminAdjust  tasmaxAdjust  tasAdjust  \\\n",
       "Date                                                                     \n",
       "2006-01-01   49.2427    4.03882         -3.15          4.59      -0.04   \n",
       "2006-01-02   49.2427    4.03882          0.24          4.04       2.12   \n",
       "2006-01-03   49.2427    4.03882          8.57          9.21       8.96   \n",
       "2006-01-04   49.2427    4.03882          9.87         14.17      12.68   \n",
       "2006-01-05   49.2427    4.03882          7.59         11.51       8.96   \n",
       "...              ...        ...           ...           ...        ...   \n",
       "2100-12-27   49.2427    4.03882          0.67          4.61       2.63   \n",
       "2100-12-28   49.2427    4.03882         -0.74          2.53       0.72   \n",
       "2100-12-29   49.2427    4.03882         -1.10          1.20      -0.24   \n",
       "2100-12-30   49.2427    4.03882         -3.13          0.07      -1.50   \n",
       "2100-12-31   49.2427    4.03882         -1.72          2.36       0.88   \n",
       "\n",
       "            prtotAdjust  prsnAdjust  hussAdjust  rsdsAdjust  rldsAdjust  \\\n",
       "Date                                                                      \n",
       "2006-01-01        0.000       0.000    0.003508      53.716     265.013   \n",
       "2006-01-02        8.811       0.974    0.004973       9.241     344.004   \n",
       "2006-01-03        0.742       0.000    0.008280       7.535     382.930   \n",
       "2006-01-04        0.470       0.000    0.008134      19.244     356.590   \n",
       "2006-01-05        0.000       0.000    0.006754      14.233     367.906   \n",
       "...                 ...         ...         ...         ...         ...   \n",
       "2100-12-27        0.000       0.000    0.003508      53.907     263.422   \n",
       "2100-12-28        1.015       0.644    0.003386      12.878     314.804   \n",
       "2100-12-29        0.381       0.381    0.003521      18.212     310.789   \n",
       "2100-12-30        0.069       0.000    0.002961      11.396     312.622   \n",
       "2100-12-31        0.192       0.091    0.003459      31.068     300.079   \n",
       "\n",
       "            sfcWindAdjust  evspsblpotAdjust  \n",
       "Date                                         \n",
       "2006-01-01          2.181             0.155  \n",
       "2006-01-02          7.124             0.050  \n",
       "2006-01-03          8.292             0.160  \n",
       "2006-01-04          5.446             0.428  \n",
       "2006-01-05          2.020             0.298  \n",
       "...                   ...               ...  \n",
       "2100-12-27          3.435             0.591  \n",
       "2100-12-28          3.790             0.432  \n",
       "2100-12-29          1.192             0.185  \n",
       "2100-12-30          1.625             0.196  \n",
       "2100-12-31          1.634             0.183  \n",
       "\n",
       "[34698 rows x 12 columns]"
      ]
     },
     "metadata": {},
     "output_type": "display_data"
    }
   ],
   "source": [
    "data_rcp_2_6 = load_data_drias('Drias/CNRM-CERFACS-CNRM-CM5_CNRM-ALADIN63_rcp2.6_METEO-FRANCE_ADAMONT-France_SAFRAN_day_2006_2100.xlsx')"
   ]
  },
  {
   "cell_type": "code",
   "execution_count": 117,
   "id": "9b39f03e",
   "metadata": {},
   "outputs": [
    {
     "data": {
      "application/vnd.microsoft.datawrangler.viewer.v0+json": {
       "columns": [
        {
         "name": "index",
         "rawType": "object",
         "type": "string"
        },
        {
         "name": "0",
         "rawType": "int64",
         "type": "integer"
        }
       ],
       "ref": "936dd38e-6890-4cb3-b9d3-838c30a1d4bd",
       "rows": [
        [
         "Latitude",
         "0"
        ],
        [
         "Longitude",
         "0"
        ],
        [
         "tasminAdjust",
         "0"
        ],
        [
         "tasmaxAdjust",
         "0"
        ],
        [
         "tasAdjust",
         "0"
        ],
        [
         "prtotAdjust",
         "0"
        ],
        [
         "prsnAdjust",
         "0"
        ],
        [
         "hussAdjust",
         "0"
        ],
        [
         "rsdsAdjust",
         "0"
        ],
        [
         "rldsAdjust",
         "0"
        ],
        [
         "sfcWindAdjust",
         "0"
        ],
        [
         "evspsblpotAdjust",
         "0"
        ]
       ],
       "shape": {
        "columns": 1,
        "rows": 12
       }
      },
      "text/plain": [
       "Latitude            0\n",
       "Longitude           0\n",
       "tasminAdjust        0\n",
       "tasmaxAdjust        0\n",
       "tasAdjust           0\n",
       "prtotAdjust         0\n",
       "prsnAdjust          0\n",
       "hussAdjust          0\n",
       "rsdsAdjust          0\n",
       "rldsAdjust          0\n",
       "sfcWindAdjust       0\n",
       "evspsblpotAdjust    0\n",
       "dtype: int64"
      ]
     },
     "execution_count": 117,
     "metadata": {},
     "output_type": "execute_result"
    }
   ],
   "source": [
    "data_rcp_2_6.isnull().sum()"
   ]
  },
  {
   "cell_type": "code",
   "execution_count": 118,
   "id": "5326178b",
   "metadata": {},
   "outputs": [
    {
     "data": {
      "application/vnd.microsoft.datawrangler.viewer.v0+json": {
       "columns": [
        {
         "name": "Date",
         "rawType": "datetime64[ns]",
         "type": "datetime"
        },
        {
         "name": "Latitude",
         "rawType": "float64",
         "type": "float"
        },
        {
         "name": "Longitude",
         "rawType": "float64",
         "type": "float"
        },
        {
         "name": "tasminAdjust",
         "rawType": "float64",
         "type": "float"
        },
        {
         "name": "tasmaxAdjust",
         "rawType": "float64",
         "type": "float"
        },
        {
         "name": "tasAdjust",
         "rawType": "float64",
         "type": "float"
        },
        {
         "name": "prtotAdjust",
         "rawType": "float64",
         "type": "float"
        },
        {
         "name": "prsnAdjust",
         "rawType": "float64",
         "type": "float"
        },
        {
         "name": "hussAdjust",
         "rawType": "float64",
         "type": "float"
        },
        {
         "name": "rsdsAdjust",
         "rawType": "float64",
         "type": "float"
        },
        {
         "name": "rldsAdjust",
         "rawType": "float64",
         "type": "float"
        },
        {
         "name": "sfcWindAdjust",
         "rawType": "float64",
         "type": "float"
        },
        {
         "name": "evspsblpotAdjust",
         "rawType": "float64",
         "type": "float"
        }
       ],
       "ref": "5108bba5-e3c5-4c60-aac5-d3c983e1fed0",
       "rows": [
        [
         "2006-01-01 00:00:00",
         "49.2427",
         "4.03882",
         "-3.15",
         "4.65",
         "-0.02",
         "0.22",
         "0.22",
         "3.503",
         "53.157",
         "264.926",
         "7.7",
         "0.156"
        ],
        [
         "2006-01-02 00:00:00",
         "49.2427",
         "4.03882",
         "0.04",
         "4.06",
         "2.03",
         "8.361",
         "1.039",
         "5.015",
         "9.143",
         "347.306",
         "25.24",
         "0.047"
        ],
        [
         "2006-01-03 00:00:00",
         "49.2427",
         "4.03882",
         "8.59",
         "8.97",
         "8.82",
         "0.677",
         "0.0",
         "8.196",
         "8.756",
         "381.686",
         "30.14",
         "0.171"
        ],
        [
         "2006-01-04 00:00:00",
         "49.2427",
         "4.03882",
         "9.76",
         "13.06",
         "11.92",
         "0.093",
         "0.0",
         "7.773",
         "16.775",
         "355.457",
         "20.89",
         "0.473"
        ],
        [
         "2006-01-05 00:00:00",
         "49.2427",
         "4.03882",
         "5.15",
         "11.0",
         "7.2",
         "0.0",
         "0.0",
         "6.088",
         "29.116",
         "337.96",
         "5.61",
         "0.191"
        ],
        [
         "2006-01-06 00:00:00",
         "49.2427",
         "4.03882",
         "3.89",
         "10.13",
         "6.75",
         "0.0",
         "0.0",
         "5.489",
         "27.417",
         "321.303",
         "9.53",
         "0.308"
        ],
        [
         "2006-01-07 00:00:00",
         "49.2427",
         "4.03882",
         "3.45",
         "8.48",
         "6.3",
         "0.0",
         "0.0",
         "4.977",
         "49.889",
         "305.32",
         "7.76",
         "0.329"
        ],
        [
         "2006-01-08 00:00:00",
         "49.2427",
         "4.03882",
         "5.46",
         "12.29",
         "8.31",
         "0.0",
         "0.0",
         "6.268",
         "25.462",
         "337.849",
         "5.04",
         "0.206"
        ],
        [
         "2006-01-09 00:00:00",
         "49.2427",
         "4.03882",
         "7.42",
         "8.9",
         "8.32",
         "0.497",
         "0.0",
         "6.413",
         "16.708",
         "354.304",
         "10.44",
         "0.33"
        ],
        [
         "2006-01-10 00:00:00",
         "49.2427",
         "4.03882",
         "5.01",
         "7.56",
         "6.32",
         "1.576",
         "0.0",
         "5.166",
         "12.435",
         "334.156",
         "15.81",
         "0.543"
        ],
        [
         "2006-01-11 00:00:00",
         "49.2427",
         "4.03882",
         "3.81",
         "4.87",
         "4.27",
         "1.624",
         "0.0",
         "4.638",
         "24.608",
         "323.039",
         "16.0",
         "0.48"
        ],
        [
         "2006-01-12 00:00:00",
         "49.2427",
         "4.03882",
         "1.7",
         "4.3",
         "3.37",
         "1.855",
         "0.0",
         "4.192",
         "34.14",
         "313.917",
         "10.62",
         "0.359"
        ],
        [
         "2006-01-13 00:00:00",
         "49.2427",
         "4.03882",
         "-0.47",
         "2.25",
         "1.4",
         "0.7",
         "0.103",
         "3.71",
         "22.26",
         "321.047",
         "4.56",
         "0.219"
        ],
        [
         "2006-01-14 00:00:00",
         "49.2427",
         "4.03882",
         "-1.46",
         "1.24",
         "-0.31",
         "0.0",
         "0.0",
         "3.144",
         "33.917",
         "312.227",
         "8.94",
         "0.379"
        ],
        [
         "2006-01-15 00:00:00",
         "49.2427",
         "4.03882",
         "-0.82",
         "0.16",
         "-0.18",
         "0.48",
         "0.48",
         "3.271",
         "10.982",
         "321.896",
         "6.2",
         "0.33"
        ],
        [
         "2006-01-16 00:00:00",
         "49.2427",
         "4.03882",
         "-2.74",
         "1.75",
         "-0.94",
         "0.0",
         "0.0",
         "2.988",
         "66.524",
         "274.809",
         "3.22",
         "0.214"
        ],
        [
         "2006-01-17 00:00:00",
         "49.2427",
         "4.03882",
         "-1.37",
         "1.76",
         "0.61",
         "0.0",
         "0.0",
         "3.142",
         "27.804",
         "301.362",
         "7.8",
         "0.389"
        ],
        [
         "2006-01-18 00:00:00",
         "49.2427",
         "4.03882",
         "-3.42",
         "1.81",
         "-0.74",
         "0.0",
         "0.0",
         "3.228",
         "38.74",
         "294.232",
         "10.39",
         "0.229"
        ],
        [
         "2006-01-19 00:00:00",
         "49.2427",
         "4.03882",
         "-1.38",
         "3.24",
         "1.08",
         "2.113",
         "1.984",
         "3.917",
         "8.652",
         "332.557",
         "15.74",
         "0.171"
        ],
        [
         "2006-01-20 00:00:00",
         "49.2427",
         "4.03882",
         "-2.07",
         "3.67",
         "1.6",
         "0.0",
         "0.0",
         "3.912",
         "39.486",
         "308.398",
         "7.73",
         "0.129"
        ],
        [
         "2006-01-21 00:00:00",
         "49.2427",
         "4.03882",
         "-2.44",
         "2.11",
         "-0.18",
         "1.005",
         "1.005",
         "3.374",
         "31.176",
         "305.68",
         "16.42",
         "0.322"
        ],
        [
         "2006-01-22 00:00:00",
         "49.2427",
         "4.03882",
         "0.87",
         "5.2",
         "3.17",
         "1.71",
         "0.903",
         "4.514",
         "29.48",
         "330.617",
         "8.71",
         "0.214"
        ],
        [
         "2006-01-23 00:00:00",
         "49.2427",
         "4.03882",
         "-0.72",
         "4.41",
         "2.02",
         "0.0",
         "0.0",
         "3.908",
         "40.382",
         "308.534",
         "7.98",
         "0.277"
        ],
        [
         "2006-01-24 00:00:00",
         "49.2427",
         "4.03882",
         "-2.82",
         "1.51",
         "0.2",
         "0.739",
         "0.486",
         "3.402",
         "31.626",
         "312.045",
         "14.4",
         "0.218"
        ],
        [
         "2006-01-25 00:00:00",
         "49.2427",
         "4.03882",
         "3.72",
         "5.61",
         "4.89",
         "4.316",
         "0.0",
         "5.605",
         "8.333",
         "342.673",
         "17.54",
         "0.173"
        ],
        [
         "2006-01-26 00:00:00",
         "49.2427",
         "4.03882",
         "4.26",
         "7.92",
         "6.52",
         "0.0",
         "0.0",
         "5.081",
         "58.485",
         "329.176",
         "12.87",
         "0.54"
        ],
        [
         "2006-01-27 00:00:00",
         "49.2427",
         "4.03882",
         "5.51",
         "8.32",
         "7.2",
         "4.102",
         "0.0",
         "5.836",
         "13.606",
         "354.794",
         "24.31",
         "0.412"
        ],
        [
         "2006-01-28 00:00:00",
         "49.2427",
         "4.03882",
         "4.68",
         "8.03",
         "6.85",
         "7.729",
         "0.0",
         "5.091",
         "25.6",
         "323.317",
         "31.87",
         "0.834"
        ],
        [
         "2006-01-29 00:00:00",
         "49.2427",
         "4.03882",
         "4.05",
         "8.62",
         "6.87",
         "0.289",
         "0.0",
         "4.644",
         "37.503",
         "328.067",
         "26.39",
         "1.097"
        ],
        [
         "2006-01-30 00:00:00",
         "49.2427",
         "4.03882",
         "6.06",
         "9.93",
         "7.71",
         "2.197",
         "0.0",
         "5.9",
         "21.657",
         "350.685",
         "27.81",
         "0.726"
        ],
        [
         "2006-01-31 00:00:00",
         "49.2427",
         "4.03882",
         "1.36",
         "7.07",
         "4.19",
         "0.0",
         "0.0",
         "4.664",
         "65.862",
         "307.56",
         "13.28",
         "0.402"
        ],
        [
         "2006-02-01 00:00:00",
         "49.2427",
         "4.03882",
         "0.76",
         "3.7",
         "2.52",
         "0.467",
         "0.0",
         "4.096",
         "25.562",
         "301.09",
         "12.37",
         "0.371"
        ],
        [
         "2006-02-02 00:00:00",
         "49.2427",
         "4.03882",
         "-0.37",
         "2.07",
         "1.04",
         "2.153",
         "0.932",
         "3.741",
         "19.924",
         "312.213",
         "17.38",
         "0.356"
        ],
        [
         "2006-02-03 00:00:00",
         "49.2427",
         "4.03882",
         "-0.47",
         "3.63",
         "2.71",
         "0.0",
         "0.0",
         "4.103",
         "51.168",
         "312.607",
         "1.33",
         "0.266"
        ],
        [
         "2006-02-04 00:00:00",
         "49.2427",
         "4.03882",
         "-1.67",
         "3.23",
         "1.01",
         "0.0",
         "0.0",
         "3.705",
         "69.953",
         "304.99",
         "6.18",
         "0.303"
        ],
        [
         "2006-02-05 00:00:00",
         "49.2427",
         "4.03882",
         "-0.6",
         "4.27",
         "1.63",
         "0.326",
         "0.196",
         "3.864",
         "55.549",
         "309.97",
         "7.1",
         "0.377"
        ],
        [
         "2006-02-06 00:00:00",
         "49.2427",
         "4.03882",
         "-0.38",
         "3.93",
         "1.55",
         "1.414",
         "0.0",
         "3.885",
         "34.673",
         "324.172",
         "16.28",
         "0.443"
        ],
        [
         "2006-02-07 00:00:00",
         "49.2427",
         "4.03882",
         "-0.82",
         "4.97",
         "1.97",
         "0.0",
         "0.0",
         "3.892",
         "80.41",
         "307.953",
         "9.02",
         "0.429"
        ],
        [
         "2006-02-08 00:00:00",
         "49.2427",
         "4.03882",
         "-1.49",
         "5.62",
         "1.41",
         "0.0",
         "0.0",
         "3.475",
         "115.008",
         "266.627",
         "4.23",
         "0.45"
        ],
        [
         "2006-02-09 00:00:00",
         "49.2427",
         "4.03882",
         "-2.67",
         "2.65",
         "-0.5",
         "0.0",
         "0.0",
         "3.204",
         "81.246",
         "286.288",
         "3.34",
         "0.367"
        ],
        [
         "2006-02-10 00:00:00",
         "49.2427",
         "4.03882",
         "-2.89",
         "3.69",
         "-0.28",
         "0.0",
         "0.0",
         "3.192",
         "109.276",
         "278.608",
         "13.47",
         "0.598"
        ],
        [
         "2006-02-11 00:00:00",
         "49.2427",
         "4.03882",
         "-3.28",
         "2.97",
         "-0.29",
         "0.0",
         "0.0",
         "2.714",
         "126.809",
         "251.38",
         "13.21",
         "0.779"
        ],
        [
         "2006-02-12 00:00:00",
         "49.2427",
         "4.03882",
         "-3.18",
         "2.98",
         "-0.56",
         "0.0",
         "0.0",
         "2.741",
         "129.618",
         "246.199",
         "11.25",
         "0.733"
        ],
        [
         "2006-02-13 00:00:00",
         "49.2427",
         "4.03882",
         "-3.31",
         "5.32",
         "0.25",
         "0.0",
         "0.0",
         "2.843",
         "131.965",
         "251.117",
         "3.87",
         "0.545"
        ],
        [
         "2006-02-14 00:00:00",
         "49.2427",
         "4.03882",
         "-2.77",
         "5.82",
         "0.9",
         "0.0",
         "0.0",
         "3.55",
         "79.79",
         "300.268",
         "8.13",
         "0.547"
        ],
        [
         "2006-02-15 00:00:00",
         "49.2427",
         "4.03882",
         "-0.37",
         "6.27",
         "3.29",
         "0.828",
         "0.374",
         "4.466",
         "71.537",
         "323.8",
         "7.39",
         "0.404"
        ],
        [
         "2006-02-16 00:00:00",
         "49.2427",
         "4.03882",
         "3.67",
         "12.14",
         "7.66",
         "2.927",
         "0.0",
         "5.81",
         "60.076",
         "347.848",
         "21.8",
         "0.846"
        ],
        [
         "2006-02-17 00:00:00",
         "49.2427",
         "4.03882",
         "3.77",
         "8.45",
         "5.65",
         "0.0",
         "0.0",
         "5.027",
         "71.937",
         "321.162",
         "10.94",
         "0.706"
        ],
        [
         "2006-02-18 00:00:00",
         "49.2427",
         "4.03882",
         "4.2",
         "8.27",
         "6.52",
         "0.889",
         "0.0",
         "4.38",
         "62.28",
         "309.386",
         "5.74",
         "0.796"
        ],
        [
         "2006-02-19 00:00:00",
         "49.2427",
         "4.03882",
         "2.1",
         "9.7",
         "4.68",
         "0.0",
         "0.0",
         "4.478",
         "78.005",
         "308.995",
         "11.79",
         "0.962"
        ]
       ],
       "shape": {
        "columns": 12,
        "rows": 34698
       }
      },
      "text/html": [
       "<div>\n",
       "<style scoped>\n",
       "    .dataframe tbody tr th:only-of-type {\n",
       "        vertical-align: middle;\n",
       "    }\n",
       "\n",
       "    .dataframe tbody tr th {\n",
       "        vertical-align: top;\n",
       "    }\n",
       "\n",
       "    .dataframe thead th {\n",
       "        text-align: right;\n",
       "    }\n",
       "</style>\n",
       "<table border=\"1\" class=\"dataframe\">\n",
       "  <thead>\n",
       "    <tr style=\"text-align: right;\">\n",
       "      <th></th>\n",
       "      <th>Latitude</th>\n",
       "      <th>Longitude</th>\n",
       "      <th>tasminAdjust</th>\n",
       "      <th>tasmaxAdjust</th>\n",
       "      <th>tasAdjust</th>\n",
       "      <th>prtotAdjust</th>\n",
       "      <th>prsnAdjust</th>\n",
       "      <th>hussAdjust</th>\n",
       "      <th>rsdsAdjust</th>\n",
       "      <th>rldsAdjust</th>\n",
       "      <th>sfcWindAdjust</th>\n",
       "      <th>evspsblpotAdjust</th>\n",
       "    </tr>\n",
       "    <tr>\n",
       "      <th>Date</th>\n",
       "      <th></th>\n",
       "      <th></th>\n",
       "      <th></th>\n",
       "      <th></th>\n",
       "      <th></th>\n",
       "      <th></th>\n",
       "      <th></th>\n",
       "      <th></th>\n",
       "      <th></th>\n",
       "      <th></th>\n",
       "      <th></th>\n",
       "      <th></th>\n",
       "    </tr>\n",
       "  </thead>\n",
       "  <tbody>\n",
       "    <tr>\n",
       "      <th>2006-01-01</th>\n",
       "      <td>49.2427</td>\n",
       "      <td>4.03882</td>\n",
       "      <td>-3.15</td>\n",
       "      <td>4.65</td>\n",
       "      <td>-0.02</td>\n",
       "      <td>0.220</td>\n",
       "      <td>0.220</td>\n",
       "      <td>3.503</td>\n",
       "      <td>53.157</td>\n",
       "      <td>264.926</td>\n",
       "      <td>7.70</td>\n",
       "      <td>0.156</td>\n",
       "    </tr>\n",
       "    <tr>\n",
       "      <th>2006-01-02</th>\n",
       "      <td>49.2427</td>\n",
       "      <td>4.03882</td>\n",
       "      <td>0.04</td>\n",
       "      <td>4.06</td>\n",
       "      <td>2.03</td>\n",
       "      <td>8.361</td>\n",
       "      <td>1.039</td>\n",
       "      <td>5.015</td>\n",
       "      <td>9.143</td>\n",
       "      <td>347.306</td>\n",
       "      <td>25.24</td>\n",
       "      <td>0.047</td>\n",
       "    </tr>\n",
       "    <tr>\n",
       "      <th>2006-01-03</th>\n",
       "      <td>49.2427</td>\n",
       "      <td>4.03882</td>\n",
       "      <td>8.59</td>\n",
       "      <td>8.97</td>\n",
       "      <td>8.82</td>\n",
       "      <td>0.677</td>\n",
       "      <td>0.000</td>\n",
       "      <td>8.196</td>\n",
       "      <td>8.756</td>\n",
       "      <td>381.686</td>\n",
       "      <td>30.14</td>\n",
       "      <td>0.171</td>\n",
       "    </tr>\n",
       "    <tr>\n",
       "      <th>2006-01-04</th>\n",
       "      <td>49.2427</td>\n",
       "      <td>4.03882</td>\n",
       "      <td>9.76</td>\n",
       "      <td>13.06</td>\n",
       "      <td>11.92</td>\n",
       "      <td>0.093</td>\n",
       "      <td>0.000</td>\n",
       "      <td>7.773</td>\n",
       "      <td>16.775</td>\n",
       "      <td>355.457</td>\n",
       "      <td>20.89</td>\n",
       "      <td>0.473</td>\n",
       "    </tr>\n",
       "    <tr>\n",
       "      <th>2006-01-05</th>\n",
       "      <td>49.2427</td>\n",
       "      <td>4.03882</td>\n",
       "      <td>5.15</td>\n",
       "      <td>11.00</td>\n",
       "      <td>7.20</td>\n",
       "      <td>0.000</td>\n",
       "      <td>0.000</td>\n",
       "      <td>6.088</td>\n",
       "      <td>29.116</td>\n",
       "      <td>337.960</td>\n",
       "      <td>5.61</td>\n",
       "      <td>0.191</td>\n",
       "    </tr>\n",
       "    <tr>\n",
       "      <th>...</th>\n",
       "      <td>...</td>\n",
       "      <td>...</td>\n",
       "      <td>...</td>\n",
       "      <td>...</td>\n",
       "      <td>...</td>\n",
       "      <td>...</td>\n",
       "      <td>...</td>\n",
       "      <td>...</td>\n",
       "      <td>...</td>\n",
       "      <td>...</td>\n",
       "      <td>...</td>\n",
       "      <td>...</td>\n",
       "    </tr>\n",
       "    <tr>\n",
       "      <th>2100-12-27</th>\n",
       "      <td>49.2427</td>\n",
       "      <td>4.03882</td>\n",
       "      <td>1.00</td>\n",
       "      <td>9.48</td>\n",
       "      <td>4.55</td>\n",
       "      <td>0.000</td>\n",
       "      <td>0.000</td>\n",
       "      <td>4.967</td>\n",
       "      <td>51.618</td>\n",
       "      <td>286.619</td>\n",
       "      <td>11.37</td>\n",
       "      <td>0.200</td>\n",
       "    </tr>\n",
       "    <tr>\n",
       "      <th>2100-12-28</th>\n",
       "      <td>49.2427</td>\n",
       "      <td>4.03882</td>\n",
       "      <td>4.14</td>\n",
       "      <td>11.98</td>\n",
       "      <td>8.26</td>\n",
       "      <td>3.633</td>\n",
       "      <td>0.000</td>\n",
       "      <td>5.910</td>\n",
       "      <td>38.051</td>\n",
       "      <td>318.954</td>\n",
       "      <td>14.50</td>\n",
       "      <td>0.370</td>\n",
       "    </tr>\n",
       "    <tr>\n",
       "      <th>2100-12-29</th>\n",
       "      <td>49.2427</td>\n",
       "      <td>4.03882</td>\n",
       "      <td>4.61</td>\n",
       "      <td>9.58</td>\n",
       "      <td>8.07</td>\n",
       "      <td>2.746</td>\n",
       "      <td>0.000</td>\n",
       "      <td>5.180</td>\n",
       "      <td>30.541</td>\n",
       "      <td>324.057</td>\n",
       "      <td>15.67</td>\n",
       "      <td>0.614</td>\n",
       "    </tr>\n",
       "    <tr>\n",
       "      <th>2100-12-30</th>\n",
       "      <td>49.2427</td>\n",
       "      <td>4.03882</td>\n",
       "      <td>6.15</td>\n",
       "      <td>10.11</td>\n",
       "      <td>7.57</td>\n",
       "      <td>9.368</td>\n",
       "      <td>0.000</td>\n",
       "      <td>5.884</td>\n",
       "      <td>17.554</td>\n",
       "      <td>334.634</td>\n",
       "      <td>36.97</td>\n",
       "      <td>0.764</td>\n",
       "    </tr>\n",
       "    <tr>\n",
       "      <th>2100-12-31</th>\n",
       "      <td>49.2427</td>\n",
       "      <td>4.03882</td>\n",
       "      <td>5.40</td>\n",
       "      <td>6.59</td>\n",
       "      <td>6.08</td>\n",
       "      <td>2.348</td>\n",
       "      <td>0.000</td>\n",
       "      <td>5.043</td>\n",
       "      <td>15.093</td>\n",
       "      <td>337.720</td>\n",
       "      <td>18.19</td>\n",
       "      <td>0.618</td>\n",
       "    </tr>\n",
       "  </tbody>\n",
       "</table>\n",
       "<p>34698 rows × 12 columns</p>\n",
       "</div>"
      ],
      "text/plain": [
       "            Latitude  Longitude  tasminAdjust  tasmaxAdjust  tasAdjust  \\\n",
       "Date                                                                     \n",
       "2006-01-01   49.2427    4.03882         -3.15          4.65      -0.02   \n",
       "2006-01-02   49.2427    4.03882          0.04          4.06       2.03   \n",
       "2006-01-03   49.2427    4.03882          8.59          8.97       8.82   \n",
       "2006-01-04   49.2427    4.03882          9.76         13.06      11.92   \n",
       "2006-01-05   49.2427    4.03882          5.15         11.00       7.20   \n",
       "...              ...        ...           ...           ...        ...   \n",
       "2100-12-27   49.2427    4.03882          1.00          9.48       4.55   \n",
       "2100-12-28   49.2427    4.03882          4.14         11.98       8.26   \n",
       "2100-12-29   49.2427    4.03882          4.61          9.58       8.07   \n",
       "2100-12-30   49.2427    4.03882          6.15         10.11       7.57   \n",
       "2100-12-31   49.2427    4.03882          5.40          6.59       6.08   \n",
       "\n",
       "            prtotAdjust  prsnAdjust  hussAdjust  rsdsAdjust  rldsAdjust  \\\n",
       "Date                                                                      \n",
       "2006-01-01        0.220       0.220       3.503      53.157     264.926   \n",
       "2006-01-02        8.361       1.039       5.015       9.143     347.306   \n",
       "2006-01-03        0.677       0.000       8.196       8.756     381.686   \n",
       "2006-01-04        0.093       0.000       7.773      16.775     355.457   \n",
       "2006-01-05        0.000       0.000       6.088      29.116     337.960   \n",
       "...                 ...         ...         ...         ...         ...   \n",
       "2100-12-27        0.000       0.000       4.967      51.618     286.619   \n",
       "2100-12-28        3.633       0.000       5.910      38.051     318.954   \n",
       "2100-12-29        2.746       0.000       5.180      30.541     324.057   \n",
       "2100-12-30        9.368       0.000       5.884      17.554     334.634   \n",
       "2100-12-31        2.348       0.000       5.043      15.093     337.720   \n",
       "\n",
       "            sfcWindAdjust  evspsblpotAdjust  \n",
       "Date                                         \n",
       "2006-01-01           7.70             0.156  \n",
       "2006-01-02          25.24             0.047  \n",
       "2006-01-03          30.14             0.171  \n",
       "2006-01-04          20.89             0.473  \n",
       "2006-01-05           5.61             0.191  \n",
       "...                   ...               ...  \n",
       "2100-12-27          11.37             0.200  \n",
       "2100-12-28          14.50             0.370  \n",
       "2100-12-29          15.67             0.614  \n",
       "2100-12-30          36.97             0.764  \n",
       "2100-12-31          18.19             0.618  \n",
       "\n",
       "[34698 rows x 12 columns]"
      ]
     },
     "metadata": {},
     "output_type": "display_data"
    }
   ],
   "source": [
    "data_rcp_4_5 = load_data_drias('Drias/CNRM-CERFACS-CNRM-CM5_CNRM-ALADIN63_rcp4.5_METEO-FRANCE_ADAMONT-France_SAFRAN_day_2006_2100.xlsx')"
   ]
  },
  {
   "cell_type": "code",
   "execution_count": 119,
   "id": "4d4abf81",
   "metadata": {},
   "outputs": [
    {
     "data": {
      "application/vnd.microsoft.datawrangler.viewer.v0+json": {
       "columns": [
        {
         "name": "index",
         "rawType": "object",
         "type": "string"
        },
        {
         "name": "0",
         "rawType": "int64",
         "type": "integer"
        }
       ],
       "ref": "2fbb8649-299b-43f1-ac44-40a8b42efddb",
       "rows": [
        [
         "Latitude",
         "0"
        ],
        [
         "Longitude",
         "0"
        ],
        [
         "tasminAdjust",
         "0"
        ],
        [
         "tasmaxAdjust",
         "0"
        ],
        [
         "tasAdjust",
         "0"
        ],
        [
         "prtotAdjust",
         "0"
        ],
        [
         "prsnAdjust",
         "0"
        ],
        [
         "hussAdjust",
         "0"
        ],
        [
         "rsdsAdjust",
         "0"
        ],
        [
         "rldsAdjust",
         "0"
        ],
        [
         "sfcWindAdjust",
         "0"
        ],
        [
         "evspsblpotAdjust",
         "0"
        ]
       ],
       "shape": {
        "columns": 1,
        "rows": 12
       }
      },
      "text/plain": [
       "Latitude            0\n",
       "Longitude           0\n",
       "tasminAdjust        0\n",
       "tasmaxAdjust        0\n",
       "tasAdjust           0\n",
       "prtotAdjust         0\n",
       "prsnAdjust          0\n",
       "hussAdjust          0\n",
       "rsdsAdjust          0\n",
       "rldsAdjust          0\n",
       "sfcWindAdjust       0\n",
       "evspsblpotAdjust    0\n",
       "dtype: int64"
      ]
     },
     "execution_count": 119,
     "metadata": {},
     "output_type": "execute_result"
    }
   ],
   "source": [
    "data_rcp_4_5.isnull().sum()"
   ]
  },
  {
   "cell_type": "code",
   "execution_count": 120,
   "id": "a9365446",
   "metadata": {},
   "outputs": [
    {
     "data": {
      "application/vnd.microsoft.datawrangler.viewer.v0+json": {
       "columns": [
        {
         "name": "Date",
         "rawType": "datetime64[ns]",
         "type": "datetime"
        },
        {
         "name": "Latitude",
         "rawType": "float64",
         "type": "float"
        },
        {
         "name": "Longitude",
         "rawType": "float64",
         "type": "float"
        },
        {
         "name": "tasminAdjust",
         "rawType": "float64",
         "type": "float"
        },
        {
         "name": "tasmaxAdjust",
         "rawType": "float64",
         "type": "float"
        },
        {
         "name": "tasAdjust",
         "rawType": "float64",
         "type": "float"
        },
        {
         "name": "prtotAdjust",
         "rawType": "float64",
         "type": "float"
        },
        {
         "name": "prsnAdjust",
         "rawType": "float64",
         "type": "float"
        },
        {
         "name": "hussAdjust",
         "rawType": "float64",
         "type": "float"
        },
        {
         "name": "rsdsAdjust",
         "rawType": "float64",
         "type": "float"
        },
        {
         "name": "rldsAdjust",
         "rawType": "float64",
         "type": "float"
        },
        {
         "name": "sfcWindAdjust",
         "rawType": "float64",
         "type": "float"
        },
        {
         "name": "evspsblpotAdjust",
         "rawType": "float64",
         "type": "float"
        }
       ],
       "ref": "cc9c97b2-d52a-4e1a-a0b6-859ab60a6159",
       "rows": [
        [
         "2006-01-01 00:00:00",
         "49.2427",
         "4.03882",
         "-3.15",
         "4.58",
         "-0.05",
         "0.0",
         "0.0",
         "3.506",
         "53.708",
         "264.94",
         "7.87",
         "0.156"
        ],
        [
         "2006-01-02 00:00:00",
         "49.2427",
         "4.03882",
         "0.05",
         "4.04",
         "2.02",
         "8.608",
         "1.052",
         "4.984",
         "9.463",
         "344.383",
         "25.13",
         "0.047"
        ],
        [
         "2006-01-03 00:00:00",
         "49.2427",
         "4.03882",
         "8.56",
         "8.86",
         "8.74",
         "0.677",
         "0.0",
         "8.16",
         "8.174",
         "381.568",
         "30.01",
         "0.176"
        ],
        [
         "2006-01-04 00:00:00",
         "49.2427",
         "4.03882",
         "9.76",
         "12.29",
         "11.42",
         "0.111",
         "0.0",
         "7.996",
         "16.04",
         "357.124",
         "21.37",
         "0.248"
        ],
        [
         "2006-01-05 00:00:00",
         "49.2427",
         "4.03882",
         "7.13",
         "10.79",
         "8.41",
         "0.0",
         "0.0",
         "6.506",
         "13.623",
         "365.049",
         "7.52",
         "0.298"
        ],
        [
         "2006-01-06 00:00:00",
         "49.2427",
         "4.03882",
         "4.79",
         "11.01",
         "7.64",
         "0.0",
         "0.0",
         "5.895",
         "37.383",
         "322.78",
         "11.47",
         "0.342"
        ],
        [
         "2006-01-07 00:00:00",
         "49.2427",
         "4.03882",
         "-0.51",
         "7.98",
         "2.71",
         "0.0",
         "0.0",
         "4.203",
         "57.119",
         "284.704",
         "7.32",
         "0.226"
        ],
        [
         "2006-01-08 00:00:00",
         "49.2427",
         "4.03882",
         "3.71",
         "11.57",
         "8.16",
         "0.0",
         "0.0",
         "5.866",
         "28.767",
         "338.723",
         "3.48",
         "0.104"
        ],
        [
         "2006-01-09 00:00:00",
         "49.2427",
         "4.03882",
         "8.42",
         "9.9",
         "9.32",
         "0.973",
         "0.0",
         "6.345",
         "13.148",
         "357.692",
         "9.94",
         "0.531"
        ],
        [
         "2006-01-10 00:00:00",
         "49.2427",
         "4.03882",
         "4.81",
         "8.44",
         "6.68",
         "6.201",
         "0.0",
         "4.915",
         "31.834",
         "317.113",
         "16.01",
         "0.726"
        ],
        [
         "2006-01-11 00:00:00",
         "49.2427",
         "4.03882",
         "4.13",
         "5.4",
         "4.68",
         "4.796",
         "0.0",
         "4.885",
         "13.836",
         "330.639",
         "20.19",
         "0.444"
        ],
        [
         "2006-01-12 00:00:00",
         "49.2427",
         "4.03882",
         "-1.15",
         "3.14",
         "1.8",
         "0.0",
         "0.0",
         "3.55",
         "29.466",
         "300.059",
         "5.11",
         "0.224"
        ],
        [
         "2006-01-13 00:00:00",
         "49.2427",
         "4.03882",
         "-2.96",
         "-0.15",
         "-1.13",
         "0.842",
         "0.842",
         "3.389",
         "11.261",
         "309.533",
         "12.65",
         "0.093"
        ],
        [
         "2006-01-14 00:00:00",
         "49.2427",
         "4.03882",
         "-2.12",
         "0.64",
         "-0.7",
         "0.171",
         "0.171",
         "3.373",
         "39.484",
         "294.844",
         "8.21",
         "0.195"
        ],
        [
         "2006-01-15 00:00:00",
         "49.2427",
         "4.03882",
         "-2.98",
         "0.73",
         "-0.6",
         "0.487",
         "0.487",
         "3.488",
         "13.649",
         "312.938",
         "3.44",
         "0.111"
        ],
        [
         "2006-01-16 00:00:00",
         "49.2427",
         "4.03882",
         "-1.74",
         "1.24",
         "-0.15",
         "0.0",
         "0.0",
         "3.447",
         "30.362",
         "318.643",
         "2.77",
         "0.185"
        ],
        [
         "2006-01-17 00:00:00",
         "49.2427",
         "4.03882",
         "-2.99",
         "1.46",
         "-0.14",
         "0.0",
         "0.0",
         "2.978",
         "33.938",
         "296.138",
         "5.46",
         "0.264"
        ],
        [
         "2006-01-18 00:00:00",
         "49.2427",
         "4.03882",
         "-3.42",
         "1.61",
         "-0.66",
         "0.0",
         "0.0",
         "3.27",
         "28.567",
         "293.98",
         "11.02",
         "0.201"
        ],
        [
         "2006-01-19 00:00:00",
         "49.2427",
         "4.03882",
         "1.98",
         "2.58",
         "2.37",
         "0.0",
         "0.0",
         "4.278",
         "21.56",
         "325.78",
         "9.19",
         "0.304"
        ],
        [
         "2006-01-20 00:00:00",
         "49.2427",
         "4.03882",
         "0.91",
         "9.76",
         "4.96",
         "0.1",
         "0.0",
         "3.783",
         "46.029",
         "279.031",
         "9.83",
         "0.75"
        ],
        [
         "2006-01-21 00:00:00",
         "49.2427",
         "4.03882",
         "0.63",
         "10.12",
         "4.84",
         "0.0",
         "0.0",
         "3.902",
         "62.114",
         "274.198",
         "10.39",
         "0.74"
        ],
        [
         "2006-01-22 00:00:00",
         "49.2427",
         "4.03882",
         "0.76",
         "10.93",
         "6.32",
         "0.0",
         "0.0",
         "4.49",
         "62.14",
         "278.556",
         "9.34",
         "0.536"
        ],
        [
         "2006-01-23 00:00:00",
         "49.2427",
         "4.03882",
         "1.91",
         "10.38",
         "7.08",
         "0.0",
         "0.0",
         "4.256",
         "50.648",
         "288.879",
         "10.96",
         "0.766"
        ],
        [
         "2006-01-24 00:00:00",
         "49.2427",
         "4.03882",
         "2.89",
         "11.92",
         "8.48",
         "0.0",
         "0.0",
         "4.751",
         "65.421",
         "279.905",
         "17.33",
         "1.025"
        ],
        [
         "2006-01-25 00:00:00",
         "49.2427",
         "4.03882",
         "6.11",
         "11.56",
         "8.93",
         "0.0",
         "0.0",
         "5.624",
         "42.42",
         "332.738",
         "26.31",
         "1.129"
        ],
        [
         "2006-01-26 00:00:00",
         "49.2427",
         "4.03882",
         "7.12",
         "8.51",
         "7.96",
         "6.807",
         "0.0",
         "6.314",
         "13.727",
         "353.035",
         "15.19",
         "0.37"
        ],
        [
         "2006-01-27 00:00:00",
         "49.2427",
         "4.03882",
         "3.1",
         "7.2",
         "4.44",
         "0.101",
         "0.0",
         "5.091",
         "37.967",
         "318.149",
         "8.88",
         "0.328"
        ],
        [
         "2006-01-28 00:00:00",
         "49.2427",
         "4.03882",
         "1.88",
         "2.73",
         "2.3",
         "2.067",
         "0.0",
         "3.892",
         "16.1",
         "321.981",
         "13.26",
         "0.523"
        ],
        [
         "2006-01-29 00:00:00",
         "49.2427",
         "4.03882",
         "-0.98",
         "3.46",
         "0.67",
         "0.0",
         "0.0",
         "3.767",
         "39.609",
         "305.581",
         "13.01",
         "0.347"
        ],
        [
         "2006-01-30 00:00:00",
         "49.2427",
         "4.03882",
         "-2.71",
         "3.07",
         "0.91",
         "0.0",
         "0.0",
         "3.317",
         "89.62",
         "259.618",
         "7.29",
         "0.337"
        ],
        [
         "2006-01-31 00:00:00",
         "49.2427",
         "4.03882",
         "-2.72",
         "3.46",
         "0.05",
         "0.0",
         "0.0",
         "2.868",
         "96.642",
         "246.316",
         "7.1",
         "0.508"
        ],
        [
         "2006-02-01 00:00:00",
         "49.2427",
         "4.03882",
         "-4.65",
         "1.88",
         "-1.07",
         "0.0",
         "0.0",
         "3.111",
         "73.457",
         "293.572",
         "5.23",
         "0.233"
        ],
        [
         "2006-02-02 00:00:00",
         "49.2427",
         "4.03882",
         "-1.76",
         "1.99",
         "-0.49",
         "0.0",
         "0.0",
         "3.319",
         "39.872",
         "296.872",
         "3.99",
         "0.322"
        ],
        [
         "2006-02-03 00:00:00",
         "49.2427",
         "4.03882",
         "-1.93",
         "5.1",
         "0.99",
         "0.0",
         "0.0",
         "3.443",
         "61.228",
         "288.505",
         "9.21",
         "0.507"
        ],
        [
         "2006-02-04 00:00:00",
         "49.2427",
         "4.03882",
         "0.98",
         "1.79",
         "1.4",
         "0.764",
         "0.145",
         "3.922",
         "18.118",
         "336.023",
         "8.96",
         "0.359"
        ],
        [
         "2006-02-05 00:00:00",
         "49.2427",
         "4.03882",
         "1.43",
         "2.88",
         "2.45",
         "0.0",
         "0.0",
         "3.69",
         "31.588",
         "328.914",
         "6.96",
         "0.511"
        ],
        [
         "2006-02-06 00:00:00",
         "49.2427",
         "4.03882",
         "-1.16",
         "5.1",
         "1.64",
         "0.0",
         "0.0",
         "3.319",
         "52.996",
         "296.143",
         "9.85",
         "0.656"
        ],
        [
         "2006-02-07 00:00:00",
         "49.2427",
         "4.03882",
         "-1.82",
         "5.14",
         "2.07",
         "0.0",
         "0.0",
         "3.169",
         "105.189",
         "253.102",
         "10.91",
         "0.718"
        ],
        [
         "2006-02-08 00:00:00",
         "49.2427",
         "4.03882",
         "-1.23",
         "3.9",
         "1.86",
         "1.921",
         "1.084",
         "3.506",
         "87.893",
         "296.237",
         "8.13",
         "0.485"
        ],
        [
         "2006-02-09 00:00:00",
         "49.2427",
         "4.03882",
         "3.19",
         "5.99",
         "4.86",
         "8.289",
         "0.0",
         "5.184",
         "12.812",
         "347.809",
         "17.0",
         "0.284"
        ],
        [
         "2006-02-10 00:00:00",
         "49.2427",
         "4.03882",
         "0.59",
         "6.34",
         "3.66",
         "0.67",
         "0.0",
         "4.692",
         "54.221",
         "313.878",
         "13.27",
         "0.329"
        ],
        [
         "2006-02-11 00:00:00",
         "49.2427",
         "4.03882",
         "0.09",
         "5.4",
         "2.96",
         "3.103",
         "0.0",
         "4.209",
         "32.042",
         "313.855",
         "18.5",
         "0.481"
        ],
        [
         "2006-02-12 00:00:00",
         "49.2427",
         "4.03882",
         "3.88",
         "8.11",
         "6.12",
         "5.403",
         "0.0",
         "5.759",
         "17.31",
         "357.121",
         "22.1",
         "0.279"
        ],
        [
         "2006-02-13 00:00:00",
         "49.2427",
         "4.03882",
         "4.99",
         "8.05",
         "6.32",
         "7.368",
         "0.0",
         "5.75",
         "32.893",
         "339.878",
         "26.71",
         "0.44"
        ],
        [
         "2006-02-14 00:00:00",
         "49.2427",
         "4.03882",
         "1.82",
         "6.41",
         "3.96",
         "4.234",
         "0.0",
         "4.683",
         "60.782",
         "324.79",
         "16.06",
         "0.502"
        ],
        [
         "2006-02-15 00:00:00",
         "49.2427",
         "4.03882",
         "0.87",
         "4.64",
         "3.51",
         "0.0",
         "0.0",
         "3.786",
         "85.378",
         "301.784",
         "4.6",
         "0.536"
        ],
        [
         "2006-02-16 00:00:00",
         "49.2427",
         "4.03882",
         "-1.24",
         "5.48",
         "2.94",
         "0.0",
         "0.0",
         "3.196",
         "120.94",
         "265.51",
         "6.96",
         "0.724"
        ],
        [
         "2006-02-17 00:00:00",
         "49.2427",
         "4.03882",
         "-2.14",
         "4.1",
         "1.38",
         "0.0",
         "0.0",
         "3.188",
         "121.272",
         "273.471",
         "6.92",
         "0.616"
        ],
        [
         "2006-02-18 00:00:00",
         "49.2427",
         "4.03882",
         "-1.88",
         "3.72",
         "0.68",
         "0.0",
         "0.0",
         "2.725",
         "151.63",
         "242.069",
         "5.88",
         "0.724"
        ],
        [
         "2006-02-19 00:00:00",
         "49.2427",
         "4.03882",
         "-1.87",
         "2.27",
         "-0.36",
         "0.0",
         "0.0",
         "3.287",
         "32.633",
         "319.129",
         "3.56",
         "0.469"
        ]
       ],
       "shape": {
        "columns": 12,
        "rows": 34698
       }
      },
      "text/html": [
       "<div>\n",
       "<style scoped>\n",
       "    .dataframe tbody tr th:only-of-type {\n",
       "        vertical-align: middle;\n",
       "    }\n",
       "\n",
       "    .dataframe tbody tr th {\n",
       "        vertical-align: top;\n",
       "    }\n",
       "\n",
       "    .dataframe thead th {\n",
       "        text-align: right;\n",
       "    }\n",
       "</style>\n",
       "<table border=\"1\" class=\"dataframe\">\n",
       "  <thead>\n",
       "    <tr style=\"text-align: right;\">\n",
       "      <th></th>\n",
       "      <th>Latitude</th>\n",
       "      <th>Longitude</th>\n",
       "      <th>tasminAdjust</th>\n",
       "      <th>tasmaxAdjust</th>\n",
       "      <th>tasAdjust</th>\n",
       "      <th>prtotAdjust</th>\n",
       "      <th>prsnAdjust</th>\n",
       "      <th>hussAdjust</th>\n",
       "      <th>rsdsAdjust</th>\n",
       "      <th>rldsAdjust</th>\n",
       "      <th>sfcWindAdjust</th>\n",
       "      <th>evspsblpotAdjust</th>\n",
       "    </tr>\n",
       "    <tr>\n",
       "      <th>Date</th>\n",
       "      <th></th>\n",
       "      <th></th>\n",
       "      <th></th>\n",
       "      <th></th>\n",
       "      <th></th>\n",
       "      <th></th>\n",
       "      <th></th>\n",
       "      <th></th>\n",
       "      <th></th>\n",
       "      <th></th>\n",
       "      <th></th>\n",
       "      <th></th>\n",
       "    </tr>\n",
       "  </thead>\n",
       "  <tbody>\n",
       "    <tr>\n",
       "      <th>2006-01-01</th>\n",
       "      <td>49.2427</td>\n",
       "      <td>4.03882</td>\n",
       "      <td>-3.15</td>\n",
       "      <td>4.58</td>\n",
       "      <td>-0.05</td>\n",
       "      <td>0.000</td>\n",
       "      <td>0.000</td>\n",
       "      <td>3.506</td>\n",
       "      <td>53.708</td>\n",
       "      <td>264.940</td>\n",
       "      <td>7.87</td>\n",
       "      <td>0.156</td>\n",
       "    </tr>\n",
       "    <tr>\n",
       "      <th>2006-01-02</th>\n",
       "      <td>49.2427</td>\n",
       "      <td>4.03882</td>\n",
       "      <td>0.05</td>\n",
       "      <td>4.04</td>\n",
       "      <td>2.02</td>\n",
       "      <td>8.608</td>\n",
       "      <td>1.052</td>\n",
       "      <td>4.984</td>\n",
       "      <td>9.463</td>\n",
       "      <td>344.383</td>\n",
       "      <td>25.13</td>\n",
       "      <td>0.047</td>\n",
       "    </tr>\n",
       "    <tr>\n",
       "      <th>2006-01-03</th>\n",
       "      <td>49.2427</td>\n",
       "      <td>4.03882</td>\n",
       "      <td>8.56</td>\n",
       "      <td>8.86</td>\n",
       "      <td>8.74</td>\n",
       "      <td>0.677</td>\n",
       "      <td>0.000</td>\n",
       "      <td>8.160</td>\n",
       "      <td>8.174</td>\n",
       "      <td>381.568</td>\n",
       "      <td>30.01</td>\n",
       "      <td>0.176</td>\n",
       "    </tr>\n",
       "    <tr>\n",
       "      <th>2006-01-04</th>\n",
       "      <td>49.2427</td>\n",
       "      <td>4.03882</td>\n",
       "      <td>9.76</td>\n",
       "      <td>12.29</td>\n",
       "      <td>11.42</td>\n",
       "      <td>0.111</td>\n",
       "      <td>0.000</td>\n",
       "      <td>7.996</td>\n",
       "      <td>16.040</td>\n",
       "      <td>357.124</td>\n",
       "      <td>21.37</td>\n",
       "      <td>0.248</td>\n",
       "    </tr>\n",
       "    <tr>\n",
       "      <th>2006-01-05</th>\n",
       "      <td>49.2427</td>\n",
       "      <td>4.03882</td>\n",
       "      <td>7.13</td>\n",
       "      <td>10.79</td>\n",
       "      <td>8.41</td>\n",
       "      <td>0.000</td>\n",
       "      <td>0.000</td>\n",
       "      <td>6.506</td>\n",
       "      <td>13.623</td>\n",
       "      <td>365.049</td>\n",
       "      <td>7.52</td>\n",
       "      <td>0.298</td>\n",
       "    </tr>\n",
       "    <tr>\n",
       "      <th>...</th>\n",
       "      <td>...</td>\n",
       "      <td>...</td>\n",
       "      <td>...</td>\n",
       "      <td>...</td>\n",
       "      <td>...</td>\n",
       "      <td>...</td>\n",
       "      <td>...</td>\n",
       "      <td>...</td>\n",
       "      <td>...</td>\n",
       "      <td>...</td>\n",
       "      <td>...</td>\n",
       "      <td>...</td>\n",
       "    </tr>\n",
       "    <tr>\n",
       "      <th>2100-12-27</th>\n",
       "      <td>49.2427</td>\n",
       "      <td>4.03882</td>\n",
       "      <td>-0.66</td>\n",
       "      <td>6.08</td>\n",
       "      <td>1.58</td>\n",
       "      <td>0.070</td>\n",
       "      <td>0.000</td>\n",
       "      <td>3.103</td>\n",
       "      <td>51.761</td>\n",
       "      <td>285.622</td>\n",
       "      <td>7.58</td>\n",
       "      <td>0.496</td>\n",
       "    </tr>\n",
       "    <tr>\n",
       "      <th>2100-12-28</th>\n",
       "      <td>49.2427</td>\n",
       "      <td>4.03882</td>\n",
       "      <td>1.82</td>\n",
       "      <td>4.38</td>\n",
       "      <td>3.04</td>\n",
       "      <td>0.265</td>\n",
       "      <td>0.000</td>\n",
       "      <td>4.683</td>\n",
       "      <td>21.316</td>\n",
       "      <td>340.201</td>\n",
       "      <td>1.68</td>\n",
       "      <td>0.139</td>\n",
       "    </tr>\n",
       "    <tr>\n",
       "      <th>2100-12-29</th>\n",
       "      <td>49.2427</td>\n",
       "      <td>4.03882</td>\n",
       "      <td>2.17</td>\n",
       "      <td>6.72</td>\n",
       "      <td>5.15</td>\n",
       "      <td>0.463</td>\n",
       "      <td>0.136</td>\n",
       "      <td>4.927</td>\n",
       "      <td>17.369</td>\n",
       "      <td>342.966</td>\n",
       "      <td>8.96</td>\n",
       "      <td>0.158</td>\n",
       "    </tr>\n",
       "    <tr>\n",
       "      <th>2100-12-30</th>\n",
       "      <td>49.2427</td>\n",
       "      <td>4.03882</td>\n",
       "      <td>5.94</td>\n",
       "      <td>8.88</td>\n",
       "      <td>7.38</td>\n",
       "      <td>0.088</td>\n",
       "      <td>0.000</td>\n",
       "      <td>5.873</td>\n",
       "      <td>11.491</td>\n",
       "      <td>356.660</td>\n",
       "      <td>15.39</td>\n",
       "      <td>0.380</td>\n",
       "    </tr>\n",
       "    <tr>\n",
       "      <th>2100-12-31</th>\n",
       "      <td>49.2427</td>\n",
       "      <td>4.03882</td>\n",
       "      <td>6.48</td>\n",
       "      <td>9.47</td>\n",
       "      <td>8.05</td>\n",
       "      <td>4.551</td>\n",
       "      <td>0.000</td>\n",
       "      <td>6.147</td>\n",
       "      <td>11.166</td>\n",
       "      <td>358.290</td>\n",
       "      <td>31.71</td>\n",
       "      <td>0.480</td>\n",
       "    </tr>\n",
       "  </tbody>\n",
       "</table>\n",
       "<p>34698 rows × 12 columns</p>\n",
       "</div>"
      ],
      "text/plain": [
       "            Latitude  Longitude  tasminAdjust  tasmaxAdjust  tasAdjust  \\\n",
       "Date                                                                     \n",
       "2006-01-01   49.2427    4.03882         -3.15          4.58      -0.05   \n",
       "2006-01-02   49.2427    4.03882          0.05          4.04       2.02   \n",
       "2006-01-03   49.2427    4.03882          8.56          8.86       8.74   \n",
       "2006-01-04   49.2427    4.03882          9.76         12.29      11.42   \n",
       "2006-01-05   49.2427    4.03882          7.13         10.79       8.41   \n",
       "...              ...        ...           ...           ...        ...   \n",
       "2100-12-27   49.2427    4.03882         -0.66          6.08       1.58   \n",
       "2100-12-28   49.2427    4.03882          1.82          4.38       3.04   \n",
       "2100-12-29   49.2427    4.03882          2.17          6.72       5.15   \n",
       "2100-12-30   49.2427    4.03882          5.94          8.88       7.38   \n",
       "2100-12-31   49.2427    4.03882          6.48          9.47       8.05   \n",
       "\n",
       "            prtotAdjust  prsnAdjust  hussAdjust  rsdsAdjust  rldsAdjust  \\\n",
       "Date                                                                      \n",
       "2006-01-01        0.000       0.000       3.506      53.708     264.940   \n",
       "2006-01-02        8.608       1.052       4.984       9.463     344.383   \n",
       "2006-01-03        0.677       0.000       8.160       8.174     381.568   \n",
       "2006-01-04        0.111       0.000       7.996      16.040     357.124   \n",
       "2006-01-05        0.000       0.000       6.506      13.623     365.049   \n",
       "...                 ...         ...         ...         ...         ...   \n",
       "2100-12-27        0.070       0.000       3.103      51.761     285.622   \n",
       "2100-12-28        0.265       0.000       4.683      21.316     340.201   \n",
       "2100-12-29        0.463       0.136       4.927      17.369     342.966   \n",
       "2100-12-30        0.088       0.000       5.873      11.491     356.660   \n",
       "2100-12-31        4.551       0.000       6.147      11.166     358.290   \n",
       "\n",
       "            sfcWindAdjust  evspsblpotAdjust  \n",
       "Date                                         \n",
       "2006-01-01           7.87             0.156  \n",
       "2006-01-02          25.13             0.047  \n",
       "2006-01-03          30.01             0.176  \n",
       "2006-01-04          21.37             0.248  \n",
       "2006-01-05           7.52             0.298  \n",
       "...                   ...               ...  \n",
       "2100-12-27           7.58             0.496  \n",
       "2100-12-28           1.68             0.139  \n",
       "2100-12-29           8.96             0.158  \n",
       "2100-12-30          15.39             0.380  \n",
       "2100-12-31          31.71             0.480  \n",
       "\n",
       "[34698 rows x 12 columns]"
      ]
     },
     "metadata": {},
     "output_type": "display_data"
    }
   ],
   "source": [
    "data_rcp_8_5 = load_data_drias('Drias/CNRM-CERFACS-CNRM-CM5_CNRM-ALADIN63_rcp8.5_METEO-FRANCE_ADAMONT-France_SAFRAN_day_2006_2100.xlsx')"
   ]
  },
  {
   "cell_type": "markdown",
   "id": "bc3948e8",
   "metadata": {},
   "source": [
    "##### **Dataset Prunay**\n",
    "🌦️ Description des colonnes - Station météo Reims - Prunay"
   ]
  },
  {
   "cell_type": "code",
   "execution_count": 121,
   "id": "8159be85",
   "metadata": {},
   "outputs": [
    {
     "data": {
      "application/vnd.microsoft.datawrangler.viewer.v0+json": {
       "columns": [
        {
         "name": "index",
         "rawType": "int64",
         "type": "integer"
        },
        {
         "name": "time",
         "rawType": "object",
         "type": "string"
        },
        {
         "name": "latitude",
         "rawType": "float64",
         "type": "float"
        },
        {
         "name": "longitude",
         "rawType": "float64",
         "type": "float"
        },
        {
         "name": "10m-U_wind_ms",
         "rawType": "float64",
         "type": "float"
        },
        {
         "name": "10m-V_wind_ms",
         "rawType": "float64",
         "type": "float"
        },
        {
         "name": "2m_DewPoint_Temperature_K",
         "rawType": "float64",
         "type": "float"
        },
        {
         "name": "2m_Temperature_K",
         "rawType": "float64",
         "type": "float"
        },
        {
         "name": "Surface_Pressure_Pa",
         "rawType": "float64",
         "type": "float"
        },
        {
         "name": "RH",
         "rawType": "float64",
         "type": "float"
        },
        {
         "name": "Wind_Speed",
         "rawType": "float64",
         "type": "float"
        },
        {
         "name": "Wind_Direction_CMEMS",
         "rawType": "float64",
         "type": "float"
        },
        {
         "name": "Wind_Direction_Charbel",
         "rawType": "float64",
         "type": "float"
        },
        {
         "name": "Wind_Direction_Era5",
         "rawType": "float64",
         "type": "float"
        }
       ],
       "ref": "e528f9e1-d5f4-4ecd-87d6-f98d4c36778a",
       "rows": [
        [
         "0",
         "2006-01-01 00:00:00",
         "49.24",
         "4.04",
         "3.134243",
         "3.2440233",
         "275.30566",
         "276.48438",
         "98688.5",
         "98.14250748813592",
         "4.51078334150421",
         "224.01394413981896",
         "225.98605586018104",
         "224.013944139819"
        ],
        [
         "1",
         "2006-01-01 01:00:00",
         "49.24",
         "4.04",
         "3.3094797",
         "3.3414774",
         "275.23462",
         "276.61914",
         "98683.94",
         "97.82201601103807",
         "4.702991292722415",
         "224.7243526018587",
         "225.2756473981413",
         "224.7243526018587"
        ],
        [
         "2",
         "2006-01-01 02:00:00",
         "49.24",
         "4.04",
         "3.143404",
         "3.6049995",
         "275.2295",
         "276.68042",
         "98711.625",
         "97.71900636903098",
         "4.782991752263039",
         "221.08702366595807",
         "228.91297633404196",
         "221.0870236659581"
        ],
        [
         "3",
         "2006-01-01 03:00:00",
         "49.24",
         "4.04",
         "2.8493242",
         "3.93367",
         "274.9829",
         "276.33423",
         "98712.94",
         "97.87149132915113",
         "4.857201670262996",
         "215.9174097933173",
         "234.0825902066827",
         "215.9174097933173"
        ],
        [
         "4",
         "2006-01-01 04:00:00",
         "49.24",
         "4.04",
         "2.6405096",
         "4.301672",
         "275.22095",
         "276.55884",
         "98708.875",
         "97.89429505184646",
         "5.047442217923466",
         "211.54298899956456",
         "238.45701100043544",
         "211.54298899956456"
        ]
       ],
       "shape": {
        "columns": 13,
        "rows": 5
       }
      },
      "text/html": [
       "<div>\n",
       "<style scoped>\n",
       "    .dataframe tbody tr th:only-of-type {\n",
       "        vertical-align: middle;\n",
       "    }\n",
       "\n",
       "    .dataframe tbody tr th {\n",
       "        vertical-align: top;\n",
       "    }\n",
       "\n",
       "    .dataframe thead th {\n",
       "        text-align: right;\n",
       "    }\n",
       "</style>\n",
       "<table border=\"1\" class=\"dataframe\">\n",
       "  <thead>\n",
       "    <tr style=\"text-align: right;\">\n",
       "      <th></th>\n",
       "      <th>time</th>\n",
       "      <th>latitude</th>\n",
       "      <th>longitude</th>\n",
       "      <th>10m-U_wind_ms</th>\n",
       "      <th>10m-V_wind_ms</th>\n",
       "      <th>2m_DewPoint_Temperature_K</th>\n",
       "      <th>2m_Temperature_K</th>\n",
       "      <th>Surface_Pressure_Pa</th>\n",
       "      <th>RH</th>\n",
       "      <th>Wind_Speed</th>\n",
       "      <th>Wind_Direction_CMEMS</th>\n",
       "      <th>Wind_Direction_Charbel</th>\n",
       "      <th>Wind_Direction_Era5</th>\n",
       "    </tr>\n",
       "  </thead>\n",
       "  <tbody>\n",
       "    <tr>\n",
       "      <th>0</th>\n",
       "      <td>2006-01-01 00:00:00</td>\n",
       "      <td>49.24</td>\n",
       "      <td>4.04</td>\n",
       "      <td>3.134243</td>\n",
       "      <td>3.244023</td>\n",
       "      <td>275.30566</td>\n",
       "      <td>276.48438</td>\n",
       "      <td>98688.500</td>\n",
       "      <td>98.142507</td>\n",
       "      <td>4.510783</td>\n",
       "      <td>224.013944</td>\n",
       "      <td>225.986056</td>\n",
       "      <td>224.013944</td>\n",
       "    </tr>\n",
       "    <tr>\n",
       "      <th>1</th>\n",
       "      <td>2006-01-01 01:00:00</td>\n",
       "      <td>49.24</td>\n",
       "      <td>4.04</td>\n",
       "      <td>3.309480</td>\n",
       "      <td>3.341477</td>\n",
       "      <td>275.23462</td>\n",
       "      <td>276.61914</td>\n",
       "      <td>98683.940</td>\n",
       "      <td>97.822016</td>\n",
       "      <td>4.702991</td>\n",
       "      <td>224.724353</td>\n",
       "      <td>225.275647</td>\n",
       "      <td>224.724353</td>\n",
       "    </tr>\n",
       "    <tr>\n",
       "      <th>2</th>\n",
       "      <td>2006-01-01 02:00:00</td>\n",
       "      <td>49.24</td>\n",
       "      <td>4.04</td>\n",
       "      <td>3.143404</td>\n",
       "      <td>3.604999</td>\n",
       "      <td>275.22950</td>\n",
       "      <td>276.68042</td>\n",
       "      <td>98711.625</td>\n",
       "      <td>97.719006</td>\n",
       "      <td>4.782992</td>\n",
       "      <td>221.087024</td>\n",
       "      <td>228.912976</td>\n",
       "      <td>221.087024</td>\n",
       "    </tr>\n",
       "    <tr>\n",
       "      <th>3</th>\n",
       "      <td>2006-01-01 03:00:00</td>\n",
       "      <td>49.24</td>\n",
       "      <td>4.04</td>\n",
       "      <td>2.849324</td>\n",
       "      <td>3.933670</td>\n",
       "      <td>274.98290</td>\n",
       "      <td>276.33423</td>\n",
       "      <td>98712.940</td>\n",
       "      <td>97.871491</td>\n",
       "      <td>4.857202</td>\n",
       "      <td>215.917410</td>\n",
       "      <td>234.082590</td>\n",
       "      <td>215.917410</td>\n",
       "    </tr>\n",
       "    <tr>\n",
       "      <th>4</th>\n",
       "      <td>2006-01-01 04:00:00</td>\n",
       "      <td>49.24</td>\n",
       "      <td>4.04</td>\n",
       "      <td>2.640510</td>\n",
       "      <td>4.301672</td>\n",
       "      <td>275.22095</td>\n",
       "      <td>276.55884</td>\n",
       "      <td>98708.875</td>\n",
       "      <td>97.894295</td>\n",
       "      <td>5.047442</td>\n",
       "      <td>211.542989</td>\n",
       "      <td>238.457011</td>\n",
       "      <td>211.542989</td>\n",
       "    </tr>\n",
       "  </tbody>\n",
       "</table>\n",
       "</div>"
      ],
      "text/plain": [
       "                  time  latitude  longitude  10m-U_wind_ms  10m-V_wind_ms  \\\n",
       "0  2006-01-01 00:00:00     49.24       4.04       3.134243       3.244023   \n",
       "1  2006-01-01 01:00:00     49.24       4.04       3.309480       3.341477   \n",
       "2  2006-01-01 02:00:00     49.24       4.04       3.143404       3.604999   \n",
       "3  2006-01-01 03:00:00     49.24       4.04       2.849324       3.933670   \n",
       "4  2006-01-01 04:00:00     49.24       4.04       2.640510       4.301672   \n",
       "\n",
       "   2m_DewPoint_Temperature_K  2m_Temperature_K  Surface_Pressure_Pa  \\\n",
       "0                  275.30566         276.48438            98688.500   \n",
       "1                  275.23462         276.61914            98683.940   \n",
       "2                  275.22950         276.68042            98711.625   \n",
       "3                  274.98290         276.33423            98712.940   \n",
       "4                  275.22095         276.55884            98708.875   \n",
       "\n",
       "          RH  Wind_Speed  Wind_Direction_CMEMS  Wind_Direction_Charbel  \\\n",
       "0  98.142507    4.510783            224.013944              225.986056   \n",
       "1  97.822016    4.702991            224.724353              225.275647   \n",
       "2  97.719006    4.782992            221.087024              228.912976   \n",
       "3  97.871491    4.857202            215.917410              234.082590   \n",
       "4  97.894295    5.047442            211.542989              238.457011   \n",
       "\n",
       "   Wind_Direction_Era5  \n",
       "0           224.013944  \n",
       "1           224.724353  \n",
       "2           221.087024  \n",
       "3           215.917410  \n",
       "4           211.542989  "
      ]
     },
     "execution_count": 121,
     "metadata": {},
     "output_type": "execute_result"
    }
   ],
   "source": [
    "data_prunay = pd.read_csv('Atmo\\donnees_Celine_LJ.csv')\n",
    "data_prunay.head()"
   ]
  },
  {
   "cell_type": "code",
   "execution_count": 122,
   "id": "d36bb3b3",
   "metadata": {},
   "outputs": [
    {
     "data": {
      "application/vnd.microsoft.datawrangler.viewer.v0+json": {
       "columns": [
        {
         "name": "time",
         "rawType": "datetime64[ns]",
         "type": "datetime"
        },
        {
         "name": "latitude",
         "rawType": "float64",
         "type": "float"
        },
        {
         "name": "longitude",
         "rawType": "float64",
         "type": "float"
        },
        {
         "name": "10m-U_wind_ms",
         "rawType": "float64",
         "type": "float"
        },
        {
         "name": "10m-V_wind_ms",
         "rawType": "float64",
         "type": "float"
        },
        {
         "name": "2m_DewPoint_Temperature_K",
         "rawType": "float64",
         "type": "float"
        },
        {
         "name": "2m_Temperature_K",
         "rawType": "float64",
         "type": "float"
        },
        {
         "name": "Surface_Pressure_Pa",
         "rawType": "float64",
         "type": "float"
        },
        {
         "name": "RH",
         "rawType": "float64",
         "type": "float"
        },
        {
         "name": "Wind_Speed",
         "rawType": "float64",
         "type": "float"
        },
        {
         "name": "Wind_Direction_CMEMS",
         "rawType": "float64",
         "type": "float"
        },
        {
         "name": "Wind_Direction_Charbel",
         "rawType": "float64",
         "type": "float"
        },
        {
         "name": "Wind_Direction_Era5",
         "rawType": "float64",
         "type": "float"
        }
       ],
       "ref": "5e10d278-7d8d-4a4c-b693-1dd6d3ee0208",
       "rows": [
        [
         "2006-01-01 00:00:00",
         "49.24",
         "4.04",
         "3.134243",
         "3.2440233",
         "275.30566",
         "276.48438",
         "98688.5",
         "98.14250748813592",
         "4.51078334150421",
         "224.01394413981896",
         "225.98605586018104",
         "224.013944139819"
        ],
        [
         "2006-01-01 01:00:00",
         "49.24",
         "4.04",
         "3.3094797",
         "3.3414774",
         "275.23462",
         "276.61914",
         "98683.94",
         "97.82201601103807",
         "4.702991292722415",
         "224.7243526018587",
         "225.2756473981413",
         "224.7243526018587"
        ],
        [
         "2006-01-01 02:00:00",
         "49.24",
         "4.04",
         "3.143404",
         "3.6049995",
         "275.2295",
         "276.68042",
         "98711.625",
         "97.71900636903098",
         "4.782991752263039",
         "221.08702366595807",
         "228.91297633404196",
         "221.0870236659581"
        ],
        [
         "2006-01-01 03:00:00",
         "49.24",
         "4.04",
         "2.8493242",
         "3.93367",
         "274.9829",
         "276.33423",
         "98712.94",
         "97.87149132915113",
         "4.857201670262996",
         "215.9174097933173",
         "234.0825902066827",
         "215.9174097933173"
        ],
        [
         "2006-01-01 04:00:00",
         "49.24",
         "4.04",
         "2.6405096",
         "4.301672",
         "275.22095",
         "276.55884",
         "98708.875",
         "97.89429505184646",
         "5.047442217923466",
         "211.54298899956456",
         "238.45701100043544",
         "211.54298899956456"
        ]
       ],
       "shape": {
        "columns": 12,
        "rows": 5
       }
      },
      "text/html": [
       "<div>\n",
       "<style scoped>\n",
       "    .dataframe tbody tr th:only-of-type {\n",
       "        vertical-align: middle;\n",
       "    }\n",
       "\n",
       "    .dataframe tbody tr th {\n",
       "        vertical-align: top;\n",
       "    }\n",
       "\n",
       "    .dataframe thead th {\n",
       "        text-align: right;\n",
       "    }\n",
       "</style>\n",
       "<table border=\"1\" class=\"dataframe\">\n",
       "  <thead>\n",
       "    <tr style=\"text-align: right;\">\n",
       "      <th></th>\n",
       "      <th>latitude</th>\n",
       "      <th>longitude</th>\n",
       "      <th>10m-U_wind_ms</th>\n",
       "      <th>10m-V_wind_ms</th>\n",
       "      <th>2m_DewPoint_Temperature_K</th>\n",
       "      <th>2m_Temperature_K</th>\n",
       "      <th>Surface_Pressure_Pa</th>\n",
       "      <th>RH</th>\n",
       "      <th>Wind_Speed</th>\n",
       "      <th>Wind_Direction_CMEMS</th>\n",
       "      <th>Wind_Direction_Charbel</th>\n",
       "      <th>Wind_Direction_Era5</th>\n",
       "    </tr>\n",
       "    <tr>\n",
       "      <th>time</th>\n",
       "      <th></th>\n",
       "      <th></th>\n",
       "      <th></th>\n",
       "      <th></th>\n",
       "      <th></th>\n",
       "      <th></th>\n",
       "      <th></th>\n",
       "      <th></th>\n",
       "      <th></th>\n",
       "      <th></th>\n",
       "      <th></th>\n",
       "      <th></th>\n",
       "    </tr>\n",
       "  </thead>\n",
       "  <tbody>\n",
       "    <tr>\n",
       "      <th>2006-01-01 00:00:00</th>\n",
       "      <td>49.24</td>\n",
       "      <td>4.04</td>\n",
       "      <td>3.134243</td>\n",
       "      <td>3.244023</td>\n",
       "      <td>275.30566</td>\n",
       "      <td>276.48438</td>\n",
       "      <td>98688.500</td>\n",
       "      <td>98.142507</td>\n",
       "      <td>4.510783</td>\n",
       "      <td>224.013944</td>\n",
       "      <td>225.986056</td>\n",
       "      <td>224.013944</td>\n",
       "    </tr>\n",
       "    <tr>\n",
       "      <th>2006-01-01 01:00:00</th>\n",
       "      <td>49.24</td>\n",
       "      <td>4.04</td>\n",
       "      <td>3.309480</td>\n",
       "      <td>3.341477</td>\n",
       "      <td>275.23462</td>\n",
       "      <td>276.61914</td>\n",
       "      <td>98683.940</td>\n",
       "      <td>97.822016</td>\n",
       "      <td>4.702991</td>\n",
       "      <td>224.724353</td>\n",
       "      <td>225.275647</td>\n",
       "      <td>224.724353</td>\n",
       "    </tr>\n",
       "    <tr>\n",
       "      <th>2006-01-01 02:00:00</th>\n",
       "      <td>49.24</td>\n",
       "      <td>4.04</td>\n",
       "      <td>3.143404</td>\n",
       "      <td>3.604999</td>\n",
       "      <td>275.22950</td>\n",
       "      <td>276.68042</td>\n",
       "      <td>98711.625</td>\n",
       "      <td>97.719006</td>\n",
       "      <td>4.782992</td>\n",
       "      <td>221.087024</td>\n",
       "      <td>228.912976</td>\n",
       "      <td>221.087024</td>\n",
       "    </tr>\n",
       "    <tr>\n",
       "      <th>2006-01-01 03:00:00</th>\n",
       "      <td>49.24</td>\n",
       "      <td>4.04</td>\n",
       "      <td>2.849324</td>\n",
       "      <td>3.933670</td>\n",
       "      <td>274.98290</td>\n",
       "      <td>276.33423</td>\n",
       "      <td>98712.940</td>\n",
       "      <td>97.871491</td>\n",
       "      <td>4.857202</td>\n",
       "      <td>215.917410</td>\n",
       "      <td>234.082590</td>\n",
       "      <td>215.917410</td>\n",
       "    </tr>\n",
       "    <tr>\n",
       "      <th>2006-01-01 04:00:00</th>\n",
       "      <td>49.24</td>\n",
       "      <td>4.04</td>\n",
       "      <td>2.640510</td>\n",
       "      <td>4.301672</td>\n",
       "      <td>275.22095</td>\n",
       "      <td>276.55884</td>\n",
       "      <td>98708.875</td>\n",
       "      <td>97.894295</td>\n",
       "      <td>5.047442</td>\n",
       "      <td>211.542989</td>\n",
       "      <td>238.457011</td>\n",
       "      <td>211.542989</td>\n",
       "    </tr>\n",
       "  </tbody>\n",
       "</table>\n",
       "</div>"
      ],
      "text/plain": [
       "                     latitude  longitude  10m-U_wind_ms  10m-V_wind_ms  \\\n",
       "time                                                                     \n",
       "2006-01-01 00:00:00     49.24       4.04       3.134243       3.244023   \n",
       "2006-01-01 01:00:00     49.24       4.04       3.309480       3.341477   \n",
       "2006-01-01 02:00:00     49.24       4.04       3.143404       3.604999   \n",
       "2006-01-01 03:00:00     49.24       4.04       2.849324       3.933670   \n",
       "2006-01-01 04:00:00     49.24       4.04       2.640510       4.301672   \n",
       "\n",
       "                     2m_DewPoint_Temperature_K  2m_Temperature_K  \\\n",
       "time                                                               \n",
       "2006-01-01 00:00:00                  275.30566         276.48438   \n",
       "2006-01-01 01:00:00                  275.23462         276.61914   \n",
       "2006-01-01 02:00:00                  275.22950         276.68042   \n",
       "2006-01-01 03:00:00                  274.98290         276.33423   \n",
       "2006-01-01 04:00:00                  275.22095         276.55884   \n",
       "\n",
       "                     Surface_Pressure_Pa         RH  Wind_Speed  \\\n",
       "time                                                              \n",
       "2006-01-01 00:00:00            98688.500  98.142507    4.510783   \n",
       "2006-01-01 01:00:00            98683.940  97.822016    4.702991   \n",
       "2006-01-01 02:00:00            98711.625  97.719006    4.782992   \n",
       "2006-01-01 03:00:00            98712.940  97.871491    4.857202   \n",
       "2006-01-01 04:00:00            98708.875  97.894295    5.047442   \n",
       "\n",
       "                     Wind_Direction_CMEMS  Wind_Direction_Charbel  \\\n",
       "time                                                                \n",
       "2006-01-01 00:00:00            224.013944              225.986056   \n",
       "2006-01-01 01:00:00            224.724353              225.275647   \n",
       "2006-01-01 02:00:00            221.087024              228.912976   \n",
       "2006-01-01 03:00:00            215.917410              234.082590   \n",
       "2006-01-01 04:00:00            211.542989              238.457011   \n",
       "\n",
       "                     Wind_Direction_Era5  \n",
       "time                                      \n",
       "2006-01-01 00:00:00           224.013944  \n",
       "2006-01-01 01:00:00           224.724353  \n",
       "2006-01-01 02:00:00           221.087024  \n",
       "2006-01-01 03:00:00           215.917410  \n",
       "2006-01-01 04:00:00           211.542989  "
      ]
     },
     "execution_count": 122,
     "metadata": {},
     "output_type": "execute_result"
    }
   ],
   "source": [
    "data_prunay['time'] = pd.to_datetime(data_prunay['time'], format='%Y-%m-%d %H:%M:%S')\n",
    "data_prunay.set_index('time', inplace=True)\n",
    "data_prunay.head()"
   ]
  },
  {
   "cell_type": "code",
   "execution_count": 123,
   "id": "ed44782b",
   "metadata": {},
   "outputs": [],
   "source": [
    "# récupérer les index communs data rcp2.6\n",
    "common_index_data_rcp_2_6 = data_rcp_2_6.index.intersection(data_prunay.index)\n",
    "data_rcp_2_6_ = data_rcp_2_6.loc[common_index_data_rcp_2_6]"
   ]
  },
  {
   "cell_type": "code",
   "execution_count": 124,
   "id": "66029edd",
   "metadata": {},
   "outputs": [],
   "source": [
    "# récupérer les index communs data rcp4.5\n",
    "common_index_data_rcp_4_5 = data_rcp_4_5.index.intersection(data_prunay.index)\n",
    "data_rcp_4_5_ = data_rcp_4_5.loc[common_index_data_rcp_4_5]"
   ]
  },
  {
   "cell_type": "code",
   "execution_count": 125,
   "id": "56a909d8",
   "metadata": {},
   "outputs": [],
   "source": [
    "# récupérer les index communs data rcp8.5\n",
    "common_index_data_rcp_8_5 = data_rcp_8_5.index.intersection(data_prunay.index)\n",
    "data_rcp_8_5_ = data_rcp_8_5.loc[common_index_data_rcp_8_5]"
   ]
  },
  {
   "cell_type": "code",
   "execution_count": 126,
   "id": "5693062c",
   "metadata": {},
   "outputs": [],
   "source": [
    "data_prunay.drop(['latitude', 'longitude'], axis=1, inplace=True)"
   ]
  },
  {
   "cell_type": "code",
   "execution_count": 127,
   "id": "e4f4fce7",
   "metadata": {},
   "outputs": [],
   "source": [
    "data_prunay = data_prunay[[\"2m_Temperature_K\", \"RH\"]].copy()"
   ]
  },
  {
   "cell_type": "code",
   "execution_count": 128,
   "id": "ec74b354",
   "metadata": {},
   "outputs": [],
   "source": [
    "data_prunay.rename(columns={\"RH\": \"prunay_RH\"}, inplace=True)"
   ]
  },
  {
   "cell_type": "code",
   "execution_count": 129,
   "id": "9ae82f4f",
   "metadata": {},
   "outputs": [],
   "source": [
    "data_prunay['2m_Temperature_C'] = data_prunay['2m_Temperature_K'] - 273.15\n",
    "data_prunay.drop(['2m_Temperature_K'], axis=1, inplace=True)"
   ]
  },
  {
   "cell_type": "code",
   "execution_count": 130,
   "id": "df8f1d2a",
   "metadata": {},
   "outputs": [],
   "source": [
    "data_prunay = data_prunay[~data_prunay.index.duplicated(keep='first')]"
   ]
  },
  {
   "cell_type": "code",
   "execution_count": 131,
   "id": "1b1b611d",
   "metadata": {},
   "outputs": [],
   "source": [
    "data_prunay.rename(columns={\"2m_Temperature_C\": \"prunay_Temperature\"}, inplace=True)"
   ]
  },
  {
   "cell_type": "code",
   "execution_count": 132,
   "id": "a2abbe43",
   "metadata": {},
   "outputs": [],
   "source": [
    "data_prunay_hourly_predict = data_prunay.copy()"
   ]
  },
  {
   "cell_type": "code",
   "execution_count": 133,
   "id": "a71907f9",
   "metadata": {},
   "outputs": [],
   "source": [
    "RH = convertir_q_en_rh(data_rcp_2_6[\"hussAdjust\"], data_rcp_2_6[\"tasAdjust\"])\n",
    "data_rcp_2_6[\"rcp_RH\"] = RH"
   ]
  },
  {
   "cell_type": "code",
   "execution_count": 134,
   "id": "62894095",
   "metadata": {},
   "outputs": [],
   "source": [
    "data_rcp_2_6 = data_rcp_2_6[[\"rcp_RH\", \"tasAdjust\"]].copy()"
   ]
  },
  {
   "cell_type": "code",
   "execution_count": 135,
   "id": "9f3e1ae4",
   "metadata": {},
   "outputs": [],
   "source": [
    "data_rcp_2_6.rename(columns={\"tasAdjust\": \"rcp_Temperature\"}, inplace=True)"
   ]
  },
  {
   "cell_type": "code",
   "execution_count": 136,
   "id": "7758b82a",
   "metadata": {},
   "outputs": [],
   "source": [
    "#\n",
    "data_rcp_2_6['date'] = data_rcp_2_6.index.date\n",
    "\n",
    "data_prunay['date'] = data_prunay.index.date\n",
    "\n",
    "# 3. Fusionner les deux dataframes sur la date (Jointure externe droite)\n",
    "data_rcp_2_6_prunay = pd.merge(data_rcp_2_6, data_prunay, on='date', how='left')\n",
    "\n",
    "data_rcp_2_6_prunay = data_rcp_2_6_prunay.loc[pd.notnull(data_rcp_2_6_prunay[\"prunay_Temperature\"]), :]\n",
    "\n",
    "data_rcp_2_6_prunay.index = data_prunay.index"
   ]
  },
  {
   "cell_type": "code",
   "execution_count": 137,
   "id": "c4ccd704",
   "metadata": {},
   "outputs": [],
   "source": [
    "data_rcp_2_6_prunay.drop(['date', 'prunay_RH'], axis=1, inplace=True)"
   ]
  },
  {
   "cell_type": "code",
   "execution_count": 138,
   "id": "2e635f4e",
   "metadata": {},
   "outputs": [
    {
     "data": {
      "application/vnd.microsoft.datawrangler.viewer.v0+json": {
       "columns": [
        {
         "name": "time",
         "rawType": "datetime64[ns]",
         "type": "datetime"
        },
        {
         "name": "rcp_RH",
         "rawType": "float64",
         "type": "float"
        },
        {
         "name": "rcp_Temperature",
         "rawType": "float64",
         "type": "float"
        },
        {
         "name": "prunay_Temperature",
         "rawType": "float64",
         "type": "float"
        }
       ],
       "ref": "5c5dd109-31d5-4641-82de-c7a186d8b4fa",
       "rows": [
        [
         "2006-01-01 00:00:00",
         "93.57038422290498",
         "-0.04",
         "3.33438000000001"
        ],
        [
         "2006-01-01 01:00:00",
         "93.57038422290498",
         "-0.04",
         "3.4691400000000385"
        ],
        [
         "2006-01-01 02:00:00",
         "93.57038422290498",
         "-0.04",
         "3.530420000000049"
        ],
        [
         "2006-01-01 03:00:00",
         "93.57038422290498",
         "-0.04",
         "3.1842300000000137"
        ],
        [
         "2006-01-01 04:00:00",
         "93.57038422290498",
         "-0.04",
         "3.408839999999998"
        ],
        [
         "2006-01-01 05:00:00",
         "93.57038422290498",
         "-0.04",
         "3.4793999999999983"
        ],
        [
         "2006-01-01 06:00:00",
         "93.57038422290498",
         "-0.04",
         "3.3590300000000184"
        ],
        [
         "2006-01-01 07:00:00",
         "93.57038422290498",
         "-0.04",
         "3.468400000000031"
        ],
        [
         "2006-01-01 08:00:00",
         "93.57038422290498",
         "-0.04",
         "3.8915000000000077"
        ],
        [
         "2006-01-01 09:00:00",
         "93.57038422290498",
         "-0.04",
         "4.685200000000009"
        ],
        [
         "2006-01-01 10:00:00",
         "93.57038422290498",
         "-0.04",
         "3.351220000000012"
        ],
        [
         "2006-01-01 11:00:00",
         "93.57038422290498",
         "-0.04",
         "3.4618200000000456"
        ],
        [
         "2006-01-01 12:00:00",
         "93.57038422290498",
         "-0.04",
         "3.9957500000000437"
        ],
        [
         "2006-01-01 13:00:00",
         "93.57038422290498",
         "-0.04",
         "5.011130000000037"
        ],
        [
         "2006-01-01 14:00:00",
         "93.57038422290498",
         "-0.04",
         "5.475240000000042"
        ],
        [
         "2006-01-01 15:00:00",
         "93.57038422290498",
         "-0.04",
         "5.660799999999995"
        ],
        [
         "2006-01-01 16:00:00",
         "93.57038422290498",
         "-0.04",
         "5.55776000000003"
        ],
        [
         "2006-01-01 17:00:00",
         "93.57038422290498",
         "-0.04",
         "5.669340000000034"
        ],
        [
         "2006-01-01 18:00:00",
         "93.57038422290498",
         "-0.04",
         "5.595850000000041"
        ],
        [
         "2006-01-01 19:00:00",
         "93.57038422290498",
         "-0.04",
         "5.367330000000038"
        ],
        [
         "2006-01-01 20:00:00",
         "93.57038422290498",
         "-0.04",
         "4.85635000000002"
        ],
        [
         "2006-01-01 21:00:00",
         "93.57038422290498",
         "-0.04",
         "4.185200000000009"
        ],
        [
         "2006-01-01 22:00:00",
         "93.57038422290498",
         "-0.04",
         "3.497220000000027"
        ],
        [
         "2006-01-01 23:00:00",
         "93.57038422290498",
         "-0.04",
         "3.447900000000004"
        ],
        [
         "2006-01-02 00:00:00",
         "100.0",
         "2.12",
         "3.5174800000000346"
        ],
        [
         "2006-01-02 01:00:00",
         "100.0",
         "2.12",
         "3.6612800000000334"
        ],
        [
         "2006-01-02 02:00:00",
         "100.0",
         "2.12",
         "3.7963000000000306"
        ],
        [
         "2006-01-02 03:00:00",
         "100.0",
         "2.12",
         "3.89688000000001"
        ],
        [
         "2006-01-02 04:00:00",
         "100.0",
         "2.12",
         "3.7945799999999963"
        ],
        [
         "2006-01-02 05:00:00",
         "100.0",
         "2.12",
         "3.605600000000038"
        ],
        [
         "2006-01-02 06:00:00",
         "100.0",
         "2.12",
         "3.4813500000000204"
        ],
        [
         "2006-01-02 07:00:00",
         "100.0",
         "2.12",
         "3.593650000000025"
        ],
        [
         "2006-01-02 08:00:00",
         "100.0",
         "2.12",
         "3.3253400000000397"
        ],
        [
         "2006-01-02 09:00:00",
         "100.0",
         "2.12",
         "3.3307000000000357"
        ],
        [
         "2006-01-02 10:00:00",
         "100.0",
         "2.12",
         "4.208640000000003"
        ],
        [
         "2006-01-02 11:00:00",
         "100.0",
         "2.12",
         "4.650300000000016"
        ],
        [
         "2006-01-02 12:00:00",
         "100.0",
         "2.12",
         "4.994040000000041"
        ],
        [
         "2006-01-02 13:00:00",
         "100.0",
         "2.12",
         "5.405900000000031"
        ],
        [
         "2006-01-02 14:00:00",
         "100.0",
         "2.12",
         "5.194000000000017"
        ],
        [
         "2006-01-02 15:00:00",
         "100.0",
         "2.12",
         "5.062900000000013"
        ],
        [
         "2006-01-02 16:00:00",
         "100.0",
         "2.12",
         "4.164200000000051"
        ],
        [
         "2006-01-02 17:00:00",
         "100.0",
         "2.12",
         "3.8566000000000145"
        ],
        [
         "2006-01-02 18:00:00",
         "100.0",
         "2.12",
         "3.4332500000000437"
        ],
        [
         "2006-01-02 19:00:00",
         "100.0",
         "2.12",
         "2.9639999999999986"
        ],
        [
         "2006-01-02 20:00:00",
         "100.0",
         "2.12",
         "2.67715000000004"
        ],
        [
         "2006-01-02 21:00:00",
         "100.0",
         "2.12",
         "2.4796400000000176"
        ],
        [
         "2006-01-02 22:00:00",
         "100.0",
         "2.12",
         "3.673969999999997"
        ],
        [
         "2006-01-02 23:00:00",
         "100.0",
         "2.12",
         "3.5438500000000204"
        ],
        [
         "2006-01-03 00:00:00",
         "100.0",
         "8.96",
         "3.7616200000000504"
        ],
        [
         "2006-01-03 01:00:00",
         "100.0",
         "8.96",
         "3.631740000000036"
        ]
       ],
       "shape": {
        "columns": 3,
        "rows": 170457
       }
      },
      "text/html": [
       "<div>\n",
       "<style scoped>\n",
       "    .dataframe tbody tr th:only-of-type {\n",
       "        vertical-align: middle;\n",
       "    }\n",
       "\n",
       "    .dataframe tbody tr th {\n",
       "        vertical-align: top;\n",
       "    }\n",
       "\n",
       "    .dataframe thead th {\n",
       "        text-align: right;\n",
       "    }\n",
       "</style>\n",
       "<table border=\"1\" class=\"dataframe\">\n",
       "  <thead>\n",
       "    <tr style=\"text-align: right;\">\n",
       "      <th></th>\n",
       "      <th>rcp_RH</th>\n",
       "      <th>rcp_Temperature</th>\n",
       "      <th>prunay_Temperature</th>\n",
       "    </tr>\n",
       "    <tr>\n",
       "      <th>time</th>\n",
       "      <th></th>\n",
       "      <th></th>\n",
       "      <th></th>\n",
       "    </tr>\n",
       "  </thead>\n",
       "  <tbody>\n",
       "    <tr>\n",
       "      <th>2006-01-01 00:00:00</th>\n",
       "      <td>93.570384</td>\n",
       "      <td>-0.04</td>\n",
       "      <td>3.33438</td>\n",
       "    </tr>\n",
       "    <tr>\n",
       "      <th>2006-01-01 01:00:00</th>\n",
       "      <td>93.570384</td>\n",
       "      <td>-0.04</td>\n",
       "      <td>3.46914</td>\n",
       "    </tr>\n",
       "    <tr>\n",
       "      <th>2006-01-01 02:00:00</th>\n",
       "      <td>93.570384</td>\n",
       "      <td>-0.04</td>\n",
       "      <td>3.53042</td>\n",
       "    </tr>\n",
       "    <tr>\n",
       "      <th>2006-01-01 03:00:00</th>\n",
       "      <td>93.570384</td>\n",
       "      <td>-0.04</td>\n",
       "      <td>3.18423</td>\n",
       "    </tr>\n",
       "    <tr>\n",
       "      <th>2006-01-01 04:00:00</th>\n",
       "      <td>93.570384</td>\n",
       "      <td>-0.04</td>\n",
       "      <td>3.40884</td>\n",
       "    </tr>\n",
       "    <tr>\n",
       "      <th>...</th>\n",
       "      <td>...</td>\n",
       "      <td>...</td>\n",
       "      <td>...</td>\n",
       "    </tr>\n",
       "    <tr>\n",
       "      <th>2025-06-12 04:00:00</th>\n",
       "      <td>73.852952</td>\n",
       "      <td>18.18</td>\n",
       "      <td>12.86025</td>\n",
       "    </tr>\n",
       "    <tr>\n",
       "      <th>2025-06-12 05:00:00</th>\n",
       "      <td>73.852952</td>\n",
       "      <td>18.18</td>\n",
       "      <td>14.57950</td>\n",
       "    </tr>\n",
       "    <tr>\n",
       "      <th>2025-06-12 06:00:00</th>\n",
       "      <td>73.852952</td>\n",
       "      <td>18.18</td>\n",
       "      <td>17.18080</td>\n",
       "    </tr>\n",
       "    <tr>\n",
       "      <th>2025-06-12 07:00:00</th>\n",
       "      <td>73.852952</td>\n",
       "      <td>18.18</td>\n",
       "      <td>19.25723</td>\n",
       "    </tr>\n",
       "    <tr>\n",
       "      <th>2025-06-12 08:00:00</th>\n",
       "      <td>73.852952</td>\n",
       "      <td>18.18</td>\n",
       "      <td>21.52896</td>\n",
       "    </tr>\n",
       "  </tbody>\n",
       "</table>\n",
       "<p>170457 rows × 3 columns</p>\n",
       "</div>"
      ],
      "text/plain": [
       "                        rcp_RH  rcp_Temperature  prunay_Temperature\n",
       "time                                                               \n",
       "2006-01-01 00:00:00  93.570384            -0.04             3.33438\n",
       "2006-01-01 01:00:00  93.570384            -0.04             3.46914\n",
       "2006-01-01 02:00:00  93.570384            -0.04             3.53042\n",
       "2006-01-01 03:00:00  93.570384            -0.04             3.18423\n",
       "2006-01-01 04:00:00  93.570384            -0.04             3.40884\n",
       "...                        ...              ...                 ...\n",
       "2025-06-12 04:00:00  73.852952            18.18            12.86025\n",
       "2025-06-12 05:00:00  73.852952            18.18            14.57950\n",
       "2025-06-12 06:00:00  73.852952            18.18            17.18080\n",
       "2025-06-12 07:00:00  73.852952            18.18            19.25723\n",
       "2025-06-12 08:00:00  73.852952            18.18            21.52896\n",
       "\n",
       "[170457 rows x 3 columns]"
      ]
     },
     "execution_count": 138,
     "metadata": {},
     "output_type": "execute_result"
    }
   ],
   "source": [
    "data_rcp_2_6_prunay"
   ]
  },
  {
   "cell_type": "code",
   "execution_count": 139,
   "id": "e84be86b",
   "metadata": {},
   "outputs": [
    {
     "name": "stdout",
     "output_type": "stream",
     "text": [
      "Train size : 119319\n",
      "Val size : 34092\n",
      "Test size : 17046\n"
     ]
    }
   ],
   "source": [
    "dl_train_data_rcp_2_6_prunay, dl_val_data_rcp_2_6_prunay, dl_test_data_rcp_2_6_prunay = split_dataframe(data_rcp_2_6_prunay)"
   ]
  },
  {
   "cell_type": "code",
   "execution_count": 140,
   "id": "173ea3bb",
   "metadata": {},
   "outputs": [],
   "source": [
    "minmax_scaler_data_rcp_2_6_prunay_rcp_RH = MinMaxScaler()  # scaler for rcp_RH\n",
    "minmax_scaler_data_rcp_2_6_prunay_rcp_Temperature = MinMaxScaler()  # scaler for rcp_Temperature\n",
    "target_transformer_data_rcp_2_6_prunay = MinMaxScaler()   # scaler for target prunay_Temperature"
   ]
  },
  {
   "cell_type": "code",
   "execution_count": 141,
   "id": "31c87db6",
   "metadata": {},
   "outputs": [],
   "source": [
    "dl_train_data_rcp_2_6_prunay['prunay_Temperature'] = target_transformer_data_rcp_2_6_prunay.fit_transform(dl_train_data_rcp_2_6_prunay[['prunay_Temperature']]) # target\n",
    "dl_train_data_rcp_2_6_prunay['rcp_RH'] = minmax_scaler_data_rcp_2_6_prunay_rcp_RH.fit_transform(dl_train_data_rcp_2_6_prunay[['rcp_RH']]) # minmax for humidity\n",
    "dl_train_data_rcp_2_6_prunay['rcp_Temperature'] = minmax_scaler_data_rcp_2_6_prunay_rcp_Temperature.fit_transform(dl_train_data_rcp_2_6_prunay[['rcp_Temperature']]) # minmax for Temperature\n",
    "\n",
    "dl_val_data_rcp_2_6_prunay['prunay_Temperature'] = target_transformer_data_rcp_2_6_prunay.transform(dl_val_data_rcp_2_6_prunay[['prunay_Temperature']]) # target\n",
    "dl_val_data_rcp_2_6_prunay['rcp_RH'] = minmax_scaler_data_rcp_2_6_prunay_rcp_RH.transform(dl_val_data_rcp_2_6_prunay[['rcp_RH']]) # minmax for humidity\n",
    "dl_val_data_rcp_2_6_prunay['rcp_Temperature'] = minmax_scaler_data_rcp_2_6_prunay_rcp_Temperature.transform(dl_val_data_rcp_2_6_prunay[['rcp_Temperature']]) # minmax for Temperature\n",
    "\n",
    "dl_test_data_rcp_2_6_prunay['prunay_Temperature'] = target_transformer_data_rcp_2_6_prunay.transform(dl_test_data_rcp_2_6_prunay[['prunay_Temperature']]) # target\n",
    "dl_test_data_rcp_2_6_prunay['rcp_RH'] = minmax_scaler_data_rcp_2_6_prunay_rcp_RH.transform(dl_test_data_rcp_2_6_prunay[['rcp_RH']]) # minmax for humidity\n",
    "dl_test_data_rcp_2_6_prunay['rcp_Temperature'] = minmax_scaler_data_rcp_2_6_prunay_rcp_Temperature.transform(dl_test_data_rcp_2_6_prunay[['rcp_Temperature']]) # minmax for Temperature"
   ]
  },
  {
   "cell_type": "code",
   "execution_count": 142,
   "id": "3dc6b3b8",
   "metadata": {},
   "outputs": [],
   "source": [
    "# Create sequences\n",
    "sequence_length = 7 # Example sequence length (adjust based on your data and experimentation)\n",
    "X_data_rcp_2_6_prunay_train, y_data_rcp_2_6_prunay_train = create_dataset(dl_train_data_rcp_2_6_prunay[['rcp_RH', 'rcp_Temperature']], dl_train_data_rcp_2_6_prunay['prunay_Temperature'], sequence_length)\n",
    "X_data_rcp_2_6_prunay_val, y_data_rcp_2_6_prunay_val = create_dataset(dl_val_data_rcp_2_6_prunay[['rcp_RH', 'rcp_Temperature']], dl_val_data_rcp_2_6_prunay['prunay_Temperature'], sequence_length)\n",
    "X_data_rcp_2_6_prunay_test, y_data_rcp_2_6_prunay_test = create_dataset(dl_test_data_rcp_2_6_prunay[['rcp_RH', 'rcp_Temperature']], dl_test_data_rcp_2_6_prunay['prunay_Temperature'], sequence_length)"
   ]
  },
  {
   "cell_type": "code",
   "execution_count": 143,
   "id": "d204f7e3",
   "metadata": {},
   "outputs": [
    {
     "name": "stdout",
     "output_type": "stream",
     "text": [
      "Epoch 1/5\n",
      "7457/7457 [==============================] - 30s 4ms/step - loss: 0.0099 - val_loss: 0.0093\n",
      "Epoch 2/5\n",
      "7457/7457 [==============================] - 33s 4ms/step - loss: 0.0093 - val_loss: 0.0104\n",
      "Epoch 3/5\n",
      "7457/7457 [==============================] - 23s 3ms/step - loss: 0.0092 - val_loss: 0.0090\n",
      "Epoch 4/5\n",
      "7457/7457 [==============================] - 23s 3ms/step - loss: 0.0090 - val_loss: 0.0092\n",
      "Epoch 5/5\n",
      "7457/7457 [==============================] - 23s 3ms/step - loss: 0.0089 - val_loss: 0.0089\n"
     ]
    },
    {
     "data": {
      "text/plain": [
       "'Validation Loss: 0.008880841545760632'"
      ]
     },
     "metadata": {},
     "output_type": "display_data"
    }
   ],
   "source": [
    "model_data_rcp_2_6_prunay, history_data_rcp_2_6_prunay, val_loss_data_rcp_2_6_prunay = build_and_train_bilstm(X_data_rcp_2_6_prunay_train, y_data_rcp_2_6_prunay_train, X_data_rcp_2_6_prunay_val, y_data_rcp_2_6_prunay_val, sequence_length , units=100, epochs=5, batch_size=16)"
   ]
  },
  {
   "cell_type": "code",
   "execution_count": 144,
   "id": "d4287a2f",
   "metadata": {},
   "outputs": [
    {
     "name": "stdout",
     "output_type": "stream",
     "text": [
      "Model: \"sequential_1\"\n",
      "_________________________________________________________________\n",
      " Layer (type)                Output Shape              Param #   \n",
      "=================================================================\n",
      " bidirectional_1 (Bidirecti  (None, 200)               82400     \n",
      " onal)                                                           \n",
      "                                                                 \n",
      " dense_1 (Dense)             (None, 1)                 201       \n",
      "                                                                 \n",
      "=================================================================\n",
      "Total params: 82601 (322.66 KB)\n",
      "Trainable params: 82601 (322.66 KB)\n",
      "Non-trainable params: 0 (0.00 Byte)\n",
      "_________________________________________________________________\n"
     ]
    }
   ],
   "source": [
    "model_data_rcp_2_6_prunay.summary()"
   ]
  },
  {
   "cell_type": "code",
   "execution_count": 145,
   "id": "1d04d704",
   "metadata": {},
   "outputs": [
    {
     "data": {
      "image/png": "[encoded data removed]",
      "text/plain": [
       "<Figure size 640x480 with 1 Axes>"
      ]
     },
     "metadata": {},
     "output_type": "display_data"
    }
   ],
   "source": [
    "# Get training and validation losses from history\n",
    "training_loss = history_data_rcp_2_6_prunay.history['loss']\n",
    "validation_loss = history_data_rcp_2_6_prunay.history['val_loss']\n",
    "\n",
    "# Plot loss values over epochs\n",
    "plt.plot(training_loss, label='Training Loss')\n",
    "plt.plot(validation_loss, label='Validation Loss')\n",
    "plt.xlabel('Epoch')\n",
    "plt.ylabel('Loss (MSE)')\n",
    "plt.title('Training and Validation Loss')\n",
    "plt.legend()\n",
    "plt.show()"
   ]
  },
  {
   "cell_type": "code",
   "execution_count": 146,
   "id": "c923820d",
   "metadata": {},
   "outputs": [
    {
     "name": "stdout",
     "output_type": "stream",
     "text": [
      "533/533 [==============================] - 1s 2ms/step\n"
     ]
    }
   ],
   "source": [
    "# Make predictions data test\n",
    "y_pred_inv_test, y_val_inv_test = predict_and_inverse_transform(model_data_rcp_2_6_prunay, X_data_rcp_2_6_prunay_test, y_data_rcp_2_6_prunay_test, target_transformer_data_rcp_2_6_prunay)"
   ]
  },
  {
   "cell_type": "code",
   "execution_count": 147,
   "id": "1b4bb9db",
   "metadata": {},
   "outputs": [
    {
     "name": "stdout",
     "output_type": "stream",
     "text": [
      "MAE: 4.1532\n",
      "RMSE: 5.2379\n",
      "R2 Score: 0.4554\n"
     ]
    },
    {
     "data": {
      "text/plain": [
       "{'MAE': 4.153172239371904,\n",
       " 'RMSE': 5.237948682845888,\n",
       " 'R2 Score': 0.45541822163660883}"
      ]
     },
     "execution_count": 147,
     "metadata": {},
     "output_type": "execute_result"
    }
   ],
   "source": [
    "# Eavluate Model data train \n",
    "evaluate_model(y_val_inv_test, y_pred_inv_test)"
   ]
  },
  {
   "cell_type": "code",
   "execution_count": 148,
   "id": "c8a5981b",
   "metadata": {},
   "outputs": [
    {
     "data": {
      "image/png": "[encoded data removed]",
      "text/plain": [
       "<Figure size 1400x700 with 1 Axes>"
      ]
     },
     "metadata": {},
     "output_type": "display_data"
    }
   ],
   "source": [
    "# Calcul des bornes d'index pour la partie test\n",
    "start_test = len(y_data_rcp_2_6_prunay_train) + len(y_data_rcp_2_6_prunay_val) + sequence_length\n",
    "end_test = start_test + len(y_data_rcp_2_6_prunay_test)\n",
    "\n",
    "# Tracé\n",
    "plt.figure(figsize=(14, 7))\n",
    "plt.plot(data_rcp_2_6_prunay.index[start_test:end_test], y_val_inv_test, label='True Values')\n",
    "plt.plot(data_rcp_2_6_prunay.index[start_test:end_test], y_pred_inv_test, label='Predictions', linestyle='dashed')\n",
    "plt.xlabel('Date')\n",
    "plt.ylabel('Mean Temperature')\n",
    "plt.title('Mean Temperature Predictions vs True Values (Data Test)')\n",
    "plt.legend()\n",
    "plt.show()"
   ]
  },
  {
   "cell_type": "code",
   "execution_count": 149,
   "id": "53c1af91",
   "metadata": {},
   "outputs": [
    {
     "data": {
      "text/plain": [
       "array([[19.527546],\n",
       "       [19.527546],\n",
       "       [19.527546],\n",
       "       [19.527546],\n",
       "       [19.527546],\n",
       "       [19.527546],\n",
       "       [19.527546],\n",
       "       [19.527546],\n",
       "       [19.527546],\n",
       "       [19.527546],\n",
       "       [19.527546],\n",
       "       [19.527546],\n",
       "       [19.527546],\n",
       "       [19.527546],\n",
       "       [19.527546],\n",
       "       [19.639595],\n",
       "       [18.345116],\n",
       "       [17.562113],\n",
       "       [17.557383],\n",
       "       [17.653131],\n",
       "       [18.016611],\n",
       "       [18.831999],\n",
       "       [18.831999],\n",
       "       [18.831999],\n",
       "       [18.831999],\n",
       "       [18.831999],\n",
       "       [18.831999],\n",
       "       [18.831999],\n",
       "       [18.831999],\n",
       "       [18.831999],\n",
       "       [18.831999],\n",
       "       [18.831999],\n",
       "       [18.831999],\n",
       "       [18.831999],\n",
       "       [18.831999],\n",
       "       [18.831999],\n",
       "       [18.831999],\n",
       "       [18.831999],\n",
       "       [18.831999],\n",
       "       [18.35529 ],\n",
       "       [18.079315],\n",
       "       [18.04032 ],\n",
       "       [18.286886],\n",
       "       [18.477827],\n",
       "       [18.586775],\n",
       "       [17.978933],\n",
       "       [17.978933],\n",
       "       [17.978933],\n",
       "       [17.978933],\n",
       "       [17.978933],\n",
       "       [17.978933],\n",
       "       [17.978933],\n",
       "       [17.978933],\n",
       "       [17.978933],\n",
       "       [17.978933],\n",
       "       [17.978933],\n",
       "       [17.978933],\n",
       "       [17.978933],\n",
       "       [17.978933],\n",
       "       [17.978933],\n",
       "       [17.978933],\n",
       "       [17.978933],\n",
       "       [17.978933],\n",
       "       [16.687819],\n",
       "       [14.7536  ],\n",
       "       [13.523657],\n",
       "       [14.402951],\n",
       "       [16.793505],\n",
       "       [18.397652],\n",
       "       [17.774828],\n",
       "       [17.774828],\n",
       "       [17.774828],\n",
       "       [17.774828],\n",
       "       [17.774828],\n",
       "       [17.774828],\n",
       "       [17.774828],\n",
       "       [17.774828],\n",
       "       [17.774828],\n",
       "       [17.774828],\n",
       "       [17.774828],\n",
       "       [17.774828],\n",
       "       [17.774828],\n",
       "       [17.774828],\n",
       "       [17.774828],\n",
       "       [17.774828],\n",
       "       [17.774828],\n",
       "       [17.774828],\n",
       "       [17.858486],\n",
       "       [17.8727  ],\n",
       "       [17.869421],\n",
       "       [17.851484],\n",
       "       [17.86221 ],\n",
       "       [17.870007],\n",
       "       [18.02552 ],\n",
       "       [18.02552 ],\n",
       "       [18.02552 ],\n",
       "       [18.02552 ],\n",
       "       [18.02552 ],\n",
       "       [18.02552 ],\n",
       "       [18.02552 ]], dtype=float32)"
      ]
     },
     "execution_count": 149,
     "metadata": {},
     "output_type": "execute_result"
    }
   ],
   "source": [
    "y_pred_inv_test[0:100]"
   ]
  },
  {
   "cell_type": "code",
   "execution_count": 150,
   "id": "7229d25c",
   "metadata": {},
   "outputs": [
    {
     "data": {
      "application/vnd.microsoft.datawrangler.viewer.v0+json": {
       "columns": [
        {
         "name": "Date",
         "rawType": "datetime64[ns]",
         "type": "datetime"
        },
        {
         "name": "rcp_RH",
         "rawType": "float64",
         "type": "float"
        },
        {
         "name": "rcp_Temperature",
         "rawType": "float64",
         "type": "float"
        },
        {
         "name": "date",
         "rawType": "object",
         "type": "unknown"
        }
       ],
       "ref": "62b6e93b-0637-45e5-a643-bd435b503ce2",
       "rows": [
        [
         "2006-01-01 00:00:00",
         "93.57038422290498",
         "-0.04",
         "2006-01-01"
        ],
        [
         "2006-01-02 00:00:00",
         "100.0",
         "2.12",
         "2006-01-02"
        ],
        [
         "2006-01-03 00:00:00",
         "100.0",
         "8.96",
         "2006-01-03"
        ],
        [
         "2006-01-04 00:00:00",
         "89.96438668406955",
         "12.68",
         "2006-01-04"
        ],
        [
         "2006-01-05 00:00:00",
         "95.75675637349975",
         "8.96",
         "2006-01-05"
        ],
        [
         "2006-01-06 00:00:00",
         "91.05295071530894",
         "7.42",
         "2006-01-06"
        ],
        [
         "2006-01-07 00:00:00",
         "83.18022626949241",
         "5.25",
         "2006-01-07"
        ],
        [
         "2006-01-08 00:00:00",
         "85.8000702568766",
         "8.29",
         "2006-01-08"
        ],
        [
         "2006-01-09 00:00:00",
         "88.22477803665532",
         "7.35",
         "2006-01-09"
        ],
        [
         "2006-01-10 00:00:00",
         "96.34557231996234",
         "5.01",
         "2006-01-10"
        ],
        [
         "2006-01-11 00:00:00",
         "87.04920701504031",
         "6.03",
         "2006-01-11"
        ],
        [
         "2006-01-12 00:00:00",
         "97.15503014474214",
         "3.38",
         "2006-01-12"
        ],
        [
         "2006-01-13 00:00:00",
         "90.57451337470197",
         "0.35",
         "2006-01-13"
        ],
        [
         "2006-01-14 00:00:00",
         "87.97070210864597",
         "0.73",
         "2006-01-14"
        ],
        [
         "2006-01-15 00:00:00",
         "95.11877800916965",
         "-0.63",
         "2006-01-15"
        ],
        [
         "2006-01-16 00:00:00",
         "89.6368711641019",
         "-0.68",
         "2006-01-16"
        ],
        [
         "2006-01-17 00:00:00",
         "91.21160437436052",
         "-1.15",
         "2006-01-17"
        ],
        [
         "2006-01-18 00:00:00",
         "81.80745762325134",
         "-0.57",
         "2006-01-18"
        ],
        [
         "2006-01-19 00:00:00",
         "97.42320342339613",
         "1.5",
         "2006-01-19"
        ],
        [
         "2006-01-20 00:00:00",
         "95.60931491741393",
         "1.8",
         "2006-01-20"
        ],
        [
         "2006-01-21 00:00:00",
         "85.78156183006143",
         "1.25",
         "2006-01-21"
        ],
        [
         "2006-01-22 00:00:00",
         "94.74215810727719",
         "1.23",
         "2006-01-22"
        ],
        [
         "2006-01-23 00:00:00",
         "83.59750487048346",
         "7.24",
         "2006-01-23"
        ],
        [
         "2006-01-24 00:00:00",
         "79.20091150775603",
         "7.69",
         "2006-01-24"
        ],
        [
         "2006-01-25 00:00:00",
         "99.39560551815971",
         "8.95",
         "2006-01-25"
        ],
        [
         "2006-01-26 00:00:00",
         "100.0",
         "11.15",
         "2006-01-26"
        ],
        [
         "2006-01-27 00:00:00",
         "82.66764208813586",
         "10.74",
         "2006-01-27"
        ],
        [
         "2006-01-28 00:00:00",
         "70.7573183641849",
         "9.27",
         "2006-01-28"
        ],
        [
         "2006-01-29 00:00:00",
         "78.08956622490844",
         "7.82",
         "2006-01-29"
        ],
        [
         "2006-01-30 00:00:00",
         "77.66229697510143",
         "8.64",
         "2006-01-30"
        ],
        [
         "2006-01-31 00:00:00",
         "85.59842152527206",
         "7.9",
         "2006-01-31"
        ],
        [
         "2006-02-01 00:00:00",
         "92.02756042839735",
         "9.36",
         "2006-02-01"
        ],
        [
         "2006-02-02 00:00:00",
         "93.78075636948266",
         "6.46",
         "2006-02-02"
        ],
        [
         "2006-02-03 00:00:00",
         "86.1852102454203",
         "4.5",
         "2006-02-03"
        ],
        [
         "2006-02-04 00:00:00",
         "79.58635787807239",
         "0.03",
         "2006-02-04"
        ],
        [
         "2006-02-05 00:00:00",
         "83.98555830721577",
         "1.21",
         "2006-02-05"
        ],
        [
         "2006-02-06 00:00:00",
         "95.40767676741201",
         "0.71",
         "2006-02-06"
        ],
        [
         "2006-02-07 00:00:00",
         "79.68330063005259",
         "-1.91",
         "2006-02-07"
        ],
        [
         "2006-02-08 00:00:00",
         "93.50107386836865",
         "-2.43",
         "2006-02-08"
        ],
        [
         "2006-02-09 00:00:00",
         "97.99314098496347",
         "0.64",
         "2006-02-09"
        ],
        [
         "2006-02-10 00:00:00",
         "98.8838591122725",
         "3.23",
         "2006-02-10"
        ],
        [
         "2006-02-11 00:00:00",
         "83.47580105353494",
         "5.53",
         "2006-02-11"
        ],
        [
         "2006-02-12 00:00:00",
         "79.45842055129957",
         "5.17",
         "2006-02-12"
        ],
        [
         "2006-02-13 00:00:00",
         "86.09548737526963",
         "1.71",
         "2006-02-13"
        ],
        [
         "2006-02-14 00:00:00",
         "84.20643673895448",
         "0.38",
         "2006-02-14"
        ],
        [
         "2006-02-15 00:00:00",
         "74.85120329432581",
         "1.41",
         "2006-02-15"
        ],
        [
         "2006-02-16 00:00:00",
         "72.68735103305455",
         "3.59",
         "2006-02-16"
        ],
        [
         "2006-02-17 00:00:00",
         "69.4055232765147",
         "2.62",
         "2006-02-17"
        ],
        [
         "2006-02-18 00:00:00",
         "60.499564095594856",
         "0.24",
         "2006-02-18"
        ],
        [
         "2006-02-19 00:00:00",
         "68.33684426025037",
         "-1.59",
         "2006-02-19"
        ]
       ],
       "shape": {
        "columns": 3,
        "rows": 34698
       }
      },
      "text/html": [
       "<div>\n",
       "<style scoped>\n",
       "    .dataframe tbody tr th:only-of-type {\n",
       "        vertical-align: middle;\n",
       "    }\n",
       "\n",
       "    .dataframe tbody tr th {\n",
       "        vertical-align: top;\n",
       "    }\n",
       "\n",
       "    .dataframe thead th {\n",
       "        text-align: right;\n",
       "    }\n",
       "</style>\n",
       "<table border=\"1\" class=\"dataframe\">\n",
       "  <thead>\n",
       "    <tr style=\"text-align: right;\">\n",
       "      <th></th>\n",
       "      <th>rcp_RH</th>\n",
       "      <th>rcp_Temperature</th>\n",
       "      <th>date</th>\n",
       "    </tr>\n",
       "    <tr>\n",
       "      <th>Date</th>\n",
       "      <th></th>\n",
       "      <th></th>\n",
       "      <th></th>\n",
       "    </tr>\n",
       "  </thead>\n",
       "  <tbody>\n",
       "    <tr>\n",
       "      <th>2006-01-01</th>\n",
       "      <td>93.570384</td>\n",
       "      <td>-0.04</td>\n",
       "      <td>2006-01-01</td>\n",
       "    </tr>\n",
       "    <tr>\n",
       "      <th>2006-01-02</th>\n",
       "      <td>100.000000</td>\n",
       "      <td>2.12</td>\n",
       "      <td>2006-01-02</td>\n",
       "    </tr>\n",
       "    <tr>\n",
       "      <th>2006-01-03</th>\n",
       "      <td>100.000000</td>\n",
       "      <td>8.96</td>\n",
       "      <td>2006-01-03</td>\n",
       "    </tr>\n",
       "    <tr>\n",
       "      <th>2006-01-04</th>\n",
       "      <td>89.964387</td>\n",
       "      <td>12.68</td>\n",
       "      <td>2006-01-04</td>\n",
       "    </tr>\n",
       "    <tr>\n",
       "      <th>2006-01-05</th>\n",
       "      <td>95.756756</td>\n",
       "      <td>8.96</td>\n",
       "      <td>2006-01-05</td>\n",
       "    </tr>\n",
       "    <tr>\n",
       "      <th>...</th>\n",
       "      <td>...</td>\n",
       "      <td>...</td>\n",
       "      <td>...</td>\n",
       "    </tr>\n",
       "    <tr>\n",
       "      <th>2100-12-27</th>\n",
       "      <td>77.246344</td>\n",
       "      <td>2.63</td>\n",
       "      <td>2100-12-27</td>\n",
       "    </tr>\n",
       "    <tr>\n",
       "      <th>2100-12-28</th>\n",
       "      <td>85.489534</td>\n",
       "      <td>0.72</td>\n",
       "      <td>2100-12-28</td>\n",
       "    </tr>\n",
       "    <tr>\n",
       "      <th>2100-12-29</th>\n",
       "      <td>95.290971</td>\n",
       "      <td>-0.24</td>\n",
       "      <td>2100-12-29</td>\n",
       "    </tr>\n",
       "    <tr>\n",
       "      <th>2100-12-30</th>\n",
       "      <td>87.895474</td>\n",
       "      <td>-1.50</td>\n",
       "      <td>2100-12-30</td>\n",
       "    </tr>\n",
       "    <tr>\n",
       "      <th>2100-12-31</th>\n",
       "      <td>86.327239</td>\n",
       "      <td>0.88</td>\n",
       "      <td>2100-12-31</td>\n",
       "    </tr>\n",
       "  </tbody>\n",
       "</table>\n",
       "<p>34698 rows × 3 columns</p>\n",
       "</div>"
      ],
      "text/plain": [
       "                rcp_RH  rcp_Temperature        date\n",
       "Date                                               \n",
       "2006-01-01   93.570384            -0.04  2006-01-01\n",
       "2006-01-02  100.000000             2.12  2006-01-02\n",
       "2006-01-03  100.000000             8.96  2006-01-03\n",
       "2006-01-04   89.964387            12.68  2006-01-04\n",
       "2006-01-05   95.756756             8.96  2006-01-05\n",
       "...                ...              ...         ...\n",
       "2100-12-27   77.246344             2.63  2100-12-27\n",
       "2100-12-28   85.489534             0.72  2100-12-28\n",
       "2100-12-29   95.290971            -0.24  2100-12-29\n",
       "2100-12-30   87.895474            -1.50  2100-12-30\n",
       "2100-12-31   86.327239             0.88  2100-12-31\n",
       "\n",
       "[34698 rows x 3 columns]"
      ]
     },
     "execution_count": 150,
     "metadata": {},
     "output_type": "execute_result"
    }
   ],
   "source": [
    "data_rcp_2_6"
   ]
  },
  {
   "cell_type": "code",
   "execution_count": 151,
   "id": "bbf065c9",
   "metadata": {},
   "outputs": [
    {
     "data": {
      "application/vnd.microsoft.datawrangler.viewer.v0+json": {
       "columns": [
        {
         "name": "time",
         "rawType": "datetime64[ns]",
         "type": "datetime"
        },
        {
         "name": "prunay_RH",
         "rawType": "float64",
         "type": "float"
        },
        {
         "name": "prunay_Temperature",
         "rawType": "float64",
         "type": "float"
        },
        {
         "name": "date",
         "rawType": "object",
         "type": "unknown"
        }
       ],
       "ref": "1e12ee25-1401-47bf-b526-f3f39b1ef057",
       "rows": [
        [
         "2006-01-01 00:00:00",
         "98.14250748813592",
         "3.33438000000001",
         "2006-01-01"
        ],
        [
         "2006-01-01 01:00:00",
         "97.82201601103807",
         "3.4691400000000385",
         "2006-01-01"
        ],
        [
         "2006-01-01 02:00:00",
         "97.71900636903098",
         "3.530420000000049",
         "2006-01-01"
        ],
        [
         "2006-01-01 03:00:00",
         "97.87149132915113",
         "3.1842300000000137",
         "2006-01-01"
        ],
        [
         "2006-01-01 04:00:00",
         "97.89429505184646",
         "3.408839999999998",
         "2006-01-01"
        ],
        [
         "2006-01-01 05:00:00",
         "97.96956811801276",
         "3.4793999999999983",
         "2006-01-01"
        ],
        [
         "2006-01-01 06:00:00",
         "98.18281876874607",
         "3.3590300000000184",
         "2006-01-01"
        ],
        [
         "2006-01-01 07:00:00",
         "98.30737817129332",
         "3.468400000000031",
         "2006-01-01"
        ],
        [
         "2006-01-01 08:00:00",
         "98.18421203939526",
         "3.8915000000000077",
         "2006-01-01"
        ],
        [
         "2006-01-01 09:00:00",
         "97.79950133062228",
         "4.685200000000009",
         "2006-01-01"
        ],
        [
         "2006-01-01 10:00:00",
         "99.15461546539304",
         "3.351220000000012",
         "2006-01-01"
        ],
        [
         "2006-01-01 11:00:00",
         "99.55884675484454",
         "3.4618200000000456",
         "2006-01-01"
        ],
        [
         "2006-01-01 12:00:00",
         "99.41615843595493",
         "3.9957500000000437",
         "2006-01-01"
        ],
        [
         "2006-01-01 13:00:00",
         "99.27324024508036",
         "5.011130000000037",
         "2006-01-01"
        ],
        [
         "2006-01-01 14:00:00",
         "99.16604303249544",
         "5.475240000000042",
         "2006-01-01"
        ],
        [
         "2006-01-01 15:00:00",
         "98.91234290550052",
         "5.660799999999995",
         "2006-01-01"
        ],
        [
         "2006-01-01 16:00:00",
         "98.45286230080536",
         "5.55776000000003",
         "2006-01-01"
        ],
        [
         "2006-01-01 17:00:00",
         "98.42087979114442",
         "5.669340000000034",
         "2006-01-01"
        ],
        [
         "2006-01-01 18:00:00",
         "98.4098057068049",
         "5.595850000000041",
         "2006-01-01"
        ],
        [
         "2006-01-01 19:00:00",
         "98.62282027646548",
         "5.367330000000038",
         "2006-01-01"
        ],
        [
         "2006-01-01 20:00:00",
         "98.9154919103062",
         "4.85635000000002",
         "2006-01-01"
        ],
        [
         "2006-01-01 21:00:00",
         "99.0364990745817",
         "4.185200000000009",
         "2006-01-01"
        ],
        [
         "2006-01-01 22:00:00",
         "98.8580048676755",
         "3.497220000000027",
         "2006-01-01"
        ],
        [
         "2006-01-01 23:00:00",
         "98.87507348758362",
         "3.447900000000004",
         "2006-01-01"
        ],
        [
         "2006-01-02 00:00:00",
         "98.85961850802788",
         "3.5174800000000346",
         "2006-01-02"
        ],
        [
         "2006-01-02 01:00:00",
         "98.8100191917087",
         "3.6612800000000334",
         "2006-01-02"
        ],
        [
         "2006-01-02 02:00:00",
         "98.64092226013489",
         "3.7963000000000306",
         "2006-01-02"
        ],
        [
         "2006-01-02 03:00:00",
         "98.50378205231232",
         "3.89688000000001",
         "2006-01-02"
        ],
        [
         "2006-01-02 04:00:00",
         "98.46841509730848",
         "3.7945799999999963",
         "2006-01-02"
        ],
        [
         "2006-01-02 05:00:00",
         "98.35452037443248",
         "3.605600000000038",
         "2006-01-02"
        ],
        [
         "2006-01-02 06:00:00",
         "98.33956450636587",
         "3.4813500000000204",
         "2006-01-02"
        ],
        [
         "2006-01-02 07:00:00",
         "98.21689504016402",
         "3.593650000000025",
         "2006-01-02"
        ],
        [
         "2006-01-02 08:00:00",
         "98.48864843446688",
         "3.3253400000000397",
         "2006-01-02"
        ],
        [
         "2006-01-02 09:00:00",
         "98.54040004742936",
         "3.3307000000000357",
         "2006-01-02"
        ],
        [
         "2006-01-02 10:00:00",
         "97.07418245453184",
         "4.208640000000003",
         "2006-01-02"
        ],
        [
         "2006-01-02 11:00:00",
         "96.66318241150236",
         "4.650300000000016",
         "2006-01-02"
        ],
        [
         "2006-01-02 12:00:00",
         "96.6019033366466",
         "4.994040000000041",
         "2006-01-02"
        ],
        [
         "2006-01-02 13:00:00",
         "95.76405410137733",
         "5.405900000000031",
         "2006-01-02"
        ],
        [
         "2006-01-02 14:00:00",
         "95.7200581653764",
         "5.194000000000017",
         "2006-01-02"
        ],
        [
         "2006-01-02 15:00:00",
         "95.566496712106",
         "5.062900000000013",
         "2006-01-02"
        ],
        [
         "2006-01-02 16:00:00",
         "96.3018451060955",
         "4.164200000000051",
         "2006-01-02"
        ],
        [
         "2006-01-02 17:00:00",
         "96.53300149332908",
         "3.8566000000000145",
         "2006-01-02"
        ],
        [
         "2006-01-02 18:00:00",
         "96.9765893185598",
         "3.4332500000000437",
         "2006-01-02"
        ],
        [
         "2006-01-02 19:00:00",
         "97.60851669664476",
         "2.9639999999999986",
         "2006-01-02"
        ],
        [
         "2006-01-02 20:00:00",
         "97.83032298164616",
         "2.67715000000004",
         "2006-01-02"
        ],
        [
         "2006-01-02 21:00:00",
         "98.29750933314143",
         "2.4796400000000176",
         "2006-01-02"
        ],
        [
         "2006-01-02 22:00:00",
         "97.84617954664064",
         "3.673969999999997",
         "2006-01-02"
        ],
        [
         "2006-01-02 23:00:00",
         "98.1665232601706",
         "3.5438500000000204",
         "2006-01-02"
        ],
        [
         "2006-01-03 00:00:00",
         "97.98850795721062",
         "3.7616200000000504",
         "2006-01-03"
        ],
        [
         "2006-01-03 01:00:00",
         "97.98865117694864",
         "3.631740000000036",
         "2006-01-03"
        ]
       ],
       "shape": {
        "columns": 3,
        "rows": 170457
       }
      },
      "text/html": [
       "<div>\n",
       "<style scoped>\n",
       "    .dataframe tbody tr th:only-of-type {\n",
       "        vertical-align: middle;\n",
       "    }\n",
       "\n",
       "    .dataframe tbody tr th {\n",
       "        vertical-align: top;\n",
       "    }\n",
       "\n",
       "    .dataframe thead th {\n",
       "        text-align: right;\n",
       "    }\n",
       "</style>\n",
       "<table border=\"1\" class=\"dataframe\">\n",
       "  <thead>\n",
       "    <tr style=\"text-align: right;\">\n",
       "      <th></th>\n",
       "      <th>prunay_RH</th>\n",
       "      <th>prunay_Temperature</th>\n",
       "      <th>date</th>\n",
       "    </tr>\n",
       "    <tr>\n",
       "      <th>time</th>\n",
       "      <th></th>\n",
       "      <th></th>\n",
       "      <th></th>\n",
       "    </tr>\n",
       "  </thead>\n",
       "  <tbody>\n",
       "    <tr>\n",
       "      <th>2006-01-01 00:00:00</th>\n",
       "      <td>98.142507</td>\n",
       "      <td>3.33438</td>\n",
       "      <td>2006-01-01</td>\n",
       "    </tr>\n",
       "    <tr>\n",
       "      <th>2006-01-01 01:00:00</th>\n",
       "      <td>97.822016</td>\n",
       "      <td>3.46914</td>\n",
       "      <td>2006-01-01</td>\n",
       "    </tr>\n",
       "    <tr>\n",
       "      <th>2006-01-01 02:00:00</th>\n",
       "      <td>97.719006</td>\n",
       "      <td>3.53042</td>\n",
       "      <td>2006-01-01</td>\n",
       "    </tr>\n",
       "    <tr>\n",
       "      <th>2006-01-01 03:00:00</th>\n",
       "      <td>97.871491</td>\n",
       "      <td>3.18423</td>\n",
       "      <td>2006-01-01</td>\n",
       "    </tr>\n",
       "    <tr>\n",
       "      <th>2006-01-01 04:00:00</th>\n",
       "      <td>97.894295</td>\n",
       "      <td>3.40884</td>\n",
       "      <td>2006-01-01</td>\n",
       "    </tr>\n",
       "    <tr>\n",
       "      <th>...</th>\n",
       "      <td>...</td>\n",
       "      <td>...</td>\n",
       "      <td>...</td>\n",
       "    </tr>\n",
       "    <tr>\n",
       "      <th>2025-06-12 04:00:00</th>\n",
       "      <td>93.596486</td>\n",
       "      <td>12.86025</td>\n",
       "      <td>2025-06-12</td>\n",
       "    </tr>\n",
       "    <tr>\n",
       "      <th>2025-06-12 05:00:00</th>\n",
       "      <td>92.706792</td>\n",
       "      <td>14.57950</td>\n",
       "      <td>2025-06-12</td>\n",
       "    </tr>\n",
       "    <tr>\n",
       "      <th>2025-06-12 06:00:00</th>\n",
       "      <td>90.352953</td>\n",
       "      <td>17.18080</td>\n",
       "      <td>2025-06-12</td>\n",
       "    </tr>\n",
       "    <tr>\n",
       "      <th>2025-06-12 07:00:00</th>\n",
       "      <td>88.640614</td>\n",
       "      <td>19.25723</td>\n",
       "      <td>2025-06-12</td>\n",
       "    </tr>\n",
       "    <tr>\n",
       "      <th>2025-06-12 08:00:00</th>\n",
       "      <td>87.579572</td>\n",
       "      <td>21.52896</td>\n",
       "      <td>2025-06-12</td>\n",
       "    </tr>\n",
       "  </tbody>\n",
       "</table>\n",
       "<p>170457 rows × 3 columns</p>\n",
       "</div>"
      ],
      "text/plain": [
       "                     prunay_RH  prunay_Temperature        date\n",
       "time                                                          \n",
       "2006-01-01 00:00:00  98.142507             3.33438  2006-01-01\n",
       "2006-01-01 01:00:00  97.822016             3.46914  2006-01-01\n",
       "2006-01-01 02:00:00  97.719006             3.53042  2006-01-01\n",
       "2006-01-01 03:00:00  97.871491             3.18423  2006-01-01\n",
       "2006-01-01 04:00:00  97.894295             3.40884  2006-01-01\n",
       "...                        ...                 ...         ...\n",
       "2025-06-12 04:00:00  93.596486            12.86025  2025-06-12\n",
       "2025-06-12 05:00:00  92.706792            14.57950  2025-06-12\n",
       "2025-06-12 06:00:00  90.352953            17.18080  2025-06-12\n",
       "2025-06-12 07:00:00  88.640614            19.25723  2025-06-12\n",
       "2025-06-12 08:00:00  87.579572            21.52896  2025-06-12\n",
       "\n",
       "[170457 rows x 3 columns]"
      ]
     },
     "execution_count": 151,
     "metadata": {},
     "output_type": "execute_result"
    }
   ],
   "source": [
    "data_prunay"
   ]
  },
  {
   "cell_type": "code",
   "execution_count": 152,
   "id": "d40bb3c7",
   "metadata": {},
   "outputs": [],
   "source": [
    "data_prunay_hourly_temp_predict = data_prunay_hourly_predict.resample('D').agg(['min', 'mean', 'max'])"
   ]
  },
  {
   "cell_type": "code",
   "execution_count": 153,
   "id": "403bbca8",
   "metadata": {},
   "outputs": [],
   "source": [
    "data_prunay_hourly_temp_predict[\"Jour_annee\"] = data_prunay_hourly_temp_predict.index.dayofyear\n",
    "data_prunay_hourly_temp_predict[\"Mois\"] = data_prunay_hourly_temp_predict.index.month"
   ]
  },
  {
   "cell_type": "code",
   "execution_count": 154,
   "id": "ab56fd62",
   "metadata": {},
   "outputs": [
    {
     "data": {
      "application/vnd.microsoft.datawrangler.viewer.v0+json": {
       "columns": [
        {
         "name": "time",
         "rawType": "datetime64[ns]",
         "type": "datetime"
        },
        {
         "name": "('prunay_RH', 'min')",
         "rawType": "float64",
         "type": "float"
        },
        {
         "name": "('prunay_RH', 'mean')",
         "rawType": "float64",
         "type": "float"
        },
        {
         "name": "('prunay_RH', 'max')",
         "rawType": "float64",
         "type": "float"
        },
        {
         "name": "('prunay_Temperature', 'min')",
         "rawType": "float64",
         "type": "float"
        },
        {
         "name": "('prunay_Temperature', 'mean')",
         "rawType": "float64",
         "type": "float"
        },
        {
         "name": "('prunay_Temperature', 'max')",
         "rawType": "float64",
         "type": "float"
        },
        {
         "name": "('Jour_annee', '')",
         "rawType": "int32",
         "type": "integer"
        },
        {
         "name": "('Mois', '')",
         "rawType": "int32",
         "type": "integer"
        }
       ],
       "ref": "2a19126d-3e51-4351-8d5a-bb9063d37c42",
       "rows": [
        [
         "2006-01-01 00:00:00",
         "97.71900636903098",
         "98.54022828882951",
         "99.55884675484454",
         "3.1842300000000137",
         "4.205977083333356",
         "5.669340000000034",
         "1",
         "1"
        ],
        [
         "2006-01-02 00:00:00",
         "95.566496712106",
         "97.5905479345883",
         "98.85961850802788",
         "2.4796400000000176",
         "3.84631666666669",
         "5.405900000000031",
         "2",
         "1"
        ],
        [
         "2006-01-03 00:00:00",
         "95.86964321867131",
         "97.84922445710477",
         "99.02039820410864",
         "-0.02182999999996582",
         "2.389316250000031",
         "3.7616200000000504",
         "3",
         "1"
        ],
        [
         "2006-01-04 00:00:00",
         "93.79212584119946",
         "96.99051174573545",
         "98.96751965214004",
         "-1.66659999999996",
         "0.7748766666666876",
         "3.1449200000000133",
         "4",
         "1"
        ],
        [
         "2006-01-05 00:00:00",
         "95.57193522955052",
         "96.74439299461882",
         "97.85261756538635",
         "-1.585299999999961",
         "0.24909833333335266",
         "1.401270000000011",
         "5",
         "1"
        ],
        [
         "2006-01-06 00:00:00",
         "94.88479414540114",
         "96.83948316107193",
         "97.67737126293132",
         "-1.9073199999999702",
         "0.30334916666669187",
         "2.1234400000000164",
         "6",
         "1"
        ],
        [
         "2006-01-07 00:00:00",
         "93.98106926830872",
         "96.412402914228",
         "97.62432712620884",
         "0.4991700000000492",
         "1.6333545833333574",
         "3.3788000000000125",
         "7",
         "1"
        ],
        [
         "2006-01-08 00:00:00",
         "91.85545793759714",
         "95.29310466880338",
         "96.96506574340144",
         "-0.05429999999995516",
         "1.58446666666669",
         "4.13784000000004",
         "8",
         "1"
        ],
        [
         "2006-01-09 00:00:00",
         "92.27477538179652",
         "96.03447418979874",
         "98.62654376396642",
         "-2.778419999999983",
         "-0.350774999999975",
         "3.895399999999995",
         "9",
         "1"
        ],
        [
         "2006-01-10 00:00:00",
         "96.49883002442942",
         "98.19044348700326",
         "99.5191538300042",
         "-4.276219999999967",
         "-0.5340124999999792",
         "3.150540000000035",
         "10",
         "1"
        ],
        [
         "2006-01-11 00:00:00",
         "98.85483216611892",
         "99.24716167812586",
         "99.62385235563312",
         "0.20620000000002392",
         "2.0271637500000232",
         "3.5570299999999975",
         "11",
         "1"
        ],
        [
         "2006-01-12 00:00:00",
         "98.4128868689048",
         "99.11908736238985",
         "99.76796975359916",
         "2.7340300000000184",
         "3.4558850000000234",
         "3.979880000000037",
         "12",
         "1"
        ],
        [
         "2006-01-13 00:00:00",
         "96.89310025027402",
         "98.66141020059472",
         "99.61433399009827",
         "-1.3150399999999536",
         "0.9475145833333537",
         "2.906400000000019",
         "13",
         "1"
        ],
        [
         "2006-01-14 00:00:00",
         "91.62932503199872",
         "96.24469542291043",
         "98.89169456897598",
         "-2.1263199999999642",
         "0.5483233333333549",
         "5.5882799999999975",
         "14",
         "1"
        ],
        [
         "2006-01-15 00:00:00",
         "94.1694655347435",
         "96.93892975349138",
         "98.1246480110888",
         "-4.346299999999985",
         "-1.2462133333333132",
         "3.127830000000017",
         "15",
         "1"
        ],
        [
         "2006-01-16 00:00:00",
         "93.14814210771485",
         "96.47516525876692",
         "98.17911398369137",
         "-1.709799999999973",
         "2.0472650000000243",
         "5.190820000000031",
         "16",
         "1"
        ],
        [
         "2006-01-17 00:00:00",
         "98.22645651810608",
         "98.65335123536256",
         "99.2503893159974",
         "4.960840000000019",
         "6.34740666666669",
         "7.320700000000045",
         "17",
         "1"
        ],
        [
         "2006-01-18 00:00:00",
         "98.33347933136976",
         "98.83863184596662",
         "99.40102458585712",
         "4.5563000000000216",
         "5.875827083333358",
         "7.186180000000036",
         "18",
         "1"
        ],
        [
         "2006-01-19 00:00:00",
         "98.37645156542192",
         "99.21071144781284",
         "99.60036047742528",
         "4.695700000000045",
         "6.780154583333356",
         "8.686900000000037",
         "19",
         "1"
        ],
        [
         "2006-01-20 00:00:00",
         "96.1976987254828",
         "98.01317691628215",
         "99.2990184290359",
         "3.8790500000000065",
         "7.216140000000017",
         "9.40640000000002",
         "20",
         "1"
        ],
        [
         "2006-01-21 00:00:00",
         "95.68208683613116",
         "97.94786649718615",
         "99.16737645592028",
         "1.5428700000000504",
         "4.0525554166666895",
         "6.951800000000048",
         "21",
         "1"
        ],
        [
         "2006-01-22 00:00:00",
         "92.71997310689684",
         "95.26190386238613",
         "98.18515420873946",
         "2.5182000000000357",
         "3.4746829166666893",
         "4.751120000000014",
         "22",
         "1"
        ],
        [
         "2006-01-23 00:00:00",
         "86.91995933547987",
         "91.81340379780623",
         "95.33805651103164",
         "-3.103369999999984",
         "-0.4011916666666456",
         "2.2726000000000113",
         "23",
         "1"
        ],
        [
         "2006-01-24 00:00:00",
         "86.0372385266051",
         "90.93641472007249",
         "95.76336118313148",
         "-5.04965999999996",
         "-2.6410904166666476",
         "0.9432600000000093",
         "24",
         "1"
        ],
        [
         "2006-01-25 00:00:00",
         "88.83846895541785",
         "94.91565403846187",
         "97.62664966616464",
         "-6.028419999999983",
         "-2.158677083333309",
         "1.8841800000000148",
         "25",
         "1"
        ],
        [
         "2006-01-26 00:00:00",
         "90.57916546202732",
         "93.67006563117668",
         "97.2568374099245",
         "-3.513999999999953",
         "-0.3791858333333096",
         "2.111720000000048",
         "26",
         "1"
        ],
        [
         "2006-01-27 00:00:00",
         "93.30680501539172",
         "95.29347991608233",
         "97.37405990892805",
         "-6.127049999999997",
         "-4.600947916666645",
         "-2.6653799999999706",
         "27",
         "1"
        ],
        [
         "2006-01-28 00:00:00",
         "87.80078268839587",
         "91.98836133840409",
         "96.14616372148758",
         "-5.750099999999975",
         "-1.4687970833333115",
         "3.228170000000034",
         "28",
         "1"
        ],
        [
         "2006-01-29 00:00:00",
         "77.28064440743813",
         "85.63831253411985",
         "93.0987885407688",
         "-2.439799999999991",
         "1.515943750000022",
         "8.166899999999998",
         "29",
         "1"
        ],
        [
         "2006-01-30 00:00:00",
         "82.07403563665345",
         "89.35001769839738",
         "93.00180427558648",
         "-3.9930200000000013",
         "0.34276916666669166",
         "6.856100000000026",
         "30",
         "1"
        ],
        [
         "2006-01-31 00:00:00",
         "88.1910701737763",
         "93.89945987831759",
         "97.62796050345683",
         "-3.3956000000000017",
         "-0.12455833333330919",
         "5.7105999999999995",
         "31",
         "1"
        ],
        [
         "2006-02-01 00:00:00",
         "90.90472055298892",
         "96.33534667345272",
         "98.86622155668682",
         "-6.069680000000005",
         "-2.0150199999999736",
         "4.1783700000000294",
         "32",
         "2"
        ],
        [
         "2006-02-02 00:00:00",
         "98.84396157776796",
         "99.13645229023273",
         "99.5381268070098",
         "-3.541849999999954",
         "-2.0052237499999848",
         "-1.5206000000000017",
         "33",
         "2"
        ],
        [
         "2006-02-03 00:00:00",
         "94.4688716982525",
         "97.64635118456873",
         "99.56658350389232",
         "-5.423439999999971",
         "-3.7564254166666444",
         "-1.6834499999999935",
         "34",
         "2"
        ],
        [
         "2006-02-04 00:00:00",
         "94.5968876640226",
         "97.343157819245",
         "98.82146777700764",
         "-3.0305999999999926",
         "0.11521916666669085",
         "2.6822800000000484",
         "35",
         "2"
        ],
        [
         "2006-02-05 00:00:00",
         "95.10245193522768",
         "97.9325915346402",
         "99.25922886844272",
         "0.9408200000000306",
         "2.5184770833333516",
         "4.255030000000033",
         "36",
         "2"
        ],
        [
         "2006-02-06 00:00:00",
         "96.6236835396851",
         "98.44138996321756",
         "99.60778867212082",
         "3.123199999999997",
         "4.469975000000019",
         "6.037260000000003",
         "37",
         "2"
        ],
        [
         "2006-02-07 00:00:00",
         "96.80998894472332",
         "97.2170406426075",
         "97.6606089495386",
         "2.766020000000026",
         "4.402045416666685",
         "6.104399999999998",
         "38",
         "2"
        ],
        [
         "2006-02-08 00:00:00",
         "93.32019557594816",
         "96.37383988587173",
         "97.89240967595644",
         "1.8412000000000148",
         "4.65695541666669",
         "7.37026000000003",
         "39",
         "2"
        ],
        [
         "2006-02-09 00:00:00",
         "89.92054420733646",
         "95.70171049208624",
         "99.52566649517568",
         "-0.08163999999999305",
         "1.9240854166666874",
         "3.789450000000045",
         "40",
         "2"
        ],
        [
         "2006-02-10 00:00:00",
         "91.58629483523328",
         "96.3508459390798",
         "98.59865879450123",
         "-0.6634300000000053",
         "1.4072508333333527",
         "5.156400000000019",
         "41",
         "2"
        ],
        [
         "2006-02-11 00:00:00",
         "90.12762239371185",
         "95.53917597890188",
         "98.9514974127145",
         "-1.8074699999999666",
         "1.5326070833333578",
         "4.147850000000005",
         "42",
         "2"
        ],
        [
         "2006-02-12 00:00:00",
         "88.39016744392369",
         "95.30719037809888",
         "99.61852838155596",
         "-0.6863799999999856",
         "1.491499166666685",
         "3.9291000000000054",
         "43",
         "2"
        ],
        [
         "2006-02-13 00:00:00",
         "99.5394137692968",
         "99.81671224667097",
         "99.99494146148648",
         "0.31362000000001444",
         "1.7509495833333542",
         "3.2945799999999963",
         "44",
         "2"
        ],
        [
         "2006-02-14 00:00:00",
         "94.4341363379",
         "98.0818461388107",
         "99.87983282893651",
         "3.090720000000033",
         "5.0440125000000195",
         "7.42007000000001",
         "45",
         "2"
        ],
        [
         "2006-02-15 00:00:00",
         "96.46448068753983",
         "98.06577699903617",
         "99.59937940026396",
         "5.346830000000011",
         "7.91969041666669",
         "10.669820000000016",
         "46",
         "2"
        ],
        [
         "2006-02-16 00:00:00",
         "94.42877119198604",
         "97.05250482347083",
         "100.00190743064394",
         "5.456700000000012",
         "7.388249583333355",
         "10.252340000000004",
         "47",
         "2"
        ],
        [
         "2006-02-17 00:00:00",
         "90.31934903518662",
         "95.14960463180593",
         "97.67308353259791",
         "4.272850000000005",
         "6.000155416666689",
         "9.053600000000017",
         "48",
         "2"
        ],
        [
         "2006-02-18 00:00:00",
         "95.48031315535418",
         "97.3570819534768",
         "98.70387939019233",
         "3.6539600000000405",
         "5.268161666666693",
         "7.113430000000051",
         "49",
         "2"
        ],
        [
         "2006-02-19 00:00:00",
         "95.40482611701329",
         "97.67982063130312",
         "98.93690114572844",
         "4.0118700000000445",
         "5.59525041666669",
         "7.6381000000000085",
         "50",
         "2"
        ]
       ],
       "shape": {
        "columns": 8,
        "rows": 7103
       }
      },
      "text/html": [
       "<div>\n",
       "<style scoped>\n",
       "    .dataframe tbody tr th:only-of-type {\n",
       "        vertical-align: middle;\n",
       "    }\n",
       "\n",
       "    .dataframe tbody tr th {\n",
       "        vertical-align: top;\n",
       "    }\n",
       "\n",
       "    .dataframe thead tr th {\n",
       "        text-align: left;\n",
       "    }\n",
       "\n",
       "    .dataframe thead tr:last-of-type th {\n",
       "        text-align: right;\n",
       "    }\n",
       "</style>\n",
       "<table border=\"1\" class=\"dataframe\">\n",
       "  <thead>\n",
       "    <tr>\n",
       "      <th></th>\n",
       "      <th colspan=\"3\" halign=\"left\">prunay_RH</th>\n",
       "      <th colspan=\"3\" halign=\"left\">prunay_Temperature</th>\n",
       "      <th>Jour_annee</th>\n",
       "      <th>Mois</th>\n",
       "    </tr>\n",
       "    <tr>\n",
       "      <th></th>\n",
       "      <th>min</th>\n",
       "      <th>mean</th>\n",
       "      <th>max</th>\n",
       "      <th>min</th>\n",
       "      <th>mean</th>\n",
       "      <th>max</th>\n",
       "      <th></th>\n",
       "      <th></th>\n",
       "    </tr>\n",
       "    <tr>\n",
       "      <th>time</th>\n",
       "      <th></th>\n",
       "      <th></th>\n",
       "      <th></th>\n",
       "      <th></th>\n",
       "      <th></th>\n",
       "      <th></th>\n",
       "      <th></th>\n",
       "      <th></th>\n",
       "    </tr>\n",
       "  </thead>\n",
       "  <tbody>\n",
       "    <tr>\n",
       "      <th>2006-01-01</th>\n",
       "      <td>97.719006</td>\n",
       "      <td>98.540228</td>\n",
       "      <td>99.558847</td>\n",
       "      <td>3.18423</td>\n",
       "      <td>4.205977</td>\n",
       "      <td>5.66934</td>\n",
       "      <td>1</td>\n",
       "      <td>1</td>\n",
       "    </tr>\n",
       "    <tr>\n",
       "      <th>2006-01-02</th>\n",
       "      <td>95.566497</td>\n",
       "      <td>97.590548</td>\n",
       "      <td>98.859619</td>\n",
       "      <td>2.47964</td>\n",
       "      <td>3.846317</td>\n",
       "      <td>5.40590</td>\n",
       "      <td>2</td>\n",
       "      <td>1</td>\n",
       "    </tr>\n",
       "    <tr>\n",
       "      <th>2006-01-03</th>\n",
       "      <td>95.869643</td>\n",
       "      <td>97.849224</td>\n",
       "      <td>99.020398</td>\n",
       "      <td>-0.02183</td>\n",
       "      <td>2.389316</td>\n",
       "      <td>3.76162</td>\n",
       "      <td>3</td>\n",
       "      <td>1</td>\n",
       "    </tr>\n",
       "    <tr>\n",
       "      <th>2006-01-04</th>\n",
       "      <td>93.792126</td>\n",
       "      <td>96.990512</td>\n",
       "      <td>98.967520</td>\n",
       "      <td>-1.66660</td>\n",
       "      <td>0.774877</td>\n",
       "      <td>3.14492</td>\n",
       "      <td>4</td>\n",
       "      <td>1</td>\n",
       "    </tr>\n",
       "    <tr>\n",
       "      <th>2006-01-05</th>\n",
       "      <td>95.571935</td>\n",
       "      <td>96.744393</td>\n",
       "      <td>97.852618</td>\n",
       "      <td>-1.58530</td>\n",
       "      <td>0.249098</td>\n",
       "      <td>1.40127</td>\n",
       "      <td>5</td>\n",
       "      <td>1</td>\n",
       "    </tr>\n",
       "    <tr>\n",
       "      <th>...</th>\n",
       "      <td>...</td>\n",
       "      <td>...</td>\n",
       "      <td>...</td>\n",
       "      <td>...</td>\n",
       "      <td>...</td>\n",
       "      <td>...</td>\n",
       "      <td>...</td>\n",
       "      <td>...</td>\n",
       "    </tr>\n",
       "    <tr>\n",
       "      <th>2025-06-08</th>\n",
       "      <td>84.845924</td>\n",
       "      <td>92.351952</td>\n",
       "      <td>97.821317</td>\n",
       "      <td>9.92080</td>\n",
       "      <td>14.433693</td>\n",
       "      <td>18.37540</td>\n",
       "      <td>159</td>\n",
       "      <td>6</td>\n",
       "    </tr>\n",
       "    <tr>\n",
       "      <th>2025-06-09</th>\n",
       "      <td>83.797271</td>\n",
       "      <td>91.292072</td>\n",
       "      <td>98.112890</td>\n",
       "      <td>8.47622</td>\n",
       "      <td>15.025831</td>\n",
       "      <td>21.13467</td>\n",
       "      <td>160</td>\n",
       "      <td>6</td>\n",
       "    </tr>\n",
       "    <tr>\n",
       "      <th>2025-06-10</th>\n",
       "      <td>85.605170</td>\n",
       "      <td>92.672336</td>\n",
       "      <td>98.624016</td>\n",
       "      <td>8.55996</td>\n",
       "      <td>16.870916</td>\n",
       "      <td>23.53164</td>\n",
       "      <td>161</td>\n",
       "      <td>6</td>\n",
       "    </tr>\n",
       "    <tr>\n",
       "      <th>2025-06-11</th>\n",
       "      <td>83.383625</td>\n",
       "      <td>90.981678</td>\n",
       "      <td>99.456448</td>\n",
       "      <td>10.16738</td>\n",
       "      <td>18.749932</td>\n",
       "      <td>25.65420</td>\n",
       "      <td>162</td>\n",
       "      <td>6</td>\n",
       "    </tr>\n",
       "    <tr>\n",
       "      <th>2025-06-12</th>\n",
       "      <td>87.579572</td>\n",
       "      <td>91.493826</td>\n",
       "      <td>93.596486</td>\n",
       "      <td>12.86025</td>\n",
       "      <td>15.916297</td>\n",
       "      <td>21.52896</td>\n",
       "      <td>163</td>\n",
       "      <td>6</td>\n",
       "    </tr>\n",
       "  </tbody>\n",
       "</table>\n",
       "<p>7103 rows × 8 columns</p>\n",
       "</div>"
      ],
      "text/plain": [
       "            prunay_RH                       prunay_Temperature             \\\n",
       "                  min       mean        max                min       mean   \n",
       "time                                                                        \n",
       "2006-01-01  97.719006  98.540228  99.558847            3.18423   4.205977   \n",
       "2006-01-02  95.566497  97.590548  98.859619            2.47964   3.846317   \n",
       "2006-01-03  95.869643  97.849224  99.020398           -0.02183   2.389316   \n",
       "2006-01-04  93.792126  96.990512  98.967520           -1.66660   0.774877   \n",
       "2006-01-05  95.571935  96.744393  97.852618           -1.58530   0.249098   \n",
       "...               ...        ...        ...                ...        ...   \n",
       "2025-06-08  84.845924  92.351952  97.821317            9.92080  14.433693   \n",
       "2025-06-09  83.797271  91.292072  98.112890            8.47622  15.025831   \n",
       "2025-06-10  85.605170  92.672336  98.624016            8.55996  16.870916   \n",
       "2025-06-11  83.383625  90.981678  99.456448           10.16738  18.749932   \n",
       "2025-06-12  87.579572  91.493826  93.596486           12.86025  15.916297   \n",
       "\n",
       "                     Jour_annee Mois  \n",
       "                 max                  \n",
       "time                                  \n",
       "2006-01-01   5.66934          1    1  \n",
       "2006-01-02   5.40590          2    1  \n",
       "2006-01-03   3.76162          3    1  \n",
       "2006-01-04   3.14492          4    1  \n",
       "2006-01-05   1.40127          5    1  \n",
       "...              ...        ...  ...  \n",
       "2025-06-08  18.37540        159    6  \n",
       "2025-06-09  21.13467        160    6  \n",
       "2025-06-10  23.53164        161    6  \n",
       "2025-06-11  25.65420        162    6  \n",
       "2025-06-12  21.52896        163    6  \n",
       "\n",
       "[7103 rows x 8 columns]"
      ]
     },
     "execution_count": 154,
     "metadata": {},
     "output_type": "execute_result"
    }
   ],
   "source": [
    "data_prunay_hourly_temp_predict"
   ]
  },
  {
   "cell_type": "code",
   "execution_count": 155,
   "id": "67f379e4",
   "metadata": {},
   "outputs": [
    {
     "name": "stdout",
     "output_type": "stream",
     "text": [
      "time\n",
      "2025-06-12 00:00:00    15.65127\n",
      "2025-06-12 01:00:00    14.96743\n",
      "2025-06-12 02:00:00    14.01553\n",
      "2025-06-12 03:00:00    13.20570\n",
      "2025-06-12 04:00:00    12.86025\n",
      "2025-06-12 05:00:00    14.57950\n",
      "2025-06-12 06:00:00    17.18080\n",
      "2025-06-12 07:00:00    19.25723\n",
      "2025-06-12 08:00:00    21.52896\n",
      "Name: 2025-06-12 00:00:00, dtype: float64\n"
     ]
    }
   ],
   "source": [
    "y = data_prunay[\"prunay_Temperature\"].resample('D').apply(extract_24h_values)"
   ]
  },
  {
   "cell_type": "code",
   "execution_count": 156,
   "id": "33c4742d",
   "metadata": {},
   "outputs": [],
   "source": [
    "data_prunay_hourly_temp_predict[\"y\"] = y"
   ]
  },
  {
   "cell_type": "code",
   "execution_count": 157,
   "id": "d913d84d",
   "metadata": {},
   "outputs": [],
   "source": [
    "data_prunay_hourly_temp_predict = data_prunay_hourly_temp_predict[[('prunay_Temperature',  'min'), ('prunay_Temperature',  'mean'), ('prunay_Temperature',  'max'), ('Jour_annee',''), ('Mois', ''), ('y','')]]"
   ]
  },
  {
   "cell_type": "code",
   "execution_count": 158,
   "id": "f4b58f53",
   "metadata": {},
   "outputs": [],
   "source": [
    "data_prunay_hourly_temp_predict = data_prunay_hourly_temp_predict.dropna()"
   ]
  },
  {
   "cell_type": "code",
   "execution_count": 159,
   "id": "97be6939",
   "metadata": {},
   "outputs": [
    {
     "name": "stdout",
     "output_type": "stream",
     "text": [
      "Train size : 4971\n",
      "Val size : 1420\n",
      "Test size : 711\n"
     ]
    }
   ],
   "source": [
    "data_prunay_hourly_temp_predict_train, data_prunay_hourly_temp_predict_val, data_prunay_hourly_temp_predict_test = split_dataframe(data_prunay_hourly_temp_predict)"
   ]
  },
  {
   "cell_type": "code",
   "execution_count": 160,
   "id": "22f074de",
   "metadata": {},
   "outputs": [
    {
     "data": {
      "application/vnd.microsoft.datawrangler.viewer.v0+json": {
       "columns": [
        {
         "name": "time",
         "rawType": "datetime64[ns]",
         "type": "datetime"
        },
        {
         "name": "('y', '')",
         "rawType": "object",
         "type": "unknown"
        }
       ],
       "ref": "e88e127c-b595-4daf-b631-ead28524be0b",
       "rows": [
        [
         "2006-01-01 00:00:00",
         "[3.33438 3.46914 3.53042 3.18423 3.40884 3.4794  3.35903 3.4684  3.8915\n 4.6852  3.35122 3.46182 3.99575 5.01113 5.47524 5.6608  5.55776 5.66934\n 5.59585 5.36733 4.85635 4.1852  3.49722 3.4479 ]"
        ],
        [
         "2006-01-02 00:00:00",
         "[3.51748 3.66128 3.7963  3.89688 3.79458 3.6056  3.48135 3.59365 3.32534\n 3.3307  4.20864 4.6503  4.99404 5.4059  5.194   5.0629  4.1642  3.8566\n 3.43325 2.964   2.67715 2.47964 3.67397 3.54385]"
        ],
        [
         "2006-01-03 00:00:00",
         "[ 3.76162  3.63174  3.65347  3.06973  2.95962  2.6293   2.4994   2.49307\n  2.34463  2.43862  2.20645  2.38394  3.03896  3.05093  3.28726  3.10024\n  2.76016  2.05996  1.94424  1.74722  1.5519   0.5619  -0.02183  0.19106]"
        ],
        [
         "2006-01-04 00:00:00",
         "[ 0.10122  0.6918   0.183    0.2482   0.62466  0.41885  0.61465  0.52432\n -0.0963   0.52505  1.60952  2.5004   2.80142  3.14492  3.09634  2.72158\n  1.77065  1.0248   0.4274   0.11587 -0.44712 -0.93735 -1.40024 -1.6666 ]"
        ],
        [
         "2006-01-05 00:00:00",
         "[-1.5853  -1.42515 -1.02085 -0.7291  -0.59238 -0.6649  -0.83726 -0.62266\n -0.2767   0.00576  0.34268  0.5292   0.67788  0.90664  1.22207  0.99648\n  0.9606   0.965    1.0016   1.24062  1.40127  1.09707  1.21206  1.17373]"
        ],
        [
         "2006-01-06 00:00:00",
         "[ 0.97134  0.38345  0.20254 -0.15342 -0.81016 -1.3856  -1.74448 -1.90732\n -1.89048 -1.20078 -0.18052  0.85366  1.48965  1.92715  2.12344  1.88687\n  1.54482  1.2753   0.75967  0.5131   0.67666  0.63076  0.3036   1.01113]"
        ],
        [
         "2006-01-07 00:00:00",
         "[0.6664  1.52603 1.80508 1.5541  1.537   1.71206 1.51187 1.51724 1.21157\n 0.52114 1.18447 1.74526 2.558   3.13076 3.3788  3.2355  2.37686 1.83486\n 1.3881  1.18203 1.0973  0.49917 1.01968 1.00723]"
        ],
        [
         "2006-01-08 00:00:00",
         "[ 1.04897  0.80947  0.62954  0.5214   0.20034 -0.00693 -0.0543   0.10317\n  0.32607  0.45425  1.4828   2.17104  3.38345  4.06948  4.13784  4.10513\n  3.61514  2.9877   2.68496  2.3212   1.57925  0.95547  0.4562   0.04556]"
        ],
        [
         "2006-01-09 00:00:00",
         "[-0.1185  -0.4432  -1.07725 -1.11655 -1.41196 -1.51133 -1.76768 -1.96958\n -1.47007 -0.77476  0.39565  1.53945  2.93496  3.68228  3.8954   3.0502\n  0.7233  -0.44126 -1.19517 -1.37363 -2.03452 -2.74888 -2.40708 -2.77842]"
        ],
        [
         "2006-01-10 00:00:00",
         "[-3.24082 -3.25767 -3.4432  -3.52598 -3.72617 -3.85605 -4.27622 -4.15073\n -4.15317 -2.67026 -1.02012  0.5895   1.83804  2.86562  3.15054  3.08804\n  1.86782  1.48135  1.57144  1.7355   1.7621   1.7477   1.41152  1.39492]"
        ],
        [
         "2006-01-11 00:00:00",
         "[1.19497 0.97402 0.8556  0.91104 0.58682 0.485   0.52554 0.2062  0.6437\n 1.2455  1.50796 2.3444  2.77676 2.84146 3.04116 3.0375  3.08047 3.0619\n 3.07583 3.06826 3.03945 3.12002 3.47134 3.55703]"
        ],
        [
         "2006-01-12 00:00:00",
         "[3.82217 3.47866 3.75527 3.7162  3.6017  3.4401  3.29604 3.01064 2.77212\n 2.73403 3.07437 3.339   3.5082  3.79678 3.97988 3.89883 3.81997 3.71426\n 3.71963 3.5297  3.35708 3.35635 3.07412 3.14614]"
        ],
        [
         "2006-01-13 00:00:00",
         "[ 2.9064   2.69082  2.57803  2.0668   1.52993  1.24282  0.74038  0.24893\n -0.20444 -0.8004  -0.37192 -0.12046  0.60977  1.2814   1.68862  2.09414\n  2.12295  1.83315  1.4235   1.03213  0.45864 -0.03965 -0.95615 -1.31504]"
        ],
        [
         "2006-01-14 00:00:00",
         "[-1.52793 -1.58896 -1.47446 -1.54258 -1.58335 -1.6976  -1.94443 -2.12632\n -2.0875  -0.3912   1.39565  2.79482  4.03823  5.10806  5.58828  5.267\n  3.23086  1.47012  0.85732  0.579    0.3119  -0.10728 -0.4608  -0.94907]"
        ],
        [
         "2006-01-15 00:00:00",
         "[-1.38193 -1.9249  -2.3043  -2.87974 -3.39878 -3.62095 -3.84482 -4.08335\n -4.3463  -2.85166 -1.03184  0.43032  2.0502   2.77407  3.12783  2.5165\n  0.88882 -0.2838  -0.78086 -0.95762 -1.57285 -2.12534 -2.2794  -2.02842]"
        ],
        [
         "2006-01-16 00:00:00",
         "[-1.7098  -1.49717 -1.27036 -1.10508 -1.06382 -0.98423 -1.0953  -1.0128\n -0.77378  0.1786   1.71084  2.81313  3.97402  4.8207   5.19082  4.6227\n  4.45498  4.36147  4.32437  4.46646  4.5536   4.54336  4.77065  4.861  ]"
        ],
        [
         "2006-01-17 00:00:00",
         "[4.96084 5.1454  5.39053 5.87515 6.08975 6.08853 5.9401  5.8024  5.87124\n 6.01016 6.01675 6.30752 6.71304 6.96963 7.1027  7.21523 7.2643  7.25967\n 7.3124  7.3207  6.9999  6.6183  6.18276 5.88076]"
        ],
        [
         "2006-01-18 00:00:00",
         "[5.69766 5.65835 5.34585 4.85073 4.5563  4.68643 4.7931  4.82705 5.15396\n 5.51235 6.37612 6.70498 6.81704 7.01626 6.9828  7.06313 7.18618 6.95254\n 6.59463 6.49478 6.14663 5.64248 5.01406 4.94644]"
        ],
        [
         "2006-01-19 00:00:00",
         "[4.94546 4.79727 4.6957  4.99307 5.1608  5.13882 5.0192  5.02065 5.2975\n 5.53774 6.10244 6.82144 7.37588 7.7831  8.23525 8.6232  8.57363 8.60513\n 8.6869  8.59072 8.51064 8.31313 8.12856 7.76748]"
        ],
        [
         "2006-01-20 00:00:00",
         "[7.33193 7.35854 7.1415  7.15542 7.1078  6.96328 7.08022 7.2277  7.44082\n 7.82485 8.28604 8.50137 8.89126 9.11392 9.4064  8.72354 8.39883 7.71035\n 7.55825 6.45864 5.26187 4.4274  3.93838 3.87905]"
        ],
        [
         "2006-01-21 00:00:00",
         "[3.76577 3.59463 3.38955 3.0795  2.69644 2.5497  2.11733 1.66128 1.54287\n 2.6459  4.34512 5.39297 6.05483 6.4357  6.8063  6.9518  6.642   5.19937\n 4.36025 4.5287  3.64053 3.55483 3.0292  3.27676]"
        ],
        [
         "2006-01-22 00:00:00",
         "[3.75234 4.2494  4.27725 3.79604 3.03652 2.7587  2.84023 2.6569  2.84023\n 3.0209  3.98745 4.34414 4.75112 4.62124 4.53896 4.2814  3.88052 3.3622\n 2.97402 2.86294 2.84707 2.59072 2.6039  2.5182 ]"
        ],
        [
         "2006-01-23 00:00:00",
         "[ 2.2726   2.10244  1.89785  1.42544  0.72378 -0.29868 -1.75596 -2.49766\n -2.8065  -2.087   -1.1727  -0.30503  0.75454  1.44448  1.8942   1.6913\n  0.75967 -0.41514 -0.9818  -1.55015 -2.13853 -2.59458 -2.8878  -3.10337]"
        ],
        [
         "2006-01-24 00:00:00",
         "[-3.2794  -3.79307 -4.02085 -4.19297 -4.49253 -4.6478  -4.90635 -5.04966\n -4.79502 -3.765   -2.4896  -1.12168 -0.03428  0.77505  0.94326  0.8119\n  0.32754 -0.9459  -1.5831  -2.26523 -2.79844 -3.4608  -3.9017  -4.70054]"
        ],
        [
         "2006-01-25 00:00:00",
         "[-5.08042 -5.26743 -5.87607 -5.91562 -6.02842 -5.93076 -5.68076 -5.473\n -5.86265 -5.0985  -3.21982 -1.65806 -0.46372  0.4584   1.09316  1.0104\n  0.81436  0.15933  0.19253  0.48037  0.96987  1.17715  1.50723  1.88418]"
        ],
        [
         "2006-01-26 00:00:00",
         "[ 1.9313   2.11172  1.79238  1.4213   1.4318   1.183    1.04336  0.5165\n  0.34683  0.13906 -0.29844 -0.16147  0.089    0.10635 -0.1395  -0.58115\n -0.91123 -1.54575 -1.88608 -2.44517 -3.09385 -3.514   -3.17612 -3.4603 ]"
        ],
        [
         "2006-01-27 00:00:00",
         "[-3.73472 -4.03037 -4.58384 -4.95542 -5.18027 -5.45786 -5.49302 -5.46372\n -5.19468 -4.7601  -4.30674 -3.61338 -3.17002 -2.88438 -2.66538 -2.79966\n -3.31235 -4.59678 -5.1893  -5.39756 -5.73716 -5.73276 -6.12705 -6.03623]"
        ],
        [
         "2006-01-28 00:00:00",
         "[-5.71445 -5.65537 -5.7501  -5.41465 -5.4857  -5.20493 -4.5626  -4.24937\n -4.0792  -3.39658 -2.3602  -0.89927  0.61245  2.06533  3.22817  3.13442\n  2.81484  1.92178  1.50283  1.38052  0.95913  0.39102 -0.0328  -0.4564 ]"
        ],
        [
         "2006-01-29 00:00:00",
         "[-1.0421  -1.5516  -2.1959  -2.27183 -2.27524 -2.36826 -2.4398  -2.4022\n -1.9349   0.23232  2.4994   4.55557  6.25454  7.52407  8.1669   8.02236\n  6.65298  4.5541   3.66567  2.69253  1.34292  0.32925 -0.3983  -1.22983]"
        ],
        [
         "2006-01-30 00:00:00",
         "[-1.79478 -2.30942 -2.87852 -3.3453  -3.70933 -3.87192 -3.89878 -3.99302\n -2.88242 -0.9874   1.2272   3.02236  4.57192  6.0065   6.8561   6.71182\n  5.02407  2.86538  1.86978  1.225    0.5297  -0.1661  -0.83115 -1.01523]"
        ],
        [
         "2006-01-31 00:00:00",
         "[-1.41123 -1.78306 -2.1749  -2.5941  -2.82188 -3.04673 -3.09604 -3.3956\n -2.88535 -1.12095  0.71694  2.1547   3.55215  4.84292  5.61147  5.7106\n  4.04043  1.7787   1.01797  0.21597 -0.94102 -2.02427 -2.3702  -2.96592]"
        ],
        [
         "2006-02-01 00:00:00",
         "[-3.59458 -4.1998  -4.65586 -4.83262 -5.14365 -5.5548  -5.99595 -6.06968\n -5.68638 -3.6307  -1.75864  0.15762  2.20376  3.58218  4.17837  3.95547\n  3.23257  0.93154 -1.43198 -1.96592 -2.63804 -2.70566 -3.32773 -3.41   ]"
        ],
        [
         "2006-02-02 00:00:00",
         "[-2.9205  -2.28037 -2.0455  -1.73276 -1.7086  -1.8309  -1.70615 -1.55088\n -1.83677 -1.92734 -1.5206  -1.80186 -1.56748 -1.7496  -1.76353 -1.62388\n -1.65122 -1.9315  -1.8458  -2.17417 -2.29478 -2.36777 -2.75156 -3.54185]"
        ],
        [
         "2006-02-03 00:00:00",
         "[-4.39512 -4.84556 -5.00864 -5.05503 -5.0582  -4.79307 -5.05356 -5.42344\n -5.15195 -4.64634 -4.14976 -3.3917  -2.74912 -2.13584 -1.81772 -1.68345\n -2.31772 -2.71055 -3.05698 -3.2423  -3.37534 -3.4288  -3.36802 -3.296  ]"
        ],
        [
         "2006-02-04 00:00:00",
         "[-3.0306  -2.8702  -2.45054 -2.22642 -1.86826 -1.84214 -1.41245 -1.0194\n -0.91636  0.20156  0.96304  1.79824  1.9872   2.3727   2.49478  2.68228\n  2.2277   1.1232   0.96108  0.6691   0.58267  0.6061   0.80898  0.923  ]"
        ],
        [
         "2006-02-05 00:00:00",
         "[1.34976 1.4042  1.69717 1.9042  1.4977  1.2067  1.06313 0.94082 1.28115\n 1.64858 2.21914 2.4755  2.92935 3.38906 3.73037 3.5104  3.2577  3.13564\n 3.01943 3.05288 3.61294 3.83413 4.02847 4.25503]"
        ],
        [
         "2006-02-06 00:00:00",
         "[4.3881  4.3224  4.28213 4.07363 3.99917 3.96523 4.04604 3.92812 3.88906\n 4.16543 4.76504 5.24746 5.95767 6.03726 5.8766  5.75308 5.26602 4.28823\n 4.13857 4.27603 4.10977 4.07388 3.30728 3.1232 ]"
        ],
        [
         "2006-02-07 00:00:00",
         "[2.8561  2.76602 2.83657 3.12808 3.2277  3.46255 3.38857 3.11782 3.30068\n 4.03262 4.7277  4.70376 5.31118 5.75918 5.54385 6.1044  5.8256  5.88394\n 5.7692  5.45718 4.90957 4.5436  4.50186 4.49136]"
        ],
        [
         "2006-02-08 00:00:00",
         "[4.6603  4.7892  4.84048 4.87222 4.62515 4.43398 4.46133 4.1     3.87197\n 3.9423  4.89224 6.142   6.93105 7.37026 6.93618 6.85952 6.02627 5.05532\n 4.23403 3.45913 2.97646 2.24307 2.20327 1.8412 ]"
        ],
        [
         "2006-02-09 00:00:00",
         "[ 1.8705   1.50552  1.34194  1.6327   1.56118  1.34707  1.37466  1.38027\n  1.5585   2.2548   3.33193  3.14126  3.3954   3.5375   3.78945  3.52554\n  3.2919   2.22183  1.5099   1.152    0.83657  0.76504 -0.06577 -0.08164]"
        ],
        [
         "2006-02-10 00:00:00",
         "[-0.15098 -0.2108  -0.3126  -0.2706  -0.19224 -0.2269  -0.46152 -0.62632\n -0.47275  0.7726   2.5983   3.35977  3.9308   4.55947  5.1564   4.88467\n  4.1891   3.50015  2.46792  1.5607   0.90762  0.12026 -0.66343 -0.6456 ]"
        ],
        [
         "2006-02-11 00:00:00",
         "[-1.2252  -1.33555 -1.40024 -1.80747 -1.4586  -1.0106  -1.29062 -0.36606\n -0.0416   0.71084  1.8046   2.90176  3.65762  3.99746  4.14785  4.08877\n  4.0099   4.06875  3.6913   3.2123   3.2377   2.5812   2.5546   2.05386]"
        ],
        [
         "2006-02-12 00:00:00",
         "[ 1.63857  1.58413  1.0453   0.96646  0.65908  0.0275  -0.68638 -0.47178\n -0.08604  0.6786   1.98818  2.69253  3.3329   3.68887  3.9291   3.4667\n  2.97183  2.34487  1.88442  1.5485   1.10903  0.71475  0.42056  0.3483 ]"
        ],
        [
         "2006-02-13 00:00:00",
         "[0.31973 0.31362 0.41177 0.42202 0.43887 0.5458  0.61953 0.75088 0.87295\n 0.98867 1.22012 1.41665 1.8517  2.13467 2.4828  2.72988 2.80972 3.0629\n 3.23916 3.17935 3.18862 3.29458 2.7892  2.9396 ]"
        ],
        [
         "2006-02-14 00:00:00",
         "[3.09072 3.21182 3.26675 3.4379  3.59536 4.02676 4.0839  3.83706 3.506\n 4.10854 4.75747 5.88296 6.6669  7.02798 7.42007 7.0939  6.4733  6.23965\n 5.94937 5.81436 5.7897  5.725   5.00405 5.04678]"
        ],
        [
         "2006-02-15 00:00:00",
         "[ 5.34683  5.89272  6.32095  6.6376   6.5568   6.65298  6.68472  6.7101\n  6.5292   6.4723   6.8998   7.6681   8.11855  8.72817  9.48965 10.4081\n 10.66982 10.06216  9.6017   9.43838  9.35806  9.17715  8.45767  8.19106]"
        ],
        [
         "2006-02-16 00:00:00",
         "[ 7.71157  7.24233  7.2001   7.131    6.97256  7.1647   6.9506   7.07852\n  7.50674  7.8439   8.61367  8.9042   9.6608  10.25234  8.55605  8.29824\n  8.0917   6.89053  6.3119   6.19863  5.98037  5.7985   5.4567   5.50234]"
        ],
        [
         "2006-02-17 00:00:00",
         "[4.76406 4.47524 4.52285 4.4877  4.4855  4.31436 4.27285 4.82607 5.2311\n 5.72817 6.31802 7.42886 8.00918 8.40103 8.7223  9.0536  7.73184 7.11587\n 6.75918 6.214   6.0751  5.48086 5.02017 4.56582]"
        ],
        [
         "2006-02-18 00:00:00",
         "[4.25186 4.07876 3.65396 3.88345 4.52944 5.1078  4.59756 4.7726  5.59902\n 6.39443 7.11343 6.1205  6.83926 6.79116 6.4645  6.34707 6.37612 5.7714\n 5.4379  5.08486 4.8981  4.09634 3.98403 4.24233]"
        ],
        [
         "2006-02-19 00:00:00",
         "[4.23843 4.37734 4.17935 4.05386 4.01187 4.4025  4.3107  4.18374 4.26528\n 4.7643  6.18813 6.81582 6.92104 7.26992 7.6381  7.55776 6.92593 6.41592\n 6.01235 5.80654 5.62368 5.50698 6.42007 6.3964 ]"
        ]
       ],
       "shape": {
        "columns": 1,
        "rows": 4971
       }
      },
      "text/html": [
       "<div>\n",
       "<style scoped>\n",
       "    .dataframe tbody tr th:only-of-type {\n",
       "        vertical-align: middle;\n",
       "    }\n",
       "\n",
       "    .dataframe tbody tr th {\n",
       "        vertical-align: top;\n",
       "    }\n",
       "\n",
       "    .dataframe thead tr th {\n",
       "        text-align: left;\n",
       "    }\n",
       "\n",
       "    .dataframe thead tr:last-of-type th {\n",
       "        text-align: right;\n",
       "    }\n",
       "</style>\n",
       "<table border=\"1\" class=\"dataframe\">\n",
       "  <thead>\n",
       "    <tr>\n",
       "      <th></th>\n",
       "      <th>y</th>\n",
       "    </tr>\n",
       "    <tr>\n",
       "      <th></th>\n",
       "      <th></th>\n",
       "    </tr>\n",
       "    <tr>\n",
       "      <th>time</th>\n",
       "      <th></th>\n",
       "    </tr>\n",
       "  </thead>\n",
       "  <tbody>\n",
       "    <tr>\n",
       "      <th>2006-01-01</th>\n",
       "      <td>[3.33438000000001, 3.4691400000000385, 3.53042...</td>\n",
       "    </tr>\n",
       "    <tr>\n",
       "      <th>2006-01-02</th>\n",
       "      <td>[3.5174800000000346, 3.6612800000000334, 3.796...</td>\n",
       "    </tr>\n",
       "    <tr>\n",
       "      <th>2006-01-03</th>\n",
       "      <td>[3.7616200000000504, 3.631740000000036, 3.6534...</td>\n",
       "    </tr>\n",
       "    <tr>\n",
       "      <th>2006-01-04</th>\n",
       "      <td>[0.10122000000001208, 0.6918000000000006, 0.18...</td>\n",
       "    </tr>\n",
       "    <tr>\n",
       "      <th>2006-01-05</th>\n",
       "      <td>[-1.585299999999961, -1.4251499999999737, -1.0...</td>\n",
       "    </tr>\n",
       "    <tr>\n",
       "      <th>...</th>\n",
       "      <td>...</td>\n",
       "    </tr>\n",
       "    <tr>\n",
       "      <th>2019-08-07</th>\n",
       "      <td>[17.902250000000038, 17.981600000000014, 17.79...</td>\n",
       "    </tr>\n",
       "    <tr>\n",
       "      <th>2019-08-08</th>\n",
       "      <td>[16.821439999999996, 16.56973000000005, 15.781...</td>\n",
       "    </tr>\n",
       "    <tr>\n",
       "      <th>2019-08-09</th>\n",
       "      <td>[22.027000000000044, 21.86220000000003, 21.928...</td>\n",
       "    </tr>\n",
       "    <tr>\n",
       "      <th>2019-08-10</th>\n",
       "      <td>[19.360000000000014, 19.297270000000026, 19.10...</td>\n",
       "    </tr>\n",
       "    <tr>\n",
       "      <th>2019-08-11</th>\n",
       "      <td>[16.55776000000003, 15.754050000000007, 15.026...</td>\n",
       "    </tr>\n",
       "  </tbody>\n",
       "</table>\n",
       "<p>4971 rows × 1 columns</p>\n",
       "</div>"
      ],
      "text/plain": [
       "                                                            y\n",
       "                                                             \n",
       "time                                                         \n",
       "2006-01-01  [3.33438000000001, 3.4691400000000385, 3.53042...\n",
       "2006-01-02  [3.5174800000000346, 3.6612800000000334, 3.796...\n",
       "2006-01-03  [3.7616200000000504, 3.631740000000036, 3.6534...\n",
       "2006-01-04  [0.10122000000001208, 0.6918000000000006, 0.18...\n",
       "2006-01-05  [-1.585299999999961, -1.4251499999999737, -1.0...\n",
       "...                                                       ...\n",
       "2019-08-07  [17.902250000000038, 17.981600000000014, 17.79...\n",
       "2019-08-08  [16.821439999999996, 16.56973000000005, 15.781...\n",
       "2019-08-09  [22.027000000000044, 21.86220000000003, 21.928...\n",
       "2019-08-10  [19.360000000000014, 19.297270000000026, 19.10...\n",
       "2019-08-11  [16.55776000000003, 15.754050000000007, 15.026...\n",
       "\n",
       "[4971 rows x 1 columns]"
      ]
     },
     "execution_count": 160,
     "metadata": {},
     "output_type": "execute_result"
    }
   ],
   "source": [
    "data_prunay_hourly_temp_predict_train[[('y','')]]"
   ]
  },
  {
   "cell_type": "code",
   "execution_count": null,
   "id": "93cabbc4",
   "metadata": {},
   "outputs": [],
   "source": [
    "# 1. Définir le nom de la colonne cible (MultiIndex)\n",
    "target_col = ('y', '')  # Si tes colonnes sont bien des MultiIndex\n",
    "\n",
    "# 2. Séparer X et y\n",
    "X_train = data_prunay_hourly_temp_predict_train.drop(columns=[target_col])\n",
    "y_train = data_prunay_hourly_temp_predict_train[target_col]\n",
    "\n",
    "X_val = data_prunay_hourly_temp_predict_val.drop(columns=[target_col])\n",
    "y_val = data_prunay_hourly_temp_predict_val[target_col]\n",
    "\n",
    "X_test = data_prunay_hourly_temp_predict_test.drop(columns=[target_col])\n",
    "y_test = data_prunay_hourly_temp_predict_test[target_col]\n",
    "\n",
    "# 3. Initialiser les scalers\n",
    "minmax_scaler_X = MinMaxScaler()\n",
    "minmax_scaler_y = MinMaxScaler()\n",
    "\n",
    "# 4. Appliquer fit_transform et transform\n",
    "X_train_scaled = minmax_scaler_X.fit_transform(X_train)\n",
    "X_val_scaled = minmax_scaler_X.transform(X_val)\n",
    "X_test_scaled = minmax_scaler_X.transform(X_test)\n",
    "\n",
    "y_train_array = np.vstack(y_train.values)\n",
    "y_val_array = np.vstack(y_val.values)\n",
    "y_test_array = np.vstack(y_test.values)\n",
    "\n",
    "y_train_scaled = minmax_scaler_y.fit_transform(y_train_array)\n",
    "y_val_scaled = minmax_scaler_y.transform(y_val_array)\n",
    "y_test_scaled = minmax_scaler_y.transform(y_test_array)\n"
   ]
  },
  {
   "cell_type": "code",
   "execution_count": null,
   "id": "ac79152e",
   "metadata": {},
   "outputs": [],
   "source": []
  }
 ],
 "metadata": {
  "kernelspec": {
   "display_name": "base",
   "language": "python",
   "name": "python3"
  },
  "language_info": {
   "codemirror_mode": {
    "name": "ipython",
    "version": 3
   },
   "file_extension": ".py",
   "mimetype": "text/x-python",
   "name": "python",
   "nbconvert_exporter": "python",
   "pygments_lexer": "ipython3",
   "version": "3.10.13"
  }
 },
 "nbformat": 4,
 "nbformat_minor": 5
}
